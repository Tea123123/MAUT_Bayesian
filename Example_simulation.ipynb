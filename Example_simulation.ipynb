{
 "cells": [
  {
   "cell_type": "code",
   "execution_count": 1,
   "id": "ede9a318",
   "metadata": {},
   "outputs": [],
   "source": [
    "import pandas as pd\n",
    "import numpy as np\n",
    "\n",
    "import matplotlib.pyplot as plt\n",
    "import math\n",
    "import seaborn as sns\n",
    "from collections import Counter"
   ]
  },
  {
   "cell_type": "code",
   "execution_count": 22,
   "id": "f4006ef2",
   "metadata": {},
   "outputs": [],
   "source": [
    "import math\n",
    "def u(x):\n",
    "    return math.log(x)"
   ]
  },
  {
   "cell_type": "code",
   "execution_count": 26,
   "id": "fc698979",
   "metadata": {},
   "outputs": [],
   "source": [
    "def us(x_list): #utility function for the list of values           \n",
    "    return [u(x) for x in x_list]"
   ]
  },
  {
   "cell_type": "code",
   "execution_count": 36,
   "id": "7c3f2f57",
   "metadata": {},
   "outputs": [],
   "source": [
    "def cal_post_mu2(m=3, mu=[0,0], s=[1,1], t=[1,3], w=[1/2, 1/2]):\n",
    "    \n",
    "    out_d = {\"x_j\":[], \"x\":[], \"y_j\":[], \"y\":[], \"eu_pr\":[], \"eu_pw\":[]} #dictionary that is returned\n",
    "    \n",
    "    i_t = [] #list to store index of maximum true multiattribute utility\n",
    "    \n",
    "    #list to store index of maximum \n",
    "    i_e = [] #estimates\n",
    "    i_pr = [] #posterior right way\n",
    "    i_pw = [] #posterior wrong way\n",
    "\n",
    "    \n",
    "    def cal_u(multiatt):\n",
    "        ul = [u(multiatt[i]) for i in range(len(multiatt))]\n",
    "        return np.dot(w, ul)\n",
    "    \n",
    "    for k in range(50000):\n",
    "        x = []\n",
    "        eu = []\n",
    "        eu_pr = []\n",
    "        eu_pw = []\n",
    "        x_js = []\n",
    "        y_js = []\n",
    "            \n",
    "        for j in range(m): #loop for generating m number of mu alternatives\n",
    "\n",
    "            \n",
    "            n = len(mu) #number of attributes\n",
    "            x_j = [np.random.lognormal(mu[i], s[i],1)[0] for i in range(n)] #generate true mu of one alternative\n",
    "            x.append(cal_u(x_j)) #append the m.a.utility of one mu alternative u(x_j)           \n",
    "            x_js.append(x_j)\n",
    "            \n",
    "            y_j = [np.random.lognormal(math.log(x_j[i])-((t[i]**2)/2), t[i],1)[0] for i in range(n)] #generate estimated mu of one alternative            \n",
    "            eu.append(cal_u(y_j)) #append the m.a.utility of one mu estimates u(y_j)\n",
    "            y_js.append(y_j)\n",
    "            \n",
    "            x_jp_r = [] #one alternative, right way\n",
    "            x_jp_w = [] #one alternative, wrong way\n",
    "            \n",
    "            for i in range(n): #loop for generating posterior mu for one alternative\n",
    "                p_mean = (t[i]**2/(s[i]**2 + t[i]**2))*mu[i] + (s[i]**2/(s[i]**2 + t[i]**2))*(math.log(y_j[i])+((t[i]**2)/2))\n",
    "                p_var = (s[i]**2*t[i]**2)/(s[i]**2 + t[i]**2)\n",
    "                \n",
    "                x_p_ji = list(np.random.lognormal(p_mean, np.sqrt(p_var),10000))\n",
    "                \n",
    "                #right way\n",
    "                x_jp_r.append(np.mean(us(x_p_ji)))\n",
    "                #wrong way\n",
    "                x_jp_w.append(np.mean(x_p_ji))\n",
    "\n",
    "            #wrong way\n",
    "            eu_pw.append(cal_u(x_jp_w)) #append u(x) of one posterior alternative (repeated 1000 times)            \n",
    "            \n",
    "            #right way\n",
    "            eu_pr.append(np.dot(w, x_jp_r)) #append w_i*E[u(x)|y]\n",
    "        \n",
    "        out_d[\"x_j\"].append(x_js)\n",
    "        out_d[\"y_j\"].append(y_js)\n",
    "        out_d[\"x\"].append(x)   \n",
    "        out_d[\"y\"].append(eu)\n",
    "        out_d[\"eu_pr\"].append(eu_pr)\n",
    "        out_d[\"eu_pw\"].append(eu_pw)\n",
    "        \n",
    "        #index of true max\n",
    "        max_ix = x.index(max(x))\n",
    "        i_t.append(max_ix)\n",
    "              \n",
    "        ###Saving result from estimates\n",
    "        #Choose the alternative $j^$ with the highest expected utility\n",
    "        max_eu = max(eu)\n",
    "        max_j = eu.index(max_eu)\n",
    "        i_e.append(max_j)\n",
    "\n",
    "        \n",
    "        ###Saving result from posterior right way\n",
    "        #Choose the alternative $j^$ with the highest expected utility\n",
    "        max_eu1 = max(eu_pr)\n",
    "        max_j1 = eu_pr.index(max_eu1)\n",
    "        i_pr.append(max_j1)\n",
    "        \n",
    "\n",
    "        ###Saving result from posterior wrong way\n",
    "        #Choose the alternative $j^$ with the highest expected utility\n",
    "        max_eu2 = max(eu_pw)\n",
    "        max_j2 = eu_pw.index(max_eu2)\n",
    "        i_pw.append(max_j2)\n",
    "\n",
    "    out_d[\"i_t\"] = i_t\n",
    "    out_d[\"i_e\"] = i_e\n",
    "    out_d[\"i_pr\"] = i_pr\n",
    "    out_d[\"i_pw\"] = i_pw\n",
    "\n",
    "    \n",
    "    return out_d"
   ]
  },
  {
   "cell_type": "code",
   "execution_count": 24,
   "id": "dc92dc9c",
   "metadata": {},
   "outputs": [
    {
     "data": {
      "text/plain": [
       "<matplotlib.legend.Legend at 0x7fa6c890f6d0>"
      ]
     },
     "execution_count": 24,
     "metadata": {},
     "output_type": "execute_result"
    },
    {
     "data": {
      "image/png": "[encoded data removed]",
      "text/plain": [
       "<Figure size 432x288 with 1 Axes>"
      ]
     },
     "metadata": {
      "needs_background": "light"
     },
     "output_type": "display_data"
    }
   ],
   "source": [
    "X = np.arange(0.01,3,0.05)\n",
    "Y3 = [u(x) for x in X] \n",
    "plt.plot(X,Y3, label='linear') \n",
    "plt.axvline(0, color='k')\n",
    "plt.axhline(0, color='k')\n",
    "\n",
    "import matplotlib.ticker as plticker\n",
    "\n",
    "\n",
    "plt.yticks(np.arange(-.25, 1.25, 0.25))\n",
    "\n",
    "plt.grid(which='major', axis='both', linestyle='-')\n",
    "plt.legend()"
   ]
  },
  {
   "cell_type": "code",
   "execution_count": 49,
   "id": "bfd9878c",
   "metadata": {},
   "outputs": [],
   "source": [
    "r2 = cal_post_mu2()"
   ]
  },
  {
   "cell_type": "code",
   "execution_count": 50,
   "id": "8e88efd2",
   "metadata": {},
   "outputs": [
    {
     "name": "stdout",
     "output_type": "stream",
     "text": [
      "529\n",
      "1218\n",
      "1366\n",
      "1597\n",
      "1624\n",
      "2045\n",
      "2942\n",
      "4133\n",
      "5013\n",
      "5078\n",
      "5242\n",
      "5380\n",
      "5532\n",
      "5534\n",
      "5684\n",
      "5803\n",
      "6743\n",
      "6840\n",
      "6936\n",
      "7143\n",
      "7779\n",
      "8355\n",
      "9078\n",
      "10324\n",
      "10977\n",
      "11287\n",
      "11332\n",
      "11370\n",
      "11921\n",
      "12841\n",
      "13168\n",
      "13994\n",
      "14612\n",
      "15167\n",
      "15827\n",
      "17159\n",
      "18132\n",
      "18148\n",
      "19065\n",
      "19543\n",
      "19843\n",
      "19907\n",
      "21929\n",
      "22088\n",
      "23594\n",
      "24801\n",
      "24936\n",
      "25279\n",
      "25362\n",
      "25584\n",
      "25959\n",
      "26277\n",
      "26374\n",
      "26490\n",
      "26627\n",
      "26655\n",
      "26876\n",
      "26918\n",
      "27247\n",
      "27253\n",
      "28403\n",
      "29065\n",
      "29075\n",
      "30141\n",
      "30316\n",
      "30576\n",
      "30700\n",
      "32297\n",
      "33213\n",
      "33582\n",
      "33641\n",
      "34486\n",
      "34836\n",
      "34927\n",
      "35309\n",
      "36155\n",
      "36888\n",
      "36912\n",
      "37312\n",
      "38530\n",
      "38662\n",
      "39484\n",
      "39647\n",
      "40265\n",
      "42367\n",
      "42803\n",
      "43908\n",
      "44090\n",
      "44205\n",
      "44336\n",
      "44756\n",
      "45154\n",
      "45347\n",
      "45995\n",
      "47252\n",
      "47257\n",
      "47438\n",
      "47603\n",
      "47882\n",
      "48487\n",
      "48608\n",
      "48953\n",
      "49458\n"
     ]
    }
   ],
   "source": [
    "for i in range(len(r2[\"i_e\"])):\n",
    "    if (r2[\"i_t\"][i]!=r2[\"i_pr\"][i]) & (r2[\"i_t\"][i]!=r2[\"i_e\"][i]) & ((r2[\"i_e\"][i]!=r2[\"i_pr\"][i])) & (r2[\"i_pr\"][i]!=r2[\"i_pw\"][i]):\n",
    "        print(i)"
   ]
  },
  {
   "cell_type": "code",
   "execution_count": 39,
   "id": "7a3159ec",
   "metadata": {},
   "outputs": [],
   "source": [
    "def print_values(index):\n",
    "    print(\"x_js: \", r2[\"x_j\"][index])\n",
    "    print(\"x: \", r2[\"x\"][index])\n",
    "    print(\"y_js: \", r2[\"y_j\"][index])\n",
    "    print(\"y: \", r2[\"y\"][index])\n",
    "    print(\"eu_pr: \", r2[\"eu_pr\"][index])\n",
    "    print(\"eu_pw: \", r2[\"eu_pw\"][index])"
   ]
  },
  {
   "cell_type": "code",
   "execution_count": 40,
   "id": "0c08e332",
   "metadata": {
    "scrolled": true
   },
   "outputs": [
    {
     "name": "stdout",
     "output_type": "stream",
     "text": [
      "x_js:  [[0.3458855912400835, 1.7184186396998429], [1.945108393347429, 1.289124732923006], [2.833456136560697, 1.1929922657300147]]\n",
      "x:  [-0.26012137368098737, 0.45964059561109094, 0.6089809381282386]\n",
      "y_js:  [[0.28901016948852354, 0.0001045050528190847], [0.9117670916353134, 0.7049133747461451], [6.352481445726028, 0.19545494259174362]]\n",
      "y:  [-5.203784269169905, -0.22102552996099986, 0.10821005831439678]\n",
      "eu_pr:  [-0.4045113533283517, 0.31623460699300887, 0.7206968164642424]\n",
      "eu_pw:  [-0.06087918442863664, 0.6646153158611323, 1.074651242146615]\n"
     ]
    }
   ],
   "source": [
    "print_values(1304)"
   ]
  },
  {
   "cell_type": "code",
   "execution_count": 41,
   "id": "8b21ad47",
   "metadata": {},
   "outputs": [],
   "source": [
    "def make_df(index):\n",
    "    d = {}\n",
    "    d[r\"x_1j\"] = np.array(r2[\"x_j\"][index])[:, 0]\n",
    "    d[\"x_2j\"] = np.array(r2[\"x_j\"][index])[:, 1]\n",
    "    \n",
    "    \n",
    "    d[\"y_1j\"] = np.array(r2[\"y_j\"][index])[:, 0]\n",
    "    d[\"y_2j\"] = np.array(r2[\"y_j\"][index])[:, 1]\n",
    "    d[\"x\"] =r2[\"x\"][index]\n",
    "    d[\"y\"]= r2[\"y\"][index]\n",
    "    d[\"eu_pr\"]= r2[\"eu_pr\"][index]\n",
    "    d[\"eu_pw\"]= r2[\"eu_pw\"][index]\n",
    "    return d"
   ]
  },
  {
   "cell_type": "code",
   "execution_count": 66,
   "id": "c53cfd24",
   "metadata": {
    "scrolled": true
   },
   "outputs": [
    {
     "data": {
      "text/html": [
       "<div>\n",
       "<style scoped>\n",
       "    .dataframe tbody tr th:only-of-type {\n",
       "        vertical-align: middle;\n",
       "    }\n",
       "\n",
       "    .dataframe tbody tr th {\n",
       "        vertical-align: top;\n",
       "    }\n",
       "\n",
       "    .dataframe thead th {\n",
       "        text-align: right;\n",
       "    }\n",
       "</style>\n",
       "<table border=\"1\" class=\"dataframe\">\n",
       "  <thead>\n",
       "    <tr style=\"text-align: right;\">\n",
       "      <th></th>\n",
       "      <th>x_1j</th>\n",
       "      <th>x_2j</th>\n",
       "      <th>y_1j</th>\n",
       "      <th>y_2j</th>\n",
       "      <th>x</th>\n",
       "      <th>y</th>\n",
       "      <th>eu_pr</th>\n",
       "      <th>eu_pw</th>\n",
       "    </tr>\n",
       "  </thead>\n",
       "  <tbody>\n",
       "    <tr>\n",
       "      <th>0</th>\n",
       "      <td>0.303094</td>\n",
       "      <td>0.136226</td>\n",
       "      <td>0.564899</td>\n",
       "      <td>0.004711</td>\n",
       "      <td>-1.593575</td>\n",
       "      <td>-2.964487</td>\n",
       "      <td>-0.077755</td>\n",
       "      <td>0.270079</td>\n",
       "    </tr>\n",
       "    <tr>\n",
       "      <th>1</th>\n",
       "      <td>1.555574</td>\n",
       "      <td>0.885997</td>\n",
       "      <td>0.284592</td>\n",
       "      <td>0.000277</td>\n",
       "      <td>0.160401</td>\n",
       "      <td>-4.724392</td>\n",
       "      <td>-0.380692</td>\n",
       "      <td>-0.047471</td>\n",
       "    </tr>\n",
       "    <tr>\n",
       "      <th>2</th>\n",
       "      <td>2.171328</td>\n",
       "      <td>0.124223</td>\n",
       "      <td>0.823607</td>\n",
       "      <td>0.000991</td>\n",
       "      <td>-0.655170</td>\n",
       "      <td>-3.555635</td>\n",
       "      <td>-0.071494</td>\n",
       "      <td>0.268068</td>\n",
       "    </tr>\n",
       "  </tbody>\n",
       "</table>\n",
       "</div>"
      ],
      "text/plain": [
       "       x_1j      x_2j      y_1j      y_2j         x         y     eu_pr  \\\n",
       "0  0.303094  0.136226  0.564899  0.004711 -1.593575 -2.964487 -0.077755   \n",
       "1  1.555574  0.885997  0.284592  0.000277  0.160401 -4.724392 -0.380692   \n",
       "2  2.171328  0.124223  0.823607  0.000991 -0.655170 -3.555635 -0.071494   \n",
       "\n",
       "      eu_pw  \n",
       "0  0.270079  \n",
       "1 -0.047471  \n",
       "2  0.268068  "
      ]
     },
     "execution_count": 66,
     "metadata": {},
     "output_type": "execute_result"
    }
   ],
   "source": [
    "df = pd.DataFrame(make_df(45154))\n",
    "df"
   ]
  },
  {
   "cell_type": "code",
   "execution_count": 67,
   "id": "5ccdcd6c",
   "metadata": {},
   "outputs": [
    {
     "data": {
      "text/plain": [
       "0   -0.347834\n",
       "1   -0.333221\n",
       "2   -0.339563\n",
       "dtype: float64"
      ]
     },
     "execution_count": 67,
     "metadata": {},
     "output_type": "execute_result"
    }
   ],
   "source": [
    "df[\"eu_pr\"]-df[\"eu_pw\"]"
   ]
  },
  {
   "cell_type": "code",
   "execution_count": 68,
   "id": "d322705c",
   "metadata": {},
   "outputs": [
    {
     "data": {
      "text/plain": [
       "0.35"
      ]
     },
     "execution_count": 68,
     "metadata": {},
     "output_type": "execute_result"
    }
   ],
   "source": [
    "14/40"
   ]
  },
  {
   "cell_type": "code",
   "execution_count": null,
   "id": "32159559",
   "metadata": {},
   "outputs": [],
   "source": []
  },
  {
   "cell_type": "code",
   "execution_count": null,
   "id": "5cfcfeb6",
   "metadata": {},
   "outputs": [],
   "source": []
  },
  {
   "cell_type": "code",
   "execution_count": null,
   "id": "aaf0916e",
   "metadata": {},
   "outputs": [],
   "source": []
  },
  {
   "cell_type": "code",
   "execution_count": null,
   "id": "e1287aee",
   "metadata": {},
   "outputs": [],
   "source": []
  },
  {
   "cell_type": "code",
   "execution_count": null,
   "id": "f6ea52a3",
   "metadata": {},
   "outputs": [],
   "source": []
  },
  {
   "cell_type": "code",
   "execution_count": 62,
   "id": "bceaa219",
   "metadata": {},
   "outputs": [
    {
     "data": {
      "text/plain": [
       "array([1.94274289, 0.34864082, 1.44545229])"
      ]
     },
     "execution_count": 62,
     "metadata": {},
     "output_type": "execute_result"
    }
   ],
   "source": [
    "np.array(r2[\"x_j\"][0]).T[0]"
   ]
  },
  {
   "cell_type": "code",
   "execution_count": 65,
   "id": "db2adf33",
   "metadata": {},
   "outputs": [
    {
     "data": {
      "text/plain": [
       "array([[[ 1.94274289,  0.19648732],\n",
       "        [ 0.34864082,  1.45260039],\n",
       "        [ 1.44545229,  0.24721168]],\n",
       "\n",
       "       [[ 1.18536831,  1.71295059],\n",
       "        [ 0.29568802,  0.40277985],\n",
       "        [ 4.14400118,  0.62352713]],\n",
       "\n",
       "       [[ 3.91934108,  1.65269884],\n",
       "        [ 0.81695325,  0.59744301],\n",
       "        [ 0.37926005,  0.41834199]],\n",
       "\n",
       "       ...,\n",
       "\n",
       "       [[ 0.27441095,  0.23952366],\n",
       "        [ 0.95906791,  6.51715162],\n",
       "        [ 3.86127059,  0.46188448]],\n",
       "\n",
       "       [[ 0.39902283,  0.59768032],\n",
       "        [ 1.09368869,  0.65097647],\n",
       "        [ 2.59046039,  1.55715369]],\n",
       "\n",
       "       [[ 0.36992952, 10.35780819],\n",
       "        [ 3.43669276,  1.89378678],\n",
       "        [ 1.85491666,  3.52821315]]])"
      ]
     },
     "execution_count": 65,
     "metadata": {},
     "output_type": "execute_result"
    }
   ],
   "source": [
    "np.array(r2[\"x_j\"])"
   ]
  },
  {
   "cell_type": "code",
   "execution_count": null,
   "id": "1bbd225c",
   "metadata": {},
   "outputs": [],
   "source": []
  },
  {
   "cell_type": "code",
   "execution_count": null,
   "id": "f6a04758",
   "metadata": {},
   "outputs": [],
   "source": []
  },
  {
   "cell_type": "code",
   "execution_count": 82,
   "id": "42eb7c0b",
   "metadata": {},
   "outputs": [
    {
     "data": {
      "text/plain": [
       "[[0.02864994429874386, 0.003920846945755303],\n",
       " [2.9632247509530467, 0.9861663961186699],\n",
       " [10.070883148750413, 0.003437592157254026]]"
      ]
     },
     "execution_count": 82,
     "metadata": {},
     "output_type": "execute_result"
    }
   ],
   "source": [
    "r2[\"y_j\"][0]"
   ]
  },
  {
   "cell_type": "code",
   "execution_count": 88,
   "id": "3c005f5d",
   "metadata": {},
   "outputs": [],
   "source": [
    "i = 2"
   ]
  },
  {
   "cell_type": "code",
   "execution_count": 89,
   "id": "6d415606",
   "metadata": {
    "scrolled": true
   },
   "outputs": [
    {
     "data": {
      "text/plain": [
       "[1.4506195691572346, -0.026418988962673057, 0.9244020085317628]"
      ]
     },
     "execution_count": 89,
     "metadata": {},
     "output_type": "execute_result"
    }
   ],
   "source": [
    "r2[\"x\"][i]"
   ]
  },
  {
   "cell_type": "code",
   "execution_count": 90,
   "id": "ea0e2fff",
   "metadata": {},
   "outputs": [
    {
     "data": {
      "text/plain": [
       "[-6.761804273535427, -3.1247897660117503, -2.6808925088734696]"
      ]
     },
     "execution_count": 90,
     "metadata": {},
     "output_type": "execute_result"
    }
   ],
   "source": [
    "r2[\"y\"][i]"
   ]
  },
  {
   "cell_type": "code",
   "execution_count": 91,
   "id": "af8b639c",
   "metadata": {},
   "outputs": [
    {
     "data": {
      "text/plain": [
       "[-0.10340364961785803, -0.24498513501614072, 0.037524276546244045]"
      ]
     },
     "execution_count": 91,
     "metadata": {},
     "output_type": "execute_result"
    }
   ],
   "source": [
    "r2[\"eu_pr\"][i]"
   ]
  },
  {
   "cell_type": "code",
   "execution_count": 92,
   "id": "43663e75",
   "metadata": {},
   "outputs": [
    {
     "data": {
      "text/plain": [
       "[0.23580411154676473, 0.10061707741067027, 0.36906980155485813]"
      ]
     },
     "execution_count": 92,
     "metadata": {},
     "output_type": "execute_result"
    }
   ],
   "source": [
    "r2[\"eu_pw\"][i]"
   ]
  }
 ],
 "metadata": {
  "kernelspec": {
   "display_name": "Python 3 (ipykernel)",
   "language": "python",
   "name": "python3"
  },
  "language_info": {
   "codemirror_mode": {
    "name": "ipython",
    "version": 3
   },
   "file_extension": ".py",
   "mimetype": "text/x-python",
   "name": "python",
   "nbconvert_exporter": "python",
   "pygments_lexer": "ipython3",
   "version": "3.9.7"
  }
 },
 "nbformat": 4,
 "nbformat_minor": 5
}
