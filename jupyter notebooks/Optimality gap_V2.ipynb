{
 "cells": [
  {
   "cell_type": "code",
   "execution_count": 1,
   "metadata": {},
   "outputs": [
    {
     "name": "stderr",
     "output_type": "stream",
     "text": [
      "/Users/taeyoungkee/anaconda3/lib/python3.7/site-packages/pandas/compat/_optional.py:138: UserWarning: Pandas requires version '2.7.0' or newer of 'numexpr' (version '2.6.9' currently installed).\n",
      "  warnings.warn(msg, UserWarning)\n"
     ]
    }
   ],
   "source": [
    "import pandas as pd\n",
    "import numpy as np\n",
    "\n",
    "import matplotlib.pyplot as plt\n",
    "import math\n",
    "import seaborn as sns\n",
    "from collections import Counter"
   ]
  },
  {
   "cell_type": "code",
   "execution_count": 2,
   "metadata": {},
   "outputs": [],
   "source": [
    "def u(x,a,s):\n",
    "    if a == 0:\n",
    "        return (1/6*s)*x + 0.5\n",
    "    else: \n",
    "        def b(x):\n",
    "            return 1-math.e**(-a*x)\n",
    "        return (b(x)-b(-3*s))/(b(3*s)-b(-3*s))\n",
    "    \n",
    "def us(x_list, a, s): #utility function for the list of values           \n",
    "    return [u(x, a, s) for x in x_list]"
   ]
  },
  {
   "cell_type": "code",
   "execution_count": 3,
   "metadata": {},
   "outputs": [],
   "source": [
    "u_list = np.random.normal(0,1,1000)"
   ]
  },
  {
   "cell_type": "code",
   "execution_count": 4,
   "metadata": {},
   "outputs": [
    {
     "data": {
      "text/plain": [
       "<matplotlib.legend.Legend at 0x7f90a340bc50>"
      ]
     },
     "execution_count": 4,
     "metadata": {},
     "output_type": "execute_result"
    },
    {
     "data": {
      "image/png": "[encoded data removed]",
      "text/plain": [
       "<Figure size 432x288 with 1 Axes>"
      ]
     },
     "metadata": {
      "needs_background": "light"
     },
     "output_type": "display_data"
    }
   ],
   "source": [
    "X = np.arange(-3,3,0.05)\n",
    "Y1 = [u(x,0.367,1) for x in X]\n",
    "Y2 = [u(x,-0.367,1) for x in X]\n",
    "Y3 = [u(x,0,1) for x in X] \n",
    "plt.plot(X,Y3, label='linear') \n",
    "plt.plot(X,Y1, label='concave') \n",
    "plt.plot(X,Y2, label='convex') \n",
    "plt.axvline(0, color='k')\n",
    "plt.axhline(0, color='k')\n",
    "\n",
    "import matplotlib.ticker as plticker\n",
    "\n",
    "\n",
    "plt.yticks(np.arange(-.25, 1.25, 0.25))\n",
    "\n",
    "plt.grid(which='major', axis='both', linestyle='-')\n",
    "plt.legend()"
   ]
  },
  {
   "cell_type": "markdown",
   "metadata": {},
   "source": [
    "## Optimality gap, combined"
   ]
  },
  {
   "cell_type": "code",
   "execution_count": 21,
   "metadata": {},
   "outputs": [],
   "source": [
    "def cal_opt(m, mu=0, s=1, t=1, a=0):\n",
    "    out_d = {}\n",
    "    \n",
    "    dt = [] #list to store true decision\n",
    "    d_e = [] #list to store index of maximum estimates\n",
    "    d_pr = [] #list to store index of maximum posterior right way\n",
    "    d_pw = [] #list to store index of maximum posterior wrong way\n",
    "    \n",
    "    \n",
    "    o_e = [] #list to store optimality gap in estimates\n",
    "    o_pr = [] #list to store og in posterior right way\n",
    "    o_pw = [] # list to store og in posterior wrong way\n",
    "    \n",
    "    for i in range(10000):\n",
    "        #Generate $m$ true values $x_j$ from the prior\n",
    "        x = np.random.normal(mu,s,m) #x_j~N(0,1)\n",
    "        u_x = us(x, a, s)\n",
    "        \n",
    "        #index of the right decision\n",
    "        max_ux = max(u_x)\n",
    "        max_ix = u_x.index(max_ux) #index of true maximum\n",
    "        dt.append(max_ix) \n",
    "\n",
    "        #For each true value, generate an estimate $y_j$ from the likelihood \n",
    "        y = [np.random.normal(x_j,t,1)[0] for x_j in x] #y_j~N(x_j,1)\n",
    "        u_y = us(y, a, s)\n",
    "        \n",
    "        max_uy = max(u_y) #maximum estimates\n",
    "        max_j = u_y.index(max_uy) #index of maximum estimates\n",
    "        d_e.append(max_j) \n",
    "        \n",
    "        #Otimality gap estimates \n",
    "        d = (max(u_x) - u(x[max_j], a, s))/max(u_x)\n",
    "        o_e.append(d)\n",
    "        \n",
    "        \n",
    "        #For each $y_j$, generate 1000 true values $x_jk$ from $(X|Y=y)=N(sigma^2/(tau^2 +sigma^2)*y_j+tau^2/(sigma^2+tau^2)*overline(mu)), k=1,...1000$\n",
    "        x_p = []\n",
    "        for y_j in y:\n",
    "            p_mean = (t**2/(s**2 + t**2))*mu + (s**2/(s**2 + t**2))*y_j\n",
    "            p_std = (s**2*t**2/(s**2 + t**2)) #caution! it is variance\n",
    "\n",
    "            x_p.append(list(np.random.normal(p_mean, np.sqrt(p_std),1000)))\n",
    "\n",
    "\n",
    "        #Compute $u(x_jk$) for all $j,k$\n",
    "        u_x_p = [us(x, a, s) for x in x_p]\n",
    "\n",
    "        #Compute the average $\\sum_{k=1}^1000 u_(x_jk)$ to get an estimate for the expected utility $E[u(X_j)|Y_j=y_j]$\n",
    "        eu = [np.mean(x) for x in u_x_p]\n",
    "\n",
    "        #Choose the alternative $j^$ with the highest expected utility\n",
    "        max_eu = max(eu)\n",
    "        max_j2 = eu.index(max_eu)\n",
    "        d_pr.append(max_j2)     \n",
    "\n",
    "        #posterior disappointment \n",
    "        d = (max(u_x) - u(x[max_j2], a, s))/max(u_x)\n",
    "        o_pr.append(d)\n",
    "        \n",
    "        \n",
    "        #For each $y_j$, generate 1000 true values $x_jk$ from $(X|Y=y)=N(sigma^2/(tau^2 +sigma^2)*y_j+tau^2/(sigma^2+tau^2)*overline(mu)), k=1,...1000$\n",
    "        x_p = []\n",
    "        for y_j in y:\n",
    "            p_mean = (t**2/(s**2 + t**2))*mu + (s**2/(s**2 + t**2))*y_j\n",
    "            x_p.append(p_mean)\n",
    "\n",
    "        eu = [u(x,a,s) for x in x_p]\n",
    "\n",
    "        #Choose the alternative $j^$ with the highest expected utility\n",
    "        max_eu = max(eu)\n",
    "        max_j3 = eu.index(max_eu)\n",
    "        d_pw.append(max_j3)\n",
    "\n",
    "        #posterior disappointment \n",
    "        d = (max(u_x) - u_x[max_j3])/max(u_x) \n",
    "        o_pw.append(d)\n",
    "        \n",
    "    #Compute the difference $u(x_\\tilde{j})-\\sum_{k=1}^1000 u_(x_\\tilde{j}k)$\n",
    "    \n",
    "    out_d[\"dt\"] = dt\n",
    "    out_d[\"d_e\"] = d_e\n",
    "    out_d[\"d_pr\"] = d_pr\n",
    "    out_d[\"d_pw\"] = d_pw\n",
    "    \n",
    "    out_d[\"o_e\"] = o_e\n",
    "    out_d[\"o_pr\"] = o_pr\n",
    "    out_d[\"o_pw\"] = o_pw\n",
    "    \n",
    "    print(\"Number of different decision between true & estimated\")\n",
    "    print(Counter((np.array(dt)-np.array(d_e))))\n",
    "    print()\n",
    "    print(\"Number of different decision between true & posterior right way\")\n",
    "    print(Counter((np.array(dt)-np.array(d_pr))))\n",
    "    print()\n",
    "    print(\"Number of different decision between true & posterior wrong way\")\n",
    "    print(Counter((np.array(dt)-np.array(d_pw))))\n",
    "\n",
    "    print(\"Mean of relative optimality gap between true & estimated\")\n",
    "    print(np.mean(o_e))\n",
    "    print()\n",
    "    print(\"Mean of relative optimality gap between true & posterior right way\")\n",
    "    print(np.mean((o_pr)))\n",
    "    print()\n",
    "    print(\"Mean of relative optimality gap between true & posterior wrong way\")\n",
    "    print(np.mean((o_pw)))\n",
    "    return out_d"
   ]
  },
  {
   "cell_type": "code",
   "execution_count": 25,
   "metadata": {},
   "outputs": [
    {
     "name": "stdout",
     "output_type": "stream",
     "text": [
      "m 2\n",
      "Number of different decision between true & estimated\n",
      "Counter({0: 7497, -1: 1282, 1: 1221})\n",
      "\n",
      "Number of different decision between true & posterior right way\n",
      "Counter({0: 7496, -1: 1279, 1: 1225})\n",
      "\n",
      "Number of different decision between true & posterior wrong way\n",
      "Counter({0: 7497, -1: 1282, 1: 1221})\n",
      "Mean of relative optimality gap between true & estimated\n",
      "0.04919167796943347\n",
      "\n",
      "Mean of relative optimality gap between true & posterior right way\n",
      "0.04931890565948069\n",
      "\n",
      "Mean of relative optimality gap between true & posterior wrong way\n",
      "0.04919167796943347\n",
      "\n",
      "m 3\n",
      "Number of different decision between true & estimated\n",
      "Counter({0: 6532, 1: 1167, -1: 1138, 2: 597, -2: 566})\n",
      "\n",
      "Number of different decision between true & posterior right way\n",
      "Counter({0: 6519, 1: 1185, -1: 1138, 2: 597, -2: 561})\n",
      "\n",
      "Number of different decision between true & posterior wrong way\n",
      "Counter({0: 6532, 1: 1167, -1: 1138, 2: 597, -2: 566})\n",
      "Mean of relative optimality gap between true & estimated\n",
      "0.06324855971697647\n",
      "\n",
      "Mean of relative optimality gap between true & posterior right way\n",
      "0.0636438988534747\n",
      "\n",
      "Mean of relative optimality gap between true & posterior wrong way\n",
      "0.06324855971697647\n",
      "\n",
      "m 5\n",
      "Number of different decision between true & estimated\n",
      "Counter({0: 5371, 1: 974, -1: 939, -2: 700, 2: 649, 3: 466, -3: 466, 4: 219, -4: 216})\n",
      "\n",
      "Number of different decision between true & posterior right way\n",
      "Counter({0: 5352, 1: 966, -1: 957, -2: 702, 2: 648, 3: 470, -3: 465, 4: 224, -4: 216})\n",
      "\n",
      "Number of different decision between true & posterior wrong way\n",
      "Counter({0: 5371, 1: 974, -1: 939, -2: 700, 2: 649, 3: 466, -3: 466, 4: 219, -4: 216})\n",
      "Mean of relative optimality gap between true & estimated\n",
      "0.08310750960210306\n",
      "\n",
      "Mean of relative optimality gap between true & posterior right way\n",
      "0.08374968130487623\n",
      "\n",
      "Mean of relative optimality gap between true & posterior wrong way\n",
      "0.08310750960210306\n",
      "\n",
      "m 10\n",
      "Number of different decision between true & estimated\n",
      "Counter({0: 4322, 1: 591, -1: 589, 2: 528, -2: 513, -3: 456, 3: 417, -4: 378, 4: 353, -5: 340, 5: 331, 6: 254, -6: 240, 7: 181, -7: 178, 8: 108, -8: 108, -9: 58, 9: 55})\n",
      "\n",
      "Number of different decision between true & posterior right way\n",
      "Counter({0: 4332, 1: 593, -1: 588, 2: 526, -2: 517, -3: 457, 3: 416, -4: 365, 4: 348, -5: 342, 5: 324, 6: 257, -6: 243, -7: 181, 7: 180, 8: 107, -8: 107, -9: 60, 9: 57})\n",
      "\n",
      "Number of different decision between true & posterior wrong way\n",
      "Counter({0: 4322, 1: 591, -1: 589, 2: 528, -2: 513, -3: 456, 3: 417, -4: 378, 4: 353, -5: 340, 5: 331, 6: 254, -6: 240, 7: 181, -7: 178, 8: 108, -8: 108, -9: 58, 9: 55})\n",
      "Mean of relative optimality gap between true & estimated\n",
      "0.10044807625284011\n",
      "\n",
      "Mean of relative optimality gap between true & posterior right way\n",
      "0.09989675920159545\n",
      "\n",
      "Mean of relative optimality gap between true & posterior wrong way\n",
      "0.10044807625284011\n",
      "\n"
     ]
    }
   ],
   "source": [
    "for m in [2,3,5,10]:\n",
    "    print(\"m\", m)\n",
    "    cal_opt(m=m)\n",
    "    print(\"\")"
   ]
  },
  {
   "cell_type": "code",
   "execution_count": 7,
   "metadata": {},
   "outputs": [],
   "source": []
  },
  {
   "cell_type": "code",
   "execution_count": null,
   "metadata": {},
   "outputs": [],
   "source": []
  },
  {
   "cell_type": "code",
   "execution_count": null,
   "metadata": {},
   "outputs": [],
   "source": []
  },
  {
   "cell_type": "markdown",
   "metadata": {},
   "source": [
    "# Optimality gap - multiattribute estimates"
   ]
  },
  {
   "cell_type": "code",
   "execution_count": 46,
   "metadata": {},
   "outputs": [],
   "source": [
    "def cal_post_mu(m=5, mu=[0,0,0], s=[1,1,1], t=[1,1,1], w=[1/3, 1/3, 1/3], a=[0,0,0]):\n",
    "    \n",
    "    out_d = {}\n",
    "    \n",
    "    dt = [] #list to store true decision\n",
    "    d_e = [] #list to store index of maximum estimates\n",
    "    d_pr = [] #list to store index of maximum posterior right way\n",
    "    d_pw = [] #list to store index of maximum posterior wrong way\n",
    "    \n",
    "    \n",
    "    o_e = [] #list to store optimality gap in estimates\n",
    "    o_pr = [] #list to store og in posterior right way\n",
    "    o_pw = [] # list to store og in posterior wrong way\n",
    "    \n",
    "    def cal_u(multiatt):\n",
    "        ul = [u(multiatt[i], a[i], 1) for i in range(len(multiatt))]\n",
    "        return np.dot(w, ul)\n",
    "    \n",
    "    for k in range(1000):\n",
    "        x = []\n",
    "        eu = []\n",
    "        eu_pr = []\n",
    "        eu_pw = []\n",
    "\n",
    "        for j in range(m): #loop for generating mu alternatives\n",
    "            \n",
    "            n = len(mu) #number of attributes\n",
    "            x_j = [np.random.normal(mu[i], s[i],1)[0] for i in range(n)] #generate true mu of one alternative\n",
    "            x.append(cal_u(x_j)) #append the utility of one mu alternative u(x_j)           \n",
    "            \n",
    "            y_j = [np.random.normal(x_j[i], t[i],1)[0] for i in range(n)] #generate estimated mu of one alternative            \n",
    "            eu.append(cal_u(y_j)) #append the utility of one mu estimates u(y_j)\n",
    "            \n",
    "            u_x_jp_l_r = [] #list to store 1000 u(x) of posterior u of one mu alternative \n",
    "            u_x_jp_l_w = []\n",
    "            \n",
    "            x_jp_r = [] #one alternative, right way\n",
    "            x_jp_w = [] #one alternative, wrong way\n",
    "            \n",
    "            for i in range(n): #loop for generating posterior mu for one alternative\n",
    "                p_mean = (t[i]**2/(s[i]**2 + t[i]**2))*mu[i] + (s[i]**2/(s[i]**2 + t[i]**2))*y_j[i]\n",
    "                p_var = (s[i]**2*t[i]**2/(s[i]**2 + t[i]**2)) \n",
    "                \n",
    "                x_p_ji = list(np.random.normal(p_mean, np.sqrt(p_var),1000))\n",
    "                \n",
    "                #right way\n",
    "                x_jp_r.append(np.mean(us(x_p_ji, a[i], 1)))\n",
    "                #wrong way\n",
    "                x_jp_w.append(np.mean(x_p_ji))\n",
    "\n",
    "            #wrong way\n",
    "            eu_pw.append(cal_u(x_jp_w)) #append u(x) of one posterior alternative (repeated 1000 times)            \n",
    "            \n",
    "            #right way\n",
    "            eu_pr.append(np.dot(w, x_jp_r)) #append w_i*E[u(x)|y]\n",
    "            \n",
    "        #index of true max\n",
    "        max_ix = x.index(max(x))\n",
    "        dt.append(max_ix)\n",
    "              \n",
    "        ###Saving result from estimates\n",
    "        #Choose the alternative $j^$ with the highest expected utility\n",
    "        max_eu = max(eu)\n",
    "        max_j = eu.index(max_eu)\n",
    "        d_e.append(max_j)\n",
    "\n",
    "        #disappointment \n",
    "        d = (max(x) - x[max_j])/max(x)\n",
    "        o_e.append(d)\n",
    "        \n",
    "        ###Saving result from posterior right way\n",
    "        #Choose the alternative $j^$ with the highest expected utility\n",
    "        max_eu = max(eu_pr)\n",
    "        max_j1 = eu_pr.index(max_eu)\n",
    "        d_pr.append(max_j1)\n",
    "        \n",
    "        #disappointment \n",
    "        d2 = (max(x) - x[max_j1])/max(x)\n",
    "        o_pr.append(d2)\n",
    "        \n",
    "        ###Saving result from posterior wrong way\n",
    "        #Choose the alternative $j^$ with the highest expected utility\n",
    "        max_eu = max(eu_pw)\n",
    "        max_j2 = eu_pw.index(max_eu)\n",
    "        d_pw.append(max_j2)\n",
    "\n",
    "        #disappointment \n",
    "        d3 = (max(x) - x[max_j2])/max(x)\n",
    "        o_pw.append(d3)       \n",
    "        \n",
    "    out_d[\"dt\"] = dt\n",
    "    out_d[\"d_e\"] = d_e\n",
    "    out_d[\"d_pr\"] = d_pr\n",
    "    out_d[\"d_pw\"] = d_pw\n",
    "    \n",
    "    out_d[\"o_e\"] = o_e\n",
    "    out_d[\"o_pr\"] = o_pr\n",
    "    out_d[\"o_pw\"] = o_pw\n",
    "    \n",
    "    \n",
    "    print(\"Number of different decision between true & estimated\")\n",
    "    print(Counter((np.array(dt)-np.array(d_e))))\n",
    "    print()\n",
    "    print(\"Number of different decision between true & posterior right way\")\n",
    "    print(Counter((np.array(dt)-np.array(d_pr))))\n",
    "    print()\n",
    "    print(\"Number of different decision between true & posterior wrong way\")\n",
    "    print(Counter((np.array(dt)-np.array(d_pw))))\n",
    "    print()\n",
    "    print(\"Mean of relative optimality gap between true & estimated\")\n",
    "    print(np.mean(o_e))\n",
    "    print()\n",
    "    print(\"Mean of relative optimality gap between true & posterior right way\")\n",
    "    print(np.mean((o_pr)))\n",
    "    print()\n",
    "    print(\"Mean of relative optimality gap between true & posterior wrong way\")\n",
    "    print(np.mean((o_pw)))\n",
    "        \n",
    "        \n",
    "        #Compute the difference $u(x_\\tilde{j})-\\sum_{k=1}^1000 u_(x_\\tilde{j}k)$\n",
    "    return out_d"
   ]
  },
  {
   "cell_type": "code",
   "execution_count": 47,
   "metadata": {},
   "outputs": [
    {
     "name": "stdout",
     "output_type": "stream",
     "text": [
      "m 2\n",
      "Number of different decision between true & estimated\n",
      "Counter({0: 734, -1: 133, 1: 133})\n",
      "\n",
      "Number of different decision between true & posterior right way\n",
      "Counter({0: 733, -1: 135, 1: 132})\n",
      "\n",
      "Number of different decision between true & posterior wrong way\n",
      "Counter({0: 733, -1: 135, 1: 132})\n",
      "\n",
      "Mean of relative optimality gap between true & estimated\n",
      "0.03264244454219876\n",
      "\n",
      "Mean of relative optimality gap between true & posterior right way\n",
      "0.032254961278099445\n",
      "\n",
      "Mean of relative optimality gap between true & posterior wrong way\n",
      "0.032254961278099445\n",
      "\n",
      "m 3\n",
      "Number of different decision between true & estimated\n",
      "Counter({0: 652, 1: 124, -1: 114, 2: 55, -2: 55})\n",
      "\n",
      "Number of different decision between true & posterior right way\n",
      "Counter({0: 648, 1: 125, -1: 115, 2: 56, -2: 56})\n",
      "\n",
      "Number of different decision between true & posterior wrong way\n",
      "Counter({0: 648, 1: 125, -1: 115, 2: 56, -2: 56})\n",
      "\n",
      "Mean of relative optimality gap between true & estimated\n",
      "0.041059802640014395\n",
      "\n",
      "Mean of relative optimality gap between true & posterior right way\n",
      "0.04175942677126863\n",
      "\n",
      "Mean of relative optimality gap between true & posterior wrong way\n",
      "0.04175942677126863\n",
      "\n",
      "m 5\n",
      "Number of different decision between true & estimated\n",
      "Counter({0: 502, -1: 108, 1: 90, -2: 68, 2: 66, -3: 61, 3: 52, -4: 31, 4: 22})\n",
      "\n",
      "Number of different decision between true & posterior right way\n",
      "Counter({0: 500, -1: 110, 1: 89, -2: 67, 2: 63, -3: 62, 3: 55, -4: 30, 4: 24})\n",
      "\n",
      "Number of different decision between true & posterior wrong way\n",
      "Counter({0: 500, -1: 110, 1: 89, -2: 67, 2: 63, -3: 62, 3: 55, -4: 30, 4: 24})\n",
      "\n",
      "Mean of relative optimality gap between true & estimated\n",
      "0.057661343081325214\n",
      "\n",
      "Mean of relative optimality gap between true & posterior right way\n",
      "0.057936949637844654\n",
      "\n",
      "Mean of relative optimality gap between true & posterior wrong way\n",
      "0.057936949637844654\n",
      "\n",
      "m 10\n",
      "Number of different decision between true & estimated\n",
      "Counter({0: 427, -1: 57, 1: 55, -2: 53, -3: 51, 3: 45, 5: 38, 2: 37, -5: 36, 4: 34, -4: 33, -6: 29, 6: 29, 7: 23, -7: 23, -8: 14, 9: 6, 8: 6, -9: 4})\n",
      "\n",
      "Number of different decision between true & posterior right way\n",
      "Counter({0: 428, -1: 56, -2: 52, -3: 51, 1: 50, 3: 46, 2: 40, -5: 37, -4: 35, 5: 35, 4: 33, 6: 30, -6: 29, -7: 24, 7: 23, -8: 14, 9: 6, 8: 6, -9: 5})\n",
      "\n",
      "Number of different decision between true & posterior wrong way\n",
      "Counter({0: 428, -1: 56, -2: 52, -3: 51, 1: 50, 3: 46, 2: 40, -5: 37, -4: 35, 5: 35, 4: 33, 6: 30, -6: 29, -7: 24, 7: 23, -8: 14, 9: 6, 8: 6, -9: 5})\n",
      "\n",
      "Mean of relative optimality gap between true & estimated\n",
      "0.06703889397268957\n",
      "\n",
      "Mean of relative optimality gap between true & posterior right way\n",
      "0.0666952539034282\n",
      "\n",
      "Mean of relative optimality gap between true & posterior wrong way\n",
      "0.0666952539034282\n",
      "\n"
     ]
    }
   ],
   "source": [
    "for m in [2,3,5,10]:\n",
    "    print(\"m\", m)\n",
    "    cal_post_mu(m=m) #Increasing number of alternative\n",
    "    print()"
   ]
  },
  {
   "cell_type": "code",
   "execution_count": 62,
   "metadata": {},
   "outputs": [
    {
     "name": "stdout",
     "output_type": "stream",
     "text": [
      "t 2\n",
      "Number of different decision between true & estimated\n",
      "Counter({0: 390, -1: 117, 1: 114, 2: 90, -2: 78, 3: 69, -3: 65, -4: 41, 4: 36})\n",
      "\n",
      "Number of different decision between true & posterior right way\n",
      "Counter({0: 391, 1: 117, -1: 116, 2: 88, -2: 79, 3: 66, -3: 61, -4: 43, 4: 39})\n",
      "\n",
      "Number of different decision between true & posterior wrong way\n",
      "Counter({0: 391, 1: 117, -1: 116, 2: 88, -2: 79, 3: 66, -3: 61, -4: 43, 4: 39})\n",
      "\n",
      "Mean of relative optimality gap between true & estimated\n",
      "0.0952471470900361\n",
      "\n",
      "Mean of relative optimality gap between true & posterior right way\n",
      "0.09648143633193762\n",
      "\n",
      "Mean of relative optimality gap between true & posterior wrong way\n",
      "0.09648143633193762\n",
      "\n",
      "t 3\n",
      "Number of different decision between true & estimated\n",
      "Counter({0: 321, 1: 144, -1: 132, -2: 103, 2: 85, -3: 83, 3: 64, -4: 36, 4: 32})\n",
      "\n",
      "Number of different decision between true & posterior right way\n",
      "Counter({0: 323, 1: 140, -1: 128, -2: 105, 2: 90, -3: 85, 3: 63, -4: 35, 4: 31})\n",
      "\n",
      "Number of different decision between true & posterior wrong way\n",
      "Counter({0: 323, 1: 140, -1: 128, -2: 105, 2: 90, -3: 85, 3: 63, -4: 35, 4: 31})\n",
      "\n",
      "Mean of relative optimality gap between true & estimated\n",
      "0.12480526176197304\n",
      "\n",
      "Mean of relative optimality gap between true & posterior right way\n",
      "0.12390469570287078\n",
      "\n",
      "Mean of relative optimality gap between true & posterior wrong way\n",
      "0.12390469570287078\n",
      "\n",
      "t 5\n",
      "Number of different decision between true & estimated\n",
      "Counter({0: 258, -1: 158, 1: 136, 2: 118, -2: 117, 3: 72, -3: 71, -4: 36, 4: 34})\n",
      "\n",
      "Number of different decision between true & posterior right way\n",
      "Counter({0: 265, -1: 157, 1: 133, 2: 121, -2: 117, -3: 73, 3: 69, -4: 34, 4: 31})\n",
      "\n",
      "Number of different decision between true & posterior wrong way\n",
      "Counter({0: 265, -1: 157, 1: 133, 2: 121, -2: 117, -3: 73, 3: 69, -4: 34, 4: 31})\n",
      "\n",
      "Mean of relative optimality gap between true & estimated\n",
      "0.14867634873465044\n",
      "\n",
      "Mean of relative optimality gap between true & posterior right way\n",
      "0.1452564322787081\n",
      "\n",
      "Mean of relative optimality gap between true & posterior wrong way\n",
      "0.1452564322787081\n",
      "\n",
      "t 10\n",
      "Number of different decision between true & estimated\n",
      "Counter({0: 235, -1: 163, 1: 162, 2: 125, -2: 100, 3: 85, -3: 68, -4: 33, 4: 29})\n",
      "\n",
      "Number of different decision between true & posterior right way\n",
      "Counter({0: 250, 1: 163, -1: 158, 2: 122, -2: 102, 3: 87, -3: 61, -4: 38, 4: 19})\n",
      "\n",
      "Number of different decision between true & posterior wrong way\n",
      "Counter({0: 250, 1: 163, -1: 158, 2: 122, -2: 102, 3: 87, -3: 61, -4: 38, 4: 19})\n",
      "\n",
      "Mean of relative optimality gap between true & estimated\n",
      "0.15826670166899862\n",
      "\n",
      "Mean of relative optimality gap between true & posterior right way\n",
      "0.15457348386666125\n",
      "\n",
      "Mean of relative optimality gap between true & posterior wrong way\n",
      "0.15457348386666125\n",
      "\n"
     ]
    }
   ],
   "source": [
    "for t in [2,3,5,10]:\n",
    "    print(\"t\", t)\n",
    "    cal_post_mu(m=5, t=[t]*5) #Increasing estimation uncertainity of one attribute\n",
    "    print()"
   ]
  },
  {
   "cell_type": "code",
   "execution_count": 61,
   "metadata": {
    "scrolled": true
   },
   "outputs": [
    {
     "name": "stdout",
     "output_type": "stream",
     "text": [
      "t 2\n"
     ]
    },
    {
     "ename": "KeyboardInterrupt",
     "evalue": "",
     "output_type": "error",
     "traceback": [
      "\u001b[0;31m---------------------------------------------------------------------------\u001b[0m",
      "\u001b[0;31mKeyboardInterrupt\u001b[0m                         Traceback (most recent call last)",
      "\u001b[0;32m<ipython-input-61-db78800b180f>\u001b[0m in \u001b[0;36m<module>\u001b[0;34m\u001b[0m\n\u001b[1;32m      1\u001b[0m \u001b[0;32mfor\u001b[0m \u001b[0mt\u001b[0m \u001b[0;32min\u001b[0m \u001b[0;34m[\u001b[0m\u001b[0;36m2\u001b[0m\u001b[0;34m,\u001b[0m\u001b[0;36m3\u001b[0m\u001b[0;34m,\u001b[0m\u001b[0;36m5\u001b[0m\u001b[0;34m,\u001b[0m\u001b[0;36m10\u001b[0m\u001b[0;34m]\u001b[0m\u001b[0;34m:\u001b[0m\u001b[0;34m\u001b[0m\u001b[0;34m\u001b[0m\u001b[0m\n\u001b[1;32m      2\u001b[0m     \u001b[0mprint\u001b[0m\u001b[0;34m(\u001b[0m\u001b[0;34m\"t\"\u001b[0m\u001b[0;34m,\u001b[0m \u001b[0mt\u001b[0m\u001b[0;34m)\u001b[0m\u001b[0;34m\u001b[0m\u001b[0;34m\u001b[0m\u001b[0m\n\u001b[0;32m----> 3\u001b[0;31m     \u001b[0mcal_post_mu\u001b[0m\u001b[0;34m(\u001b[0m\u001b[0mm\u001b[0m\u001b[0;34m=\u001b[0m\u001b[0;36m5\u001b[0m\u001b[0;34m,\u001b[0m \u001b[0mt\u001b[0m\u001b[0;34m=\u001b[0m\u001b[0;34m[\u001b[0m\u001b[0;36m1\u001b[0m\u001b[0;34m,\u001b[0m\u001b[0;36m1\u001b[0m\u001b[0;34m,\u001b[0m\u001b[0mt\u001b[0m\u001b[0;34m,\u001b[0m\u001b[0;36m1\u001b[0m\u001b[0;34m,\u001b[0m\u001b[0;36m1\u001b[0m\u001b[0;34m]\u001b[0m\u001b[0;34m)\u001b[0m \u001b[0;31m#Increasing estimation uncertainity of one attribute\u001b[0m\u001b[0;34m\u001b[0m\u001b[0;34m\u001b[0m\u001b[0m\n\u001b[0m\u001b[1;32m      4\u001b[0m     \u001b[0mprint\u001b[0m\u001b[0;34m(\u001b[0m\u001b[0;34m)\u001b[0m\u001b[0;34m\u001b[0m\u001b[0;34m\u001b[0m\u001b[0m\n",
      "\u001b[0;32m<ipython-input-46-277c79aa1ce7>\u001b[0m in \u001b[0;36mcal_post_mu\u001b[0;34m(m, mu, s, t, w, a)\u001b[0m\n\u001b[1;32m     45\u001b[0m \u001b[0;34m\u001b[0m\u001b[0m\n\u001b[1;32m     46\u001b[0m                 \u001b[0;31m#right way\u001b[0m\u001b[0;34m\u001b[0m\u001b[0;34m\u001b[0m\u001b[0;34m\u001b[0m\u001b[0m\n\u001b[0;32m---> 47\u001b[0;31m                 \u001b[0mx_jp_r\u001b[0m\u001b[0;34m.\u001b[0m\u001b[0mappend\u001b[0m\u001b[0;34m(\u001b[0m\u001b[0mnp\u001b[0m\u001b[0;34m.\u001b[0m\u001b[0mmean\u001b[0m\u001b[0;34m(\u001b[0m\u001b[0mus\u001b[0m\u001b[0;34m(\u001b[0m\u001b[0mx_p_ji\u001b[0m\u001b[0;34m,\u001b[0m \u001b[0ma\u001b[0m\u001b[0;34m[\u001b[0m\u001b[0mi\u001b[0m\u001b[0;34m]\u001b[0m\u001b[0;34m,\u001b[0m \u001b[0;36m1\u001b[0m\u001b[0;34m)\u001b[0m\u001b[0;34m)\u001b[0m\u001b[0;34m)\u001b[0m\u001b[0;34m\u001b[0m\u001b[0;34m\u001b[0m\u001b[0m\n\u001b[0m\u001b[1;32m     48\u001b[0m                 \u001b[0;31m#wrong way\u001b[0m\u001b[0;34m\u001b[0m\u001b[0;34m\u001b[0m\u001b[0;34m\u001b[0m\u001b[0m\n\u001b[1;32m     49\u001b[0m                 \u001b[0mx_jp_w\u001b[0m\u001b[0;34m.\u001b[0m\u001b[0mappend\u001b[0m\u001b[0;34m(\u001b[0m\u001b[0mnp\u001b[0m\u001b[0;34m.\u001b[0m\u001b[0mmean\u001b[0m\u001b[0;34m(\u001b[0m\u001b[0mx_p_ji\u001b[0m\u001b[0;34m)\u001b[0m\u001b[0;34m)\u001b[0m\u001b[0;34m\u001b[0m\u001b[0;34m\u001b[0m\u001b[0m\n",
      "\u001b[0;32m<ipython-input-2-cbd941da1d1e>\u001b[0m in \u001b[0;36mus\u001b[0;34m(x_list, a, s)\u001b[0m\n\u001b[1;32m      8\u001b[0m \u001b[0;34m\u001b[0m\u001b[0m\n\u001b[1;32m      9\u001b[0m \u001b[0;32mdef\u001b[0m \u001b[0mus\u001b[0m\u001b[0;34m(\u001b[0m\u001b[0mx_list\u001b[0m\u001b[0;34m,\u001b[0m \u001b[0ma\u001b[0m\u001b[0;34m,\u001b[0m \u001b[0ms\u001b[0m\u001b[0;34m)\u001b[0m\u001b[0;34m:\u001b[0m \u001b[0;31m#utility function for the list of values\u001b[0m\u001b[0;34m\u001b[0m\u001b[0;34m\u001b[0m\u001b[0m\n\u001b[0;32m---> 10\u001b[0;31m     \u001b[0;32mreturn\u001b[0m \u001b[0;34m[\u001b[0m\u001b[0mu\u001b[0m\u001b[0;34m(\u001b[0m\u001b[0mx\u001b[0m\u001b[0;34m,\u001b[0m \u001b[0ma\u001b[0m\u001b[0;34m,\u001b[0m \u001b[0ms\u001b[0m\u001b[0;34m)\u001b[0m \u001b[0;32mfor\u001b[0m \u001b[0mx\u001b[0m \u001b[0;32min\u001b[0m \u001b[0mx_list\u001b[0m\u001b[0;34m]\u001b[0m\u001b[0;34m\u001b[0m\u001b[0;34m\u001b[0m\u001b[0m\n\u001b[0m",
      "\u001b[0;31mKeyboardInterrupt\u001b[0m: "
     ]
    }
   ],
   "source": [
    "for t in [2,3,5,10]:\n",
    "    print(\"t\", t)\n",
    "    cal_post_mu(m=5, t=[1,1,t,1,1]) #Increasing estimation uncertainity of one attribute\n",
    "    print()"
   ]
  },
  {
   "cell_type": "code",
   "execution_count": 57,
   "metadata": {},
   "outputs": [
    {
     "name": "stdout",
     "output_type": "stream",
     "text": [
      "t 2\n",
      "Number of different decision between true & estimated\n",
      "Counter({0: 440, 1: 102, -1: 98, -2: 96, 2: 91, -3: 67, 3: 66, 4: 22, -4: 18})\n",
      "\n",
      "Number of different decision between true & posterior right way\n",
      "Counter({0: 457, 1: 105, -1: 102, -2: 86, 2: 85, 3: 65, -3: 53, 4: 27, -4: 20})\n",
      "\n",
      "Number of different decision between true & posterior wrong way\n",
      "Counter({0: 459, 1: 105, -1: 102, -2: 86, 2: 85, 3: 64, -3: 52, 4: 27, -4: 20})\n",
      "\n",
      "Mean of relative optimality gap between true & estimated\n",
      "0.04473709439375403\n",
      "\n",
      "Mean of relative optimality gap between true & posterior right way\n",
      "0.04347116836025595\n",
      "\n",
      "Mean of relative optimality gap between true & posterior wrong way\n",
      "0.04319946363778672\n",
      "\n",
      "t 3\n",
      "Number of different decision between true & estimated\n",
      "Counter({0: 416, -1: 128, 1: 113, 2: 88, -2: 82, 3: 62, -3: 55, -4: 30, 4: 26})\n",
      "\n",
      "Number of different decision between true & posterior right way\n",
      "Counter({0: 478, -1: 114, 1: 89, 2: 79, -2: 79, 3: 58, -3: 45, -4: 31, 4: 27})\n",
      "\n",
      "Number of different decision between true & posterior wrong way\n",
      "Counter({0: 476, -1: 115, 1: 88, -2: 81, 2: 79, 3: 57, -3: 45, -4: 31, 4: 28})\n",
      "\n",
      "Mean of relative optimality gap between true & estimated\n",
      "0.052816350491193785\n",
      "\n",
      "Mean of relative optimality gap between true & posterior right way\n",
      "0.04427109050223438\n",
      "\n",
      "Mean of relative optimality gap between true & posterior wrong way\n",
      "0.04448041390061047\n",
      "\n",
      "t 5\n",
      "Number of different decision between true & estimated\n",
      "Counter({0: 370, -1: 130, 1: 128, 2: 87, -2: 85, -3: 67, 3: 52, -4: 43, 4: 38})\n",
      "\n",
      "Number of different decision between true & posterior right way\n",
      "Counter({0: 457, 1: 108, -1: 97, -2: 85, 2: 77, 3: 57, -3: 53, 4: 35, -4: 31})\n",
      "\n",
      "Number of different decision between true & posterior wrong way\n",
      "Counter({0: 459, 1: 106, -1: 97, -2: 85, 2: 77, 3: 57, -3: 54, 4: 35, -4: 30})\n",
      "\n",
      "Mean of relative optimality gap between true & estimated\n",
      "0.06276638084358374\n",
      "\n",
      "Mean of relative optimality gap between true & posterior right way\n",
      "0.04931308819671135\n",
      "\n",
      "Mean of relative optimality gap between true & posterior wrong way\n",
      "0.049189206614367126\n",
      "\n",
      "t 10\n",
      "Number of different decision between true & estimated\n",
      "Counter({0: 339, 1: 143, -1: 131, 2: 103, -2: 96, -3: 73, 3: 61, 4: 27, -4: 27})\n",
      "\n",
      "Number of different decision between true & posterior right way\n",
      "Counter({0: 469, 1: 108, -1: 107, 2: 79, -2: 78, 3: 65, -3: 42, -4: 27, 4: 25})\n",
      "\n",
      "Number of different decision between true & posterior wrong way\n",
      "Counter({0: 471, 1: 110, -1: 106, -2: 77, 2: 77, 3: 65, -3: 42, -4: 27, 4: 25})\n",
      "\n",
      "Mean of relative optimality gap between true & estimated\n",
      "0.06961579366827238\n",
      "\n",
      "Mean of relative optimality gap between true & posterior right way\n",
      "0.04544465409165382\n",
      "\n",
      "Mean of relative optimality gap between true & posterior wrong way\n",
      "0.045230231957460204\n",
      "\n"
     ]
    }
   ],
   "source": [
    "for t in [2,3,5,10]:\n",
    "    print(\"t\", t)\n",
    "    cal_post_mu(m=5, t=[1,1,t,1,1], a=[0.367]*5) #Increasing estimation uncertainity of one attribute\n",
    "    print()"
   ]
  },
  {
   "cell_type": "code",
   "execution_count": 58,
   "metadata": {},
   "outputs": [
    {
     "name": "stdout",
     "output_type": "stream",
     "text": [
      "t 2\n",
      "Number of different decision between true & estimated\n",
      "Counter({0: 435, 1: 126, -1: 103, 2: 87, -2: 69, 3: 65, -3: 60, -4: 30, 4: 25})\n",
      "\n",
      "Number of different decision between true & posterior right way\n",
      "Counter({0: 483, 1: 110, -1: 88, -2: 80, 3: 73, 2: 69, -3: 54, -4: 23, 4: 20})\n",
      "\n",
      "Number of different decision between true & posterior wrong way\n",
      "Counter({0: 480, 1: 110, -1: 87, -2: 82, 3: 73, 2: 68, -3: 55, -4: 24, 4: 21})\n",
      "\n",
      "Mean of relative optimality gap between true & estimated\n",
      "0.1331990388989055\n",
      "\n",
      "Mean of relative optimality gap between true & posterior right way\n",
      "0.11056304329474019\n",
      "\n",
      "Mean of relative optimality gap between true & posterior wrong way\n",
      "0.11228293257668913\n",
      "\n",
      "t 3\n",
      "Number of different decision between true & estimated\n",
      "Counter({0: 357, -1: 143, 1: 115, 2: 101, -2: 86, -3: 68, 3: 65, -4: 34, 4: 31})\n",
      "\n",
      "Number of different decision between true & posterior right way\n",
      "Counter({0: 469, -1: 100, 1: 97, 2: 88, -2: 84, 3: 58, -3: 49, -4: 31, 4: 24})\n",
      "\n",
      "Number of different decision between true & posterior wrong way\n",
      "Counter({0: 470, -1: 99, 1: 98, 2: 88, -2: 84, 3: 56, -3: 50, -4: 30, 4: 25})\n",
      "\n",
      "Mean of relative optimality gap between true & estimated\n",
      "0.1715338688347044\n",
      "\n",
      "Mean of relative optimality gap between true & posterior right way\n",
      "0.11625584214106911\n",
      "\n",
      "Mean of relative optimality gap between true & posterior wrong way\n",
      "0.1159418409788269\n",
      "\n",
      "t 5\n",
      "Number of different decision between true & estimated\n",
      "Counter({0: 273, 1: 168, -1: 128, -2: 107, -3: 85, 2: 82, 3: 78, -4: 44, 4: 35})\n",
      "\n",
      "Number of different decision between true & posterior right way\n",
      "Counter({0: 451, -1: 116, 1: 113, 2: 84, -2: 77, -3: 56, 3: 42, -4: 32, 4: 29})\n",
      "\n",
      "Number of different decision between true & posterior wrong way\n",
      "Counter({0: 451, -1: 116, 1: 114, 2: 85, -2: 78, -3: 55, 3: 41, -4: 31, 4: 29})\n",
      "\n",
      "Mean of relative optimality gap between true & estimated\n",
      "0.21883897508276898\n",
      "\n",
      "Mean of relative optimality gap between true & posterior right way\n",
      "0.1197932249297449\n",
      "\n",
      "Mean of relative optimality gap between true & posterior wrong way\n",
      "0.11945235137944374\n",
      "\n",
      "t 10\n",
      "Number of different decision between true & estimated\n",
      "Counter({0: 222, -1: 153, 1: 147, -2: 136, 2: 122, -3: 80, 3: 75, 4: 35, -4: 30})\n",
      "\n",
      "Number of different decision between true & posterior right way\n",
      "Counter({0: 438, 1: 111, -1: 111, -2: 94, 2: 83, -3: 59, 3: 51, -4: 27, 4: 26})\n",
      "\n",
      "Number of different decision between true & posterior wrong way\n",
      "Counter({0: 440, 1: 113, -1: 108, -2: 93, 2: 86, -3: 60, 3: 50, -4: 25, 4: 25})\n",
      "\n",
      "Mean of relative optimality gap between true & estimated\n",
      "0.24550428836963434\n",
      "\n",
      "Mean of relative optimality gap between true & posterior right way\n",
      "0.11909558259794584\n",
      "\n",
      "Mean of relative optimality gap between true & posterior wrong way\n",
      "0.11846213885144809\n",
      "\n"
     ]
    }
   ],
   "source": [
    "for t in [2,3,5,10]:\n",
    "    print(\"t\", t)\n",
    "    cal_post_mu(m=5, t=[1,1,t,1,1], a=[-0.367]*5) #Increasing estimation uncertainity of one attribute\n",
    "    print()"
   ]
  },
  {
   "cell_type": "code",
   "execution_count": 59,
   "metadata": {},
   "outputs": [
    {
     "name": "stdout",
     "output_type": "stream",
     "text": [
      "a -0.367\n",
      "Number of different decision between true & estimated\n",
      "Counter({0: 508, -1: 104, 1: 86, -2: 81, 2: 78, 3: 50, -3: 47, 4: 24, -4: 22})\n",
      "\n",
      "Number of different decision between true & posterior right way\n",
      "Counter({0: 506, -1: 107, 1: 88, 2: 81, -2: 75, 3: 50, -3: 41, 4: 28, -4: 24})\n",
      "\n",
      "Number of different decision between true & posterior wrong way\n",
      "Counter({0: 505, -1: 106, 1: 89, 2: 82, -2: 76, 3: 49, -3: 41, 4: 28, -4: 24})\n",
      "\n",
      "Mean of relative optimality gap between true & estimated\n",
      "0.09209824075220852\n",
      "\n",
      "Mean of relative optimality gap between true & posterior right way\n",
      "0.09262652326883913\n",
      "\n",
      "Mean of relative optimality gap between true & posterior wrong way\n",
      "0.09285450149855609\n",
      "\n",
      "a 0\n",
      "Number of different decision between true & estimated\n",
      "Counter({0: 548, 1: 107, -1: 82, -2: 75, 2: 68, -3: 43, 3: 36, 4: 24, -4: 17})\n",
      "\n",
      "Number of different decision between true & posterior right way\n",
      "Counter({0: 544, 1: 109, -1: 83, -2: 75, 2: 70, -3: 41, 3: 37, 4: 23, -4: 18})\n",
      "\n",
      "Number of different decision between true & posterior wrong way\n",
      "Counter({0: 544, 1: 109, -1: 83, -2: 75, 2: 70, -3: 41, 3: 37, 4: 23, -4: 18})\n",
      "\n",
      "Mean of relative optimality gap between true & estimated\n",
      "0.05559066820157948\n",
      "\n",
      "Mean of relative optimality gap between true & posterior right way\n",
      "0.05680246267555679\n",
      "\n",
      "Mean of relative optimality gap between true & posterior wrong way\n",
      "0.05680246267555679\n",
      "\n",
      "a 0.367\n",
      "Number of different decision between true & estimated\n",
      "Counter({0: 546, -1: 89, 1: 84, -2: 66, 2: 62, 3: 51, -3: 50, -4: 28, 4: 24})\n",
      "\n",
      "Number of different decision between true & posterior right way\n",
      "Counter({0: 560, -1: 86, 1: 86, 2: 65, -2: 65, 3: 47, -3: 44, -4: 25, 4: 22})\n",
      "\n",
      "Number of different decision between true & posterior wrong way\n",
      "Counter({0: 559, 1: 87, -1: 85, 2: 66, -2: 64, 3: 47, -3: 45, -4: 25, 4: 22})\n",
      "\n",
      "Mean of relative optimality gap between true & estimated\n",
      "0.033793435061546646\n",
      "\n",
      "Mean of relative optimality gap between true & posterior right way\n",
      "0.032076196887913765\n",
      "\n",
      "Mean of relative optimality gap between true & posterior wrong way\n",
      "0.03196487716870979\n",
      "\n"
     ]
    }
   ],
   "source": [
    "for a in [-0.367, 0, 0.367]:\n",
    "    print(\"a\", a)\n",
    "    cal_post_mu(m=5, t=[1,1,1,1,1], a=[a]*5) #Increasing estimation uncertainity of one attribute\n",
    "    print()"
   ]
  },
  {
   "cell_type": "code",
   "execution_count": 60,
   "metadata": {},
   "outputs": [
    {
     "name": "stdout",
     "output_type": "stream",
     "text": [
      "a -0.367\n",
      "Number of different decision between true & estimated\n",
      "Counter({0: 309, -1: 143, 1: 130, -2: 111, 2: 100, -3: 75, 3: 67, 4: 33, -4: 32})\n",
      "\n",
      "Number of different decision between true & posterior right way\n",
      "Counter({0: 482, 1: 113, -1: 109, -2: 80, 2: 77, -3: 55, 3: 39, 4: 23, -4: 22})\n",
      "\n",
      "Number of different decision between true & posterior wrong way\n",
      "Counter({0: 483, 1: 113, -1: 108, -2: 81, 2: 77, -3: 54, 3: 39, 4: 23, -4: 22})\n",
      "\n",
      "Mean of relative optimality gap between true & estimated\n",
      "0.20724551078273953\n",
      "\n",
      "Mean of relative optimality gap between true & posterior right way\n",
      "0.11209885435068338\n",
      "\n",
      "Mean of relative optimality gap between true & posterior wrong way\n",
      "0.11179296553631965\n",
      "\n",
      "a 0\n",
      "Number of different decision between true & estimated\n",
      "Counter({0: 312, 1: 125, -2: 124, 2: 119, -1: 115, 3: 73, -3: 65, -4: 35, 4: 32})\n",
      "\n",
      "Number of different decision between true & posterior right way\n",
      "Counter({0: 443, -1: 108, 1: 107, 2: 89, -2: 81, -3: 60, 3: 53, 4: 32, -4: 27})\n",
      "\n",
      "Number of different decision between true & posterior wrong way\n",
      "Counter({0: 443, -1: 108, 1: 107, 2: 89, -2: 81, -3: 60, 3: 53, 4: 32, -4: 27})\n",
      "\n",
      "Mean of relative optimality gap between true & estimated\n",
      "0.1315735536123179\n",
      "\n",
      "Mean of relative optimality gap between true & posterior right way\n",
      "0.0813330235757997\n",
      "\n",
      "Mean of relative optimality gap between true & posterior wrong way\n",
      "0.0813330235757997\n",
      "\n",
      "a 0.367\n",
      "Number of different decision between true & estimated\n",
      "Counter({0: 372, -1: 131, 1: 130, 2: 95, -2: 87, 3: 64, -3: 62, 4: 31, -4: 28})\n",
      "\n",
      "Number of different decision between true & posterior right way\n",
      "Counter({0: 467, 1: 118, -1: 105, 2: 91, -2: 72, 3: 49, -3: 49, 4: 25, -4: 24})\n",
      "\n",
      "Number of different decision between true & posterior wrong way\n",
      "Counter({0: 464, 1: 120, -1: 106, 2: 92, -2: 72, 3: 49, -3: 49, 4: 25, -4: 23})\n",
      "\n",
      "Mean of relative optimality gap between true & estimated\n",
      "0.06319314142228356\n",
      "\n",
      "Mean of relative optimality gap between true & posterior right way\n",
      "0.04652243975912325\n",
      "\n",
      "Mean of relative optimality gap between true & posterior wrong way\n",
      "0.04660544696941467\n",
      "\n"
     ]
    }
   ],
   "source": [
    "for a in [-0.367, 0, 0.367]:\n",
    "    print(\"a\", a)\n",
    "    cal_post_mu(m=5, t=[1,1,5,1,1], a=[a]*5) #Increasing estimation uncertainity of one attribute\n",
    "    print()"
   ]
  },
  {
   "cell_type": "code",
   "execution_count": null,
   "metadata": {},
   "outputs": [],
   "source": []
  },
  {
   "cell_type": "code",
   "execution_count": 147,
   "metadata": {},
   "outputs": [],
   "source": [
    "def cal_post_mu(m=5, mu=[0,0,0], s=[1,1,1], t=[1,1,1], w=[1/3, 1/3, 1/3], a=[0,0,0]):\n",
    "    \n",
    "    def cal_u(multiatt):\n",
    "        ul = [u(multiatt[i], a[i], 1) for i in range(len(multiatt))]\n",
    "        return np.dot(w, ul)\n",
    "    \n",
    "    d_list = []\n",
    "    d_mu_list = []\n",
    "    for k in range(10000):\n",
    "        x = []\n",
    "        eu = []\n",
    "        \n",
    "        mx = []\n",
    "        meu = []\n",
    "        for j in range(m): #loop for generating mu alternatives\n",
    "            \n",
    "            n = len(mu) #number of attributes\n",
    "            x_j = [np.random.normal(mu[i], s[i],1)[0] for i in range(n)] #generate true mu of one alternative\n",
    "            x.append(cal_u(x_j)) #append the utility of one mu alternative u(x_j)           \n",
    "            ux_j= np.array([u(x_j[i], a[i],1) for i in range(n)]) #utilities of individual attributes\n",
    "            mx.append(ux_j)\n",
    "            \n",
    "            y_j = [np.random.normal(x_j[i], t[i],1)[0] for i in range(n)] #generate estimated mu of one alternative            \n",
    "            eu.append(cal_u(y_j)) #append the utility of one mu estimates u(y_j)\n",
    "            uy_j = np.array([u(y_j[i], a[i],1) for i in range(n)]) #utilities of individual attributes\n",
    "            meu.append(uy_j)\n",
    "            \n",
    "        #Choose the alternative $j^$ with the highest expected utility\n",
    "        max_eu = max(eu)\n",
    "        max_j = eu.index(max_eu)\n",
    "\n",
    "        #disappointment \n",
    "        d = (max(x) - x[max_j])/max(x)\n",
    "        d_mu = (mx[max_j]-meu[max_j])/mx[max_j]\n",
    "        d_list.append(d)\n",
    "        d_mu_list.append(d_mu)\n",
    "        \n",
    "        #Compute the difference $u(x_\\tilde{j})-\\sum_{k=1}^1000 u_(x_\\tilde{j}k)$\n",
    "    return d_list, d_mu_list"
   ]
  },
  {
   "cell_type": "markdown",
   "metadata": {},
   "source": [
    "## overall disappointment"
   ]
  },
  {
   "cell_type": "markdown",
   "metadata": {},
   "source": [
    "Varying attribute-specific estimation uncertainty "
   ]
  },
  {
   "cell_type": "code",
   "execution_count": 108,
   "metadata": {},
   "outputs": [
    {
     "data": {
      "image/png": "[encoded data removed]",
      "text/plain": [
       "<Figure size 432x288 with 1 Axes>"
      ]
     },
     "metadata": {
      "needs_background": "light"
     },
     "output_type": "display_data"
    },
    {
     "name": "stdout",
     "output_type": "stream",
     "text": [
      "2     0.029430\n",
      "3     0.042124\n",
      "5     0.055018\n",
      "10    0.065906\n",
      "dtype: float64\n"
     ]
    }
   ],
   "source": [
    "d = {}\n",
    "for m in [2,3,5,10]:\n",
    "    d[m] = cal_post_mu(m=m)[0]\n",
    "    \n",
    "df = pd.DataFrame(d)\n",
    "df.boxplot(showmeans=True)\n",
    "plt.show()\n",
    "print(df.mean(axis=0))"
   ]
  },
  {
   "cell_type": "code",
   "execution_count": 109,
   "metadata": {},
   "outputs": [
    {
     "data": {
      "image/png": "[encoded data removed]",
      "text/plain": [
       "<Figure size 432x288 with 1 Axes>"
      ]
     },
     "metadata": {
      "needs_background": "light"
     },
     "output_type": "display_data"
    },
    {
     "name": "stdout",
     "output_type": "stream",
     "text": [
      "2     0.018505\n",
      "3     0.025794\n",
      "5     0.033191\n",
      "10    0.038460\n",
      "dtype: float64\n"
     ]
    }
   ],
   "source": [
    "d = {}\n",
    "for m in [2,3,5,10]:\n",
    "    d[m] = cal_post_mu(m=m,  a=[0.367]*n)[0]\n",
    "    \n",
    "df = pd.DataFrame(d)\n",
    "df.boxplot(showmeans=True)\n",
    "plt.show()\n",
    "print(df.mean(axis=0))"
   ]
  },
  {
   "cell_type": "code",
   "execution_count": 110,
   "metadata": {},
   "outputs": [
    {
     "data": {
      "image/png": "[encoded data removed]",
      "text/plain": [
       "<Figure size 432x288 with 1 Axes>"
      ]
     },
     "metadata": {
      "needs_background": "light"
     },
     "output_type": "display_data"
    },
    {
     "name": "stdout",
     "output_type": "stream",
     "text": [
      "2     0.046689\n",
      "3     0.067047\n",
      "5     0.093742\n",
      "10    0.116480\n",
      "dtype: float64\n"
     ]
    }
   ],
   "source": [
    "d = {}\n",
    "for m in [2,3,5,10]:\n",
    "    d[m] = cal_post_mu(m=m,  a=[-0.367]*n)[0]\n",
    "    \n",
    "df = pd.DataFrame(d)\n",
    "df.boxplot(showmeans=True)\n",
    "plt.show()\n",
    "print(df.mean(axis=0))"
   ]
  },
  {
   "cell_type": "markdown",
   "metadata": {},
   "source": [
    "### modifying the estimation uncertainty"
   ]
  },
  {
   "cell_type": "code",
   "execution_count": 148,
   "metadata": {},
   "outputs": [
    {
     "data": {
      "image/png": "[encoded data removed]",
      "text/plain": [
       "<Figure size 432x288 with 1 Axes>"
      ]
     },
     "metadata": {
      "needs_background": "light"
     },
     "output_type": "display_data"
    },
    {
     "name": "stdout",
     "output_type": "stream",
     "text": [
      "2     0.065400\n",
      "3     0.092307\n",
      "5     0.123205\n",
      "10    0.152767\n",
      "dtype: float64\n"
     ]
    }
   ],
   "source": [
    "d = {}\n",
    "for m in [2,3,5,10]:\n",
    "    d[m] = cal_post_mu(m=m, t=[1,5,1])[0]\n",
    "    \n",
    "df = pd.DataFrame(d)\n",
    "df.boxplot(showmeans=True)\n",
    "plt.show()\n",
    "print(df.mean(axis=0))"
   ]
  },
  {
   "cell_type": "code",
   "execution_count": 149,
   "metadata": {},
   "outputs": [
    {
     "data": {
      "image/png": "[encoded data removed]",
      "text/plain": [
       "<Figure size 432x288 with 1 Axes>"
      ]
     },
     "metadata": {
      "needs_background": "light"
     },
     "output_type": "display_data"
    },
    {
     "name": "stdout",
     "output_type": "stream",
     "text": [
      "2     0.042955\n",
      "3     0.054234\n",
      "5     0.063084\n",
      "10    0.068769\n",
      "dtype: float64\n"
     ]
    }
   ],
   "source": [
    "d = {}\n",
    "for m in [2,3,5,10]:\n",
    "    d[m] = cal_post_mu(m=m, t=[1,5,1], a=[0.367]*3)[0]\n",
    "    \n",
    "df = pd.DataFrame(d)\n",
    "df.boxplot(showmeans=True)\n",
    "plt.show()\n",
    "print(df.mean(axis=0))"
   ]
  },
  {
   "cell_type": "code",
   "execution_count": 150,
   "metadata": {},
   "outputs": [
    {
     "data": {
      "image/png": "[encoded data removed]",
      "text/plain": [
       "<Figure size 432x288 with 1 Axes>"
      ]
     },
     "metadata": {
      "needs_background": "light"
     },
     "output_type": "display_data"
    },
    {
     "name": "stdout",
     "output_type": "stream",
     "text": [
      "2     0.096298\n",
      "3     0.149003\n",
      "5     0.214506\n",
      "10    0.286141\n",
      "dtype: float64\n"
     ]
    }
   ],
   "source": [
    "d = {}\n",
    "for m in [2,3,5,10]:\n",
    "    d[m] = cal_post_mu(m=m, t=[1,5,1], a=[-0.367]*n)[0]\n",
    "    \n",
    "df = pd.DataFrame(d)\n",
    "df.boxplot(showmeans=True)\n",
    "plt.show()\n",
    "print(df.mean(axis=0))"
   ]
  },
  {
   "cell_type": "markdown",
   "metadata": {},
   "source": [
    "# Optimality gap posterior right way"
   ]
  },
  {
   "cell_type": "code",
   "execution_count": 162,
   "metadata": {},
   "outputs": [],
   "source": [
    "def cal_post_mu(m=5, mu=[0,0,0], s=[1,1,1], t=[1,1,1], w=[1/3, 1/3, 1/3], a=[0,0,0]):\n",
    "    \n",
    "    def cal_u(multiatt):\n",
    "        ul = [u(multiatt[i], a[i], 1) for i in range(len(multiatt))]\n",
    "        return np.dot(w, ul)\n",
    "    \n",
    "    d_list = []\n",
    "    for k in range(1000):\n",
    "        x = []\n",
    "        eu = []\n",
    "        \n",
    "        for j in range(m): #loop for generating mu alternatives\n",
    "            \n",
    "            n = len(mu) #number of attributes\n",
    "            x_j = [np.random.normal(mu[i], s[i],1)[0] for i in range(n)] #generate true mu of one alternative\n",
    "            x.append(cal_u(x_j)) #append u(x) of one mu alternative\n",
    "            \n",
    "            y_j = [np.random.normal(x_j[i], t[i],1)[0] for i in range(n)] #generate estimated mu of one alternative\n",
    "            \n",
    "            u_x_jp_l = [] #list to store 1000 u(x) of posterior u of one mu alternative \n",
    "            for z in range(100):\n",
    "                u_x_jp = [] #[u_1(x_j1), u_2(x_j2), ...]\n",
    "                \n",
    "                for i in range(n): #loop for generating posterior mu for one alternative\n",
    "                    p_mean = (t[i]**2/(s[i]**2 + t[i]**2))*mu[i] + (s[i]**2/(s[i]**2 + t[i]**2))*y_j[i]\n",
    "                    p_var = (s[i]**2*t[i]**2/(s[i]**2 + t[i]**2)) \n",
    "\n",
    "                    x_ji = np.random.normal(p_mean, np.sqrt(p_var),1)[0]\n",
    "                    u_x_ji = u(x_ji, a[i], 1)\n",
    "                    u_x_jp.append(u_x_ji)\n",
    "                \n",
    "                \n",
    "                u_x_jp_l.append(u_x_jp) #append u_x_jp of one posterior alternative (repeated 1000 times)\n",
    "            \n",
    "            e = np.mean(u_x_jp_l, axis=0) # E[u(x)|y]           \n",
    "            eu.append(np.dot(w, e)) #append w_i*E[u(x)|y]\n",
    "\n",
    "        #Choose the alternative $j^$ with the highest expected utility\n",
    "        max_eu = max(eu)\n",
    "        max_j = eu.index(max_eu)\n",
    "\n",
    "        #posterior disappointment \n",
    "        d = (max(x) - x[max_j])/max(x)\n",
    "        d_list.append(d)\n",
    "        #Compute the difference $u(x_\\tilde{j})-\\sum_{k=1}^1000 u_(x_\\tilde{j}k)$\n",
    "    return d_list\n"
   ]
  },
  {
   "cell_type": "code",
   "execution_count": 163,
   "metadata": {},
   "outputs": [
    {
     "data": {
      "image/png": "[encoded data removed]",
      "text/plain": [
       "<Figure size 432x288 with 1 Axes>"
      ]
     },
     "metadata": {
      "needs_background": "light"
     },
     "output_type": "display_data"
    },
    {
     "name": "stdout",
     "output_type": "stream",
     "text": [
      "2     0.029251\n",
      "3     0.048617\n",
      "5     0.060281\n",
      "10    0.063286\n",
      "dtype: float64\n"
     ]
    }
   ],
   "source": [
    "d = {}\n",
    "for m in [2,3,5,10]:\n",
    "    d[m] = cal_post_mu(m=m)\n",
    "    \n",
    "df = pd.DataFrame(d)\n",
    "df.boxplot(showmeans=True)\n",
    "plt.show()\n",
    "print(df.mean(axis=0))"
   ]
  },
  {
   "cell_type": "code",
   "execution_count": 164,
   "metadata": {},
   "outputs": [
    {
     "data": {
      "image/png": "[encoded data removed]",
      "text/plain": [
       "<Figure size 432x288 with 1 Axes>"
      ]
     },
     "metadata": {
      "needs_background": "light"
     },
     "output_type": "display_data"
    },
    {
     "name": "stdout",
     "output_type": "stream",
     "text": [
      "2     0.019081\n",
      "3     0.024435\n",
      "5     0.029953\n",
      "10    0.041471\n",
      "dtype: float64\n"
     ]
    }
   ],
   "source": [
    "d = {}\n",
    "for m in [2,3,5,10]:\n",
    "    d[m] = cal_post_mu(m=m, a=[0.367]*3)\n",
    "    \n",
    "df = pd.DataFrame(d)\n",
    "df.boxplot(showmeans=True)\n",
    "plt.show()\n",
    "print(df.mean(axis=0))"
   ]
  },
  {
   "cell_type": "code",
   "execution_count": 165,
   "metadata": {},
   "outputs": [
    {
     "data": {
      "image/png": "[encoded data removed]",
      "text/plain": [
       "<Figure size 432x288 with 1 Axes>"
      ]
     },
     "metadata": {
      "needs_background": "light"
     },
     "output_type": "display_data"
    },
    {
     "name": "stdout",
     "output_type": "stream",
     "text": [
      "2     0.045535\n",
      "3     0.072848\n",
      "5     0.090183\n",
      "10    0.113229\n",
      "dtype: float64\n"
     ]
    }
   ],
   "source": [
    "d = {}\n",
    "for m in [2,3,5,10]:\n",
    "    d[m] = cal_post_mu(m=m, a=[-0.367]*3)\n",
    "    \n",
    "df = pd.DataFrame(d)\n",
    "df.boxplot(showmeans=True)\n",
    "plt.show()\n",
    "print(df.mean(axis=0))"
   ]
  },
  {
   "cell_type": "code",
   "execution_count": 166,
   "metadata": {},
   "outputs": [
    {
     "data": {
      "image/png": "[encoded data removed]",
      "text/plain": [
       "<Figure size 432x288 with 1 Axes>"
      ]
     },
     "metadata": {
      "needs_background": "light"
     },
     "output_type": "display_data"
    },
    {
     "name": "stdout",
     "output_type": "stream",
     "text": [
      "2     0.040381\n",
      "3     0.058914\n",
      "5     0.078402\n",
      "10    0.089863\n",
      "dtype: float64\n"
     ]
    }
   ],
   "source": [
    "d = {}\n",
    "for m in [2,3,5,10]:\n",
    "    d[m] = cal_post_mu(m=m, t=[1,5,1])\n",
    "    \n",
    "df = pd.DataFrame(d)\n",
    "df.boxplot(showmeans=True)\n",
    "plt.show()\n",
    "print(df.mean(axis=0))"
   ]
  },
  {
   "cell_type": "code",
   "execution_count": 167,
   "metadata": {},
   "outputs": [
    {
     "data": {
      "image/png": "[encoded data removed]",
      "text/plain": [
       "<Figure size 432x288 with 1 Axes>"
      ]
     },
     "metadata": {
      "needs_background": "light"
     },
     "output_type": "display_data"
    },
    {
     "name": "stdout",
     "output_type": "stream",
     "text": [
      "2     0.026540\n",
      "3     0.036165\n",
      "5     0.044253\n",
      "10    0.058383\n",
      "dtype: float64\n"
     ]
    }
   ],
   "source": [
    "d = {}\n",
    "for m in [2,3,5,10]:\n",
    "    d[m] = cal_post_mu(m=m, t=[1,5,1], a=[0.367]*3)\n",
    "    \n",
    "df = pd.DataFrame(d)\n",
    "df.boxplot(showmeans=True)\n",
    "plt.show()\n",
    "print(df.mean(axis=0))"
   ]
  },
  {
   "cell_type": "code",
   "execution_count": 168,
   "metadata": {},
   "outputs": [
    {
     "data": {
      "image/png": "[encoded data removed]",
      "text/plain": [
       "<Figure size 432x288 with 1 Axes>"
      ]
     },
     "metadata": {
      "needs_background": "light"
     },
     "output_type": "display_data"
    },
    {
     "name": "stdout",
     "output_type": "stream",
     "text": [
      "2     0.063778\n",
      "3     0.082893\n",
      "5     0.118522\n",
      "10    0.166392\n",
      "dtype: float64\n"
     ]
    }
   ],
   "source": [
    "d = {}\n",
    "for m in [2,3,5,10]:\n",
    "    d[m] = cal_post_mu(m=m, t=[1,5,1], a=[-0.367]*3)\n",
    "    \n",
    "df = pd.DataFrame(d)\n",
    "df.boxplot(showmeans=True)\n",
    "plt.show()\n",
    "print(df.mean(axis=0))"
   ]
  },
  {
   "cell_type": "code",
   "execution_count": null,
   "metadata": {},
   "outputs": [],
   "source": []
  },
  {
   "cell_type": "code",
   "execution_count": null,
   "metadata": {},
   "outputs": [],
   "source": []
  },
  {
   "cell_type": "code",
   "execution_count": null,
   "metadata": {},
   "outputs": [],
   "source": []
  },
  {
   "cell_type": "code",
   "execution_count": 137,
   "metadata": {},
   "outputs": [],
   "source": [
    "def cal_post_mu(m=5, mu=[0,0,0], s=[1,1,1], t=[1,1,1], w=[1/3, 1/3, 1/3], a=[0,0,0]):\n",
    "    \n",
    "    def cal_u(multiatt):\n",
    "        ul = [u(multiatt[i], a[i], 1) for i in range(len(multiatt))]\n",
    "        return np.dot(w, ul)\n",
    "    \n",
    "    d_list = []\n",
    "    for k in range(1000):\n",
    "        x = []\n",
    "        eu = []\n",
    "        \n",
    "        for j in range(m): #loop for generating mu alternatives\n",
    "            \n",
    "            n = len(mu) #number of attributes\n",
    "            x_j = [np.random.normal(mu[i], s[i],1)[0] for i in range(n)] #generate true mu of one alternative\n",
    "            x.append(cal_u(x_j)) #append u(x) of one mu alternative\n",
    "            \n",
    "            y_j = [np.random.normal(x_j[i], t[i],1)[0] for i in range(n)] #generate estimated mu of one alternative\n",
    "            \n",
    "            u_x_jp_l = [] #list to store 1000 u(x) of posterior u of one mu alternative \n",
    "            for z in range(100):\n",
    "                x_jp = []\n",
    "                \n",
    "                for i in range(n): #loop for generating posterior mu for one alternative\n",
    "                    p_mean = (t[i]**2/(s[i]**2 + t[i]**2))*mu[i] + (s[i]**2/(s[i]**2 + t[i]**2))*y_j[i]\n",
    "                    p_var = (s[i]**2*t[i]**2/(s[i]**2 + t[i]**2)) \n",
    "\n",
    "                    x_jp.append(np.random.normal(p_mean, np.sqrt(p_var),1)[0])\n",
    "                \n",
    "                u_x_jp = cal_u(x_jp)\n",
    "                u_x_jp_l.append(u_x_jp) #append u(x) of one posterior alternative (repeated 1000 times)\n",
    "            \n",
    "            e = np.mean(u_x_jp_l) #compute the average of 1000 u(x)|y, which is E[u(x)|y]           \n",
    "            eu.append(e) #append E[u(x)|y]\n",
    "\n",
    "        #Choose the alternative $j^$ with the highest expected utility\n",
    "        max_eu = max(eu)\n",
    "        max_j = eu.index(max_eu)\n",
    "\n",
    "        #posterior disappointment \n",
    "        d = (max(x) - x[max_j])/max(x)\n",
    "        d_list.append(d)\n",
    "        #Compute the difference $u(x_\\tilde{j})-\\sum_{k=1}^1000 u_(x_\\tilde{j}k)$\n",
    "    return d_list\n"
   ]
  },
  {
   "cell_type": "code",
   "execution_count": 138,
   "metadata": {},
   "outputs": [
    {
     "data": {
      "image/png": "[encoded data removed]",
      "text/plain": [
       "<Figure size 432x288 with 1 Axes>"
      ]
     },
     "metadata": {
      "needs_background": "light"
     },
     "output_type": "display_data"
    },
    {
     "name": "stdout",
     "output_type": "stream",
     "text": [
      "2     0.029281\n",
      "3     0.046240\n",
      "5     0.055512\n",
      "10    0.071242\n",
      "dtype: float64\n"
     ]
    }
   ],
   "source": [
    "d = {}\n",
    "for m in [2,3,5,10]:\n",
    "    d[m] = cal_post_mu(m=m)\n",
    "    \n",
    "df = pd.DataFrame(d)\n",
    "df.boxplot(showmeans=True)\n",
    "plt.show()\n",
    "print(df.mean(axis=0))"
   ]
  },
  {
   "cell_type": "code",
   "execution_count": 139,
   "metadata": {},
   "outputs": [
    {
     "data": {
      "image/png": "[encoded data removed]",
      "text/plain": [
       "<Figure size 432x288 with 1 Axes>"
      ]
     },
     "metadata": {
      "needs_background": "light"
     },
     "output_type": "display_data"
    },
    {
     "name": "stdout",
     "output_type": "stream",
     "text": [
      "2     0.020261\n",
      "3     0.024142\n",
      "5     0.037716\n",
      "10    0.038159\n",
      "dtype: float64\n"
     ]
    }
   ],
   "source": [
    "d = {}\n",
    "for m in [2,3,5,10]:\n",
    "    d[m] = cal_post_mu(m=m, a=[0.367]*3)\n",
    "    \n",
    "df = pd.DataFrame(d)\n",
    "df.boxplot(showmeans=True)\n",
    "plt.show()\n",
    "print(df.mean(axis=0))"
   ]
  },
  {
   "cell_type": "code",
   "execution_count": 140,
   "metadata": {},
   "outputs": [
    {
     "data": {
      "image/png": "[encoded data removed]",
      "text/plain": [
       "<Figure size 432x288 with 1 Axes>"
      ]
     },
     "metadata": {
      "needs_background": "light"
     },
     "output_type": "display_data"
    },
    {
     "name": "stdout",
     "output_type": "stream",
     "text": [
      "2     0.046645\n",
      "3     0.071271\n",
      "5     0.087394\n",
      "10    0.108747\n",
      "dtype: float64\n"
     ]
    }
   ],
   "source": [
    "d = {}\n",
    "for m in [2,3,5,10]:\n",
    "    d[m] = cal_post_mu(m=m, a=[-0.367]*3)\n",
    "    \n",
    "df = pd.DataFrame(d)\n",
    "df.boxplot(showmeans=True)\n",
    "plt.show()\n",
    "print(df.mean(axis=0))"
   ]
  },
  {
   "cell_type": "markdown",
   "metadata": {},
   "source": [
    "Increase the estimation uncertainty"
   ]
  },
  {
   "cell_type": "code",
   "execution_count": 144,
   "metadata": {},
   "outputs": [
    {
     "data": {
      "image/png": "[encoded data removed]",
      "text/plain": [
       "<Figure size 432x288 with 1 Axes>"
      ]
     },
     "metadata": {
      "needs_background": "light"
     },
     "output_type": "display_data"
    },
    {
     "name": "stdout",
     "output_type": "stream",
     "text": [
      "2     0.042046\n",
      "3     0.052358\n",
      "5     0.084104\n",
      "10    0.097502\n",
      "dtype: float64\n"
     ]
    }
   ],
   "source": [
    "d = {}\n",
    "for m in [2,3,5,10]:\n",
    "    d[m] = cal_post_mu(m=m, t=[1,5,1])\n",
    "    \n",
    "df = pd.DataFrame(d)\n",
    "df.boxplot(showmeans=True)\n",
    "plt.show()\n",
    "print(df.mean(axis=0))"
   ]
  },
  {
   "cell_type": "code",
   "execution_count": 145,
   "metadata": {},
   "outputs": [
    {
     "data": {
      "image/png": "[encoded data removed]",
      "text/plain": [
       "<Figure size 432x288 with 1 Axes>"
      ]
     },
     "metadata": {
      "needs_background": "light"
     },
     "output_type": "display_data"
    },
    {
     "name": "stdout",
     "output_type": "stream",
     "text": [
      "2     0.027593\n",
      "3     0.037214\n",
      "5     0.042657\n",
      "10    0.057850\n",
      "dtype: float64\n"
     ]
    }
   ],
   "source": [
    "d = {}\n",
    "for m in [2,3,5,10]:\n",
    "    d[m] = cal_post_mu(m=m, t=[1,5,1], a=[0.367]*3)\n",
    "    \n",
    "df = pd.DataFrame(d)\n",
    "df.boxplot(showmeans=True)\n",
    "plt.show()\n",
    "print(df.mean(axis=0))"
   ]
  },
  {
   "cell_type": "code",
   "execution_count": 146,
   "metadata": {},
   "outputs": [
    {
     "data": {
      "image/png": "[encoded data removed]",
      "text/plain": [
       "<Figure size 432x288 with 1 Axes>"
      ]
     },
     "metadata": {
      "needs_background": "light"
     },
     "output_type": "display_data"
    },
    {
     "name": "stdout",
     "output_type": "stream",
     "text": [
      "2     0.059752\n",
      "3     0.082923\n",
      "5     0.119771\n",
      "10    0.156323\n",
      "dtype: float64\n"
     ]
    }
   ],
   "source": [
    "d = {}\n",
    "for m in [2,3,5,10]:\n",
    "    d[m] = cal_post_mu(m=m, t=[1,5,1], a=[-0.367]*3)\n",
    "    \n",
    "df = pd.DataFrame(d)\n",
    "df.boxplot(showmeans=True)\n",
    "plt.show()\n",
    "print(df.mean(axis=0))"
   ]
  },
  {
   "cell_type": "markdown",
   "metadata": {},
   "source": [
    "# Optimality gap posterior wrong way"
   ]
  },
  {
   "cell_type": "code",
   "execution_count": 152,
   "metadata": {},
   "outputs": [],
   "source": [
    "def cal_post_wrong_mu(m=5, mu=[0,0,0], s=[1,1,1], t=[1,1,1], w=[1/3, 1/3, 1/3], a=[0,0,0]):\n",
    "    \n",
    "    def cal_u(multiatt):\n",
    "        ul = [u(multiatt[i], a[i], 1) for i in range(len(multiatt))]\n",
    "        return np.dot(w, ul)\n",
    "    \n",
    "    d_list = []\n",
    "    d_mu_list = []\n",
    "    \n",
    "    for k in range(10000):\n",
    "        x = [] #place holder for alternatives\n",
    "        mx = []\n",
    "        eu = [] #place holder for posterior estimated utilties\n",
    "        meu = []\n",
    "        \n",
    "        for j in range(m): #loop for generating mu alternatives\n",
    "            n = len(mu) #number of attributes\n",
    "            x_j = [np.random.normal(mu[i], s[i],1)[0] for i in range(n)] #generate true m u of one alternative\n",
    "            x.append(cal_u(x_j)) #append u(x) of one mu alternative\n",
    "            ux_j= np.array([u(x_j[i], a[i],1) for i in range(n)]) #utilities of individual attributes\n",
    "            mx.append(ux_j)\n",
    "            \n",
    "            y_j = [np.random.normal(x_j[i], t[i],1)[0] for i in range(n)] #generate estimated m u of one alternative\n",
    "            \n",
    "            x_jp = []\n",
    "            \n",
    "            for i in range(n): #loop for generating posterior m u for one alternative\n",
    "                p_mean = (t[i]**2/(s[i]**2 + t[i]**2))*mu[i] + (s[i]**2/(s[i]**2 + t[i]**2))*y_j[i]\n",
    "                p_var = (s[i]**2*t[i]**2/(s[i]**2 + t[i]**2)) \n",
    "\n",
    "                x_p_ji = list(np.random.normal(p_mean, np.sqrt(p_var),1000)) #generate 1000 of one attribute \n",
    "                x_jp.append(np.mean(x_p_ji)) #append average of that single attribute E[Xji|Y]\n",
    "                \n",
    "            eu.append(cal_u(x_jp)) #calculate m u of one alternative\n",
    "            ux_jp = np.array([u(x_jp[i], a[i],1) for i in range(n)]) #utilities of individual attributes\n",
    "            meu.append(ux_jp)\n",
    "        \n",
    "        #Choose the alternative $j^$ with the highest expected utility\n",
    "        max_eu = max(eu)\n",
    "        max_j = eu.index(max_eu)\n",
    "\n",
    "        #posterior disappointment \n",
    "        d = (max(x) - x[max_j])/max(x)\n",
    "        d_list.append(d)\n",
    "        d_mu = (mx[max_j]-x[max_j])/mx[max_j]\n",
    "        d_mu_list.append(d_mu)\n",
    "        \n",
    "    return d_list"
   ]
  },
  {
   "cell_type": "code",
   "execution_count": 153,
   "metadata": {},
   "outputs": [
    {
     "data": {
      "image/png": "[encoded data removed]",
      "text/plain": [
       "<Figure size 432x288 with 1 Axes>"
      ]
     },
     "metadata": {
      "needs_background": "light"
     },
     "output_type": "display_data"
    },
    {
     "name": "stdout",
     "output_type": "stream",
     "text": [
      "2     0.030019\n",
      "3     0.042134\n",
      "5     0.054418\n",
      "10    0.066776\n",
      "dtype: float64\n"
     ]
    }
   ],
   "source": [
    "d = {}\n",
    "for m in [2,3,5,10]:\n",
    "    d[m] = cal_post_wrong_mu(m=m)\n",
    "    \n",
    "df = pd.DataFrame(d)\n",
    "df.boxplot(showmeans=True)\n",
    "plt.show()\n",
    "print(df.mean(axis=0))"
   ]
  },
  {
   "cell_type": "code",
   "execution_count": 154,
   "metadata": {},
   "outputs": [
    {
     "data": {
      "image/png": "[encoded data removed]",
      "text/plain": [
       "<Figure size 432x288 with 1 Axes>"
      ]
     },
     "metadata": {
      "needs_background": "light"
     },
     "output_type": "display_data"
    },
    {
     "name": "stdout",
     "output_type": "stream",
     "text": [
      "2     0.019627\n",
      "3     0.026310\n",
      "5     0.032314\n",
      "10    0.038421\n",
      "dtype: float64\n"
     ]
    }
   ],
   "source": [
    "d = {}\n",
    "for m in [2,3,5,10]:\n",
    "    d[m] = cal_post_wrong_mu(m=m, a=[0.367]*3)\n",
    "    \n",
    "df = pd.DataFrame(d)\n",
    "df.boxplot(showmeans=True)\n",
    "plt.show()\n",
    "print(df.mean(axis=0))"
   ]
  },
  {
   "cell_type": "code",
   "execution_count": 155,
   "metadata": {},
   "outputs": [
    {
     "data": {
      "image/png": "[encoded data removed]",
      "text/plain": [
       "<Figure size 432x288 with 1 Axes>"
      ]
     },
     "metadata": {
      "needs_background": "light"
     },
     "output_type": "display_data"
    },
    {
     "name": "stdout",
     "output_type": "stream",
     "text": [
      "2     0.044666\n",
      "3     0.065974\n",
      "5     0.088355\n",
      "10    0.116817\n",
      "dtype: float64\n"
     ]
    }
   ],
   "source": [
    "d = {}\n",
    "for m in [2,3,5,10]:\n",
    "    d[m] = cal_post_wrong_mu(m=m, a=[-0.367]*3)\n",
    "    \n",
    "df = pd.DataFrame(d)\n",
    "df.boxplot(showmeans=True)\n",
    "plt.show()\n",
    "print(df.mean(axis=0))"
   ]
  },
  {
   "cell_type": "code",
   "execution_count": 156,
   "metadata": {},
   "outputs": [
    {
     "data": {
      "image/png": "[encoded data removed]",
      "text/plain": [
       "<Figure size 432x288 with 1 Axes>"
      ]
     },
     "metadata": {
      "needs_background": "light"
     },
     "output_type": "display_data"
    },
    {
     "name": "stdout",
     "output_type": "stream",
     "text": [
      "2     0.041514\n",
      "3     0.056830\n",
      "5     0.075981\n",
      "10    0.093155\n",
      "dtype: float64\n"
     ]
    }
   ],
   "source": [
    "d = {}\n",
    "for m in [2,3,5,10]:\n",
    "    d[m] = cal_post_wrong_mu(m=m, t=[1,5,1])\n",
    "    \n",
    "df = pd.DataFrame(d)\n",
    "df.boxplot(showmeans=True)\n",
    "plt.show()\n",
    "print(df.mean(axis=0))"
   ]
  },
  {
   "cell_type": "code",
   "execution_count": 157,
   "metadata": {},
   "outputs": [
    {
     "data": {
      "image/png": "[encoded data removed]",
      "text/plain": [
       "<Figure size 432x288 with 1 Axes>"
      ]
     },
     "metadata": {
      "needs_background": "light"
     },
     "output_type": "display_data"
    },
    {
     "name": "stdout",
     "output_type": "stream",
     "text": [
      "2     0.026207\n",
      "3     0.036125\n",
      "5     0.046701\n",
      "10    0.056340\n",
      "dtype: float64\n"
     ]
    }
   ],
   "source": [
    "d = {}\n",
    "for m in [2,3,5,10]:\n",
    "    d[m] = cal_post_wrong_mu(m=m, a=[0.367]*3, t=[1,5,1])\n",
    "    \n",
    "df = pd.DataFrame(d)\n",
    "df.boxplot(showmeans=True)\n",
    "plt.show()\n",
    "print(df.mean(axis=0))"
   ]
  },
  {
   "cell_type": "code",
   "execution_count": 158,
   "metadata": {},
   "outputs": [
    {
     "data": {
      "image/png": "[encoded data removed]",
      "text/plain": [
       "<Figure size 432x288 with 1 Axes>"
      ]
     },
     "metadata": {
      "needs_background": "light"
     },
     "output_type": "display_data"
    },
    {
     "name": "stdout",
     "output_type": "stream",
     "text": [
      "2     0.062540\n",
      "3     0.089955\n",
      "5     0.121276\n",
      "10    0.149040\n",
      "dtype: float64\n"
     ]
    }
   ],
   "source": [
    "d = {}\n",
    "for m in [2,3,5,10]:\n",
    "    d[m] = cal_post_wrong_mu(m=m, a=[-0.367]*3, t=[1,5,1])\n",
    "    \n",
    "df = pd.DataFrame(d)\n",
    "df.boxplot(showmeans=True)\n",
    "plt.show()\n",
    "print(df.mean(axis=0))"
   ]
  }
 ],
 "metadata": {
  "kernelspec": {
   "display_name": "Python 3",
   "language": "python",
   "name": "python3"
  },
  "language_info": {
   "codemirror_mode": {
    "name": "ipython",
    "version": 3
   },
   "file_extension": ".py",
   "mimetype": "text/x-python",
   "name": "python",
   "nbconvert_exporter": "python",
   "pygments_lexer": "ipython3",
   "version": "3.7.3"
  }
 },
 "nbformat": 4,
 "nbformat_minor": 2
}
