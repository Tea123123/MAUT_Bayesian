{
 "cells": [
  {
   "cell_type": "code",
   "execution_count": 1,
   "id": "bba3bd79",
   "metadata": {},
   "outputs": [],
   "source": [
    "import pandas as pd\n",
    "import numpy as np\n",
    "import matplotlib.pyplot as plt\n",
    "from scipy import stats\n",
    "from gurobipy import *\n",
    "import scipy.stats as ss"
   ]
  },
  {
   "cell_type": "code",
   "execution_count": 2,
   "id": "1bb77b2e",
   "metadata": {},
   "outputs": [],
   "source": [
    "y = pd.read_excel(\"example.xlsx\", sheet_name=\"Sheet3\", index_col=0)\n",
    "px = np.array([0.2]*5)\n",
    "y = np.array(y)\n",
    "py = y.sum(axis=0)\n",
    "py = py/sum(py)"
   ]
  },
  {
   "cell_type": "code",
   "execution_count": 3,
   "id": "69add31d",
   "metadata": {
    "scrolled": false
   },
   "outputs": [
    {
     "data": {
      "text/plain": [
       "array([0.312, 0.128, 0.12 , 0.128, 0.312])"
      ]
     },
     "execution_count": 3,
     "metadata": {},
     "output_type": "execute_result"
    }
   ],
   "source": [
    "py"
   ]
  },
  {
   "cell_type": "code",
   "execution_count": 4,
   "id": "7fb2f5b1",
   "metadata": {},
   "outputs": [],
   "source": [
    "pxy = y\n",
    "for i in range(5):\n",
    "    pxy[:, i] = y[:, i]*px\n",
    "    \n",
    "for j in range(5):\n",
    "    pxy[j, :] = pxy[j, :]/py "
   ]
  },
  {
   "cell_type": "code",
   "execution_count": 5,
   "id": "a5a449d4",
   "metadata": {},
   "outputs": [
    {
     "data": {
      "text/html": [
       "<div>\n",
       "<style scoped>\n",
       "    .dataframe tbody tr th:only-of-type {\n",
       "        vertical-align: middle;\n",
       "    }\n",
       "\n",
       "    .dataframe tbody tr th {\n",
       "        vertical-align: top;\n",
       "    }\n",
       "\n",
       "    .dataframe thead th {\n",
       "        text-align: right;\n",
       "    }\n",
       "</style>\n",
       "<table border=\"1\" class=\"dataframe\">\n",
       "  <thead>\n",
       "    <tr style=\"text-align: right;\">\n",
       "      <th></th>\n",
       "      <th>0</th>\n",
       "      <th>1</th>\n",
       "      <th>2</th>\n",
       "      <th>3</th>\n",
       "      <th>4</th>\n",
       "    </tr>\n",
       "  </thead>\n",
       "  <tbody>\n",
       "    <tr>\n",
       "      <th>0</th>\n",
       "      <td>0.641026</td>\n",
       "      <td>0.0000</td>\n",
       "      <td>0.000000</td>\n",
       "      <td>0.000000e+00</td>\n",
       "      <td>0.000000e+00</td>\n",
       "    </tr>\n",
       "    <tr>\n",
       "      <th>1</th>\n",
       "      <td>0.230769</td>\n",
       "      <td>0.5625</td>\n",
       "      <td>0.333333</td>\n",
       "      <td>1.250000e-01</td>\n",
       "      <td>2.351758e-10</td>\n",
       "    </tr>\n",
       "    <tr>\n",
       "      <th>2</th>\n",
       "      <td>0.128205</td>\n",
       "      <td>0.3125</td>\n",
       "      <td>0.333333</td>\n",
       "      <td>3.125000e-01</td>\n",
       "      <td>1.282051e-01</td>\n",
       "    </tr>\n",
       "    <tr>\n",
       "      <th>3</th>\n",
       "      <td>0.000000</td>\n",
       "      <td>0.1250</td>\n",
       "      <td>0.333333</td>\n",
       "      <td>5.625000e-01</td>\n",
       "      <td>2.307692e-01</td>\n",
       "    </tr>\n",
       "    <tr>\n",
       "      <th>4</th>\n",
       "      <td>0.000000</td>\n",
       "      <td>0.0000</td>\n",
       "      <td>0.000000</td>\n",
       "      <td>1.172239e-12</td>\n",
       "      <td>6.410256e-01</td>\n",
       "    </tr>\n",
       "  </tbody>\n",
       "</table>\n",
       "</div>"
      ],
      "text/plain": [
       "          0       1         2             3             4\n",
       "0  0.641026  0.0000  0.000000  0.000000e+00  0.000000e+00\n",
       "1  0.230769  0.5625  0.333333  1.250000e-01  2.351758e-10\n",
       "2  0.128205  0.3125  0.333333  3.125000e-01  1.282051e-01\n",
       "3  0.000000  0.1250  0.333333  5.625000e-01  2.307692e-01\n",
       "4  0.000000  0.0000  0.000000  1.172239e-12  6.410256e-01"
      ]
     },
     "execution_count": 5,
     "metadata": {},
     "output_type": "execute_result"
    }
   ],
   "source": [
    "#row represent x and column represent y: p(x|y)\n",
    "pd.DataFrame(pxy)"
   ]
  },
  {
   "cell_type": "code",
   "execution_count": 6,
   "id": "11dcf9fd",
   "metadata": {},
   "outputs": [],
   "source": [
    "x = [1,2,3,4,5]"
   ]
  },
  {
   "cell_type": "code",
   "execution_count": 7,
   "id": "d2619029",
   "metadata": {
    "scrolled": true
   },
   "outputs": [
    {
     "data": {
      "text/plain": [
       "[(0, 0),\n",
       " (0, 1),\n",
       " (0, 2),\n",
       " (0, 3),\n",
       " (0, 4),\n",
       " (1, 0),\n",
       " (1, 1),\n",
       " (1, 2),\n",
       " (1, 3),\n",
       " (1, 4),\n",
       " (2, 0),\n",
       " (2, 1),\n",
       " (2, 2),\n",
       " (2, 3),\n",
       " (2, 4),\n",
       " (3, 0),\n",
       " (3, 1),\n",
       " (3, 2),\n",
       " (3, 3),\n",
       " (3, 4),\n",
       " (4, 0),\n",
       " (4, 1),\n",
       " (4, 2),\n",
       " (4, 3),\n",
       " (4, 4)]"
      ]
     },
     "execution_count": 7,
     "metadata": {},
     "output_type": "execute_result"
    }
   ],
   "source": [
    "y_c = [(y_1, y_2) for y_1 in range(5) for y_2 in range(5)]\n",
    "y_c"
   ]
  },
  {
   "cell_type": "code",
   "execution_count": 8,
   "id": "5ea95028",
   "metadata": {},
   "outputs": [],
   "source": [
    "def produce_zs(a): #convex concave function\n",
    "\n",
    "    u2_min = 0.5\n",
    "    u2_max = 5.5\n",
    "\n",
    "    def u(x,a):\n",
    "        if x>u2_max:\n",
    "            return 1\n",
    "        elif x<u2_min: \n",
    "            return 0\n",
    "        elif a == 0:\n",
    "            return (1/(u2_max-u2_min))*(x-u2_min)\n",
    "        else: \n",
    "            def b(x):\n",
    "                return 1-math.e**(-a*x)\n",
    "            return (b(x)-b(u2_min))/(b(u2_max)-b(u2_min))\n",
    "        \n",
    "    ux = np.array([u(x, a) for x in x])\n",
    "\n",
    "    z = np.zeros((5,5))\n",
    "    for i in range(5):\n",
    "        z[:, i] = pxy[:, i]*ux\n",
    "\n",
    "    z = z.sum(axis=0) #z for alternative 0-4\n",
    "    \n",
    "    z2 = np.zeros((5,5))\n",
    "\n",
    "    for i in range(5):\n",
    "        z2[:, i] = x*pxy[:, i]\n",
    "\n",
    "    z2 = [u(x, a) for x in list(z2.sum(axis=0))]\n",
    "    return (z, z2)"
   ]
  },
  {
   "cell_type": "code",
   "execution_count": 9,
   "id": "e9e48a31",
   "metadata": {},
   "outputs": [],
   "source": [
    "def produce_zs2(): #sigmoid function\n",
    "    def u(x): return 1/(1+math.exp(-x+2.5))\n",
    "    \n",
    "    ux = np.array([u(x) for x in x])\n",
    "\n",
    "    z = np.zeros((5,5))\n",
    "    for i in range(5):\n",
    "        z[:, i] = pxy[:, i]*ux\n",
    "\n",
    "    z = z.sum(axis=0) #z for alternative 0-4\n",
    "    \n",
    "    z2 = np.zeros((5,5))\n",
    "\n",
    "    for i in range(5):\n",
    "        z2[:, i] = x*pxy[:, i]\n",
    "\n",
    "    z2 = [u(x) for x in list(z2.sum(axis=0))]\n",
    "    return (z, z2)"
   ]
  },
  {
   "cell_type": "code",
   "execution_count": 29,
   "id": "daacd584",
   "metadata": {},
   "outputs": [
    {
     "data": {
      "text/plain": [
       "array([ True,  True,  True,  True,  True,  True,  True,  True,  True,\n",
       "       False, False, False, False, False, False, False, False, False,\n",
       "       False,  True,  True,  True,  True,  True,  True])"
      ]
     },
     "execution_count": 29,
     "metadata": {},
     "output_type": "execute_result"
    }
   ],
   "source": [
    "w = [0.5, 0.5]\n",
    "\n",
    "(z_a3, z2_a3) = produce_zs(-3) #generate z and z tilde from concave utility function\n",
    "(z_, z2_) = produce_zs2() #generate z and z tilde from sigmoid function \n",
    "\n",
    "zs = []\n",
    "z2s = []\n",
    "for combo in y_c:\n",
    "    i1 = combo[0]\n",
    "    i2 = combo[1]\n",
    "\n",
    "    zs.append(np.dot(w, [z_[i1], z_a3[i2]]))\n",
    "    z2s.append(np.dot(w, [z2_[i1], z2_a3[i2]]))\n",
    "ss.rankdata(zs) == ss.rankdata(z2s)"
   ]
  },
  {
   "cell_type": "code",
   "execution_count": 30,
   "id": "4d162a1a",
   "metadata": {},
   "outputs": [],
   "source": [
    "diff_combo = np.array(y_c)[ss.rankdata(zs) != ss.rankdata(z2s)]"
   ]
  },
  {
   "cell_type": "code",
   "execution_count": 31,
   "id": "994107ed",
   "metadata": {},
   "outputs": [
    {
     "name": "stdout",
     "output_type": "stream",
     "text": [
      "[2, 5]\n",
      "0.5090819755200268\n",
      "0.14566641523627705\n",
      "z 0.32737419537815193\n",
      "z2 0.2836794403595454\n",
      "[3, 1]\n",
      "0.6058581584057752\n",
      "7.78357592527207e-05\n",
      "z 0.30296799708251393\n",
      "z2 0.31123246865292264\n",
      "[3, 2]\n",
      "0.6058581584057752\n",
      "0.001576647228817489\n",
      "z 0.3037174028172963\n",
      "z2 0.3113039428012126\n",
      "[3, 3]\n",
      "0.6058581584057752\n",
      "0.003896234406700238\n",
      "z 0.3048771964062377\n",
      "z2 0.31150605472870174\n",
      "[3, 4]\n",
      "0.6058581584057752\n",
      "0.006424787528653967\n",
      "z 0.30614147296721456\n",
      "z2 0.31225699162817555\n",
      "[3, 5]\n",
      "0.6058581584057752\n",
      "0.14566641523627705\n",
      "z 0.3757622868210261\n",
      "z2 0.33709914864106416\n",
      "[4, 1]\n",
      "0.7015967665957551\n",
      "7.78357592527207e-05\n",
      "z 0.3508373011775039\n",
      "z2 0.3592999991296387\n",
      "[4, 2]\n",
      "0.7015967665957551\n",
      "0.001576647228817489\n",
      "z 0.3515867069122863\n",
      "z2 0.3593714732779287\n",
      "[4, 3]\n",
      "0.7015967665957551\n",
      "0.003896234406700238\n",
      "z 0.3527465005012277\n",
      "z2 0.3595735852054178\n",
      "[4, 4]\n",
      "0.7015967665957551\n",
      "0.006424787528653967\n",
      "z 0.3540107770622045\n",
      "z2 0.36032452210489163\n"
     ]
    }
   ],
   "source": [
    "for combo in diff_combo:\n",
    "    i1 = combo[0]\n",
    "    i2 = combo[1]\n",
    "    print([i1+1, i2+1])\n",
    "    \n",
    "    print(z_[i1])\n",
    "    print(z_a3[i2])\n",
    "    print(\"z\", np.dot(w, [z_[i1], z_a3[i2]]))\n",
    "    print(\"z2\", np.dot(w, [z2_[i1], z2_a3[i2]]))\n"
   ]
  },
  {
   "cell_type": "code",
   "execution_count": null,
   "id": "7182e991",
   "metadata": {},
   "outputs": [],
   "source": []
  },
  {
   "cell_type": "code",
   "execution_count": null,
   "id": "c7a07655",
   "metadata": {},
   "outputs": [],
   "source": []
  },
  {
   "cell_type": "code",
   "execution_count": null,
   "id": "05f61249",
   "metadata": {},
   "outputs": [],
   "source": []
  },
  {
   "cell_type": "code",
   "execution_count": 128,
   "id": "e3b9573d",
   "metadata": {},
   "outputs": [
    {
     "data": {
      "text/plain": [
       "array([ True,  True,  True,  True,  True,  True,  True,  True,  True,\n",
       "        True,  True,  True,  True,  True,  True,  True,  True,  True,\n",
       "        True,  True,  True,  True,  True,  True,  True])"
      ]
     },
     "execution_count": 128,
     "metadata": {},
     "output_type": "execute_result"
    }
   ],
   "source": []
  }
 ],
 "metadata": {
  "kernelspec": {
   "display_name": "Python 3 (ipykernel)",
   "language": "python",
   "name": "python3"
  },
  "language_info": {
   "codemirror_mode": {
    "name": "ipython",
    "version": 3
   },
   "file_extension": ".py",
   "mimetype": "text/x-python",
   "name": "python",
   "nbconvert_exporter": "python",
   "pygments_lexer": "ipython3",
   "version": "3.9.7"
  }
 },
 "nbformat": 4,
 "nbformat_minor": 5
}
