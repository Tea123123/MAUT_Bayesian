{
 "cells": [
  {
   "cell_type": "code",
   "execution_count": 166,
   "id": "52a458f2",
   "metadata": {},
   "outputs": [],
   "source": [
    "import pandas as pd\n",
    "import numpy as np\n",
    "\n",
    "import matplotlib.pyplot as plt\n",
    "import math\n",
    "import seaborn as sns\n",
    "from collections import Counter\n",
    "\n",
    "import matplotlib.ticker as plticker\n"
   ]
  },
  {
   "cell_type": "code",
   "execution_count": null,
   "id": "c7b8ab7a",
   "metadata": {},
   "outputs": [],
   "source": []
  },
  {
   "cell_type": "code",
   "execution_count": 170,
   "id": "48d94739",
   "metadata": {},
   "outputs": [],
   "source": [
    "#attribute-specific mean, uncertainty, distribution\n",
    "class Attribute:\n",
    "    def __init__(self, m, std, dist=\"normal\"):\n",
    "        self.mean = m\n",
    "        self.std = std\n",
    "        if dist == \"normal\":\n",
    "            self.value = np.random.normal(m, std, 1)[0]\n",
    "        elif dist == \"lognormal\":\n",
    "            self.value = np.random.lognormal(m, std, 1)[0]\n",
    "    \n",
    "#attribute-specific utility function\n",
    "class U:\n",
    "    def __init__(self, x, a, x_min, x_max): #parameter: performance x, risk param a \\in [-1,1],\n",
    "        self.a = a\n",
    "        #self.std = s \n",
    "        self.x =x\n",
    "        self.min = x_min\n",
    "        self.max = x_max\n",
    "        self.mean = (x_min+x_max)/2.0\n",
    "        \n",
    "    def value(self):\n",
    "        if self.x <= self.min:\n",
    "            return 0\n",
    "        elif self.x >= self.max:\n",
    "            return 1\n",
    "        elif self.a == 0:\n",
    "            return (1/(self.max-self.min))*(self.x-self.mean) + 0.5\n",
    "        else:\n",
    "            def b(x):\n",
    "                return 1-math.e**(-self.a*x)\n",
    "            if self.a >0:\n",
    "                self.y_up = -b(self.min-self.mean)\n",
    "            else:\n",
    "                self.y_up = -b(self.mean-self.max)\n",
    "                \n",
    "            up = b(self.x-self.mean) + self.y_up\n",
    "            down = (b(self.max-self.mean)-b(self.min-self.mean))  \n",
    "            return up/down\n",
    "        \n",
    "    def graph(self):\n",
    "        X = np.arange(self.min, self.max, 0.05)\n",
    "        Y1 = [U(x,0.367, self.min, self.max).value() for x in X]\n",
    "        Y2 = [U(x,-0.367, self.min, self.max).value() for x in X]\n",
    "        Y3 = [U(x,0,self.min, self.max).value() for x in X] \n",
    "        Y4 = [U(x,self.a, self.min, self.max).value() for x in X]\n",
    "        plt.plot(X,Y3, label=r'$a_i=0$', color='black') \n",
    "        plt.plot(X,Y1, label=r'$a_i=0.367$', color='black', linestyle='dotted') \n",
    "        plt.plot(X,Y2, label=r'$a_i=-0.367$', color='black', linestyle='dashed') \n",
    "        plt.plot(X,Y4, label=r'$a_i=$' + str(self.a), color='red') \n",
    "        #plt.axvline(0, color='k')\n",
    "        #plt.axhline(0, color='k')\n",
    "        plt.xlabel(r\"$x_{ji}$\")\n",
    "        plt.ylabel(r\"$u_i(x_{ji})$\")\n",
    "\n",
    "        plt.yticks(np.arange(0, 1.25, 0.25))\n",
    "\n",
    "        plt.grid(which='major', axis='both', linestyle='-')\n",
    "        plt.legend()"
   ]
  },
  {
   "cell_type": "code",
   "execution_count": 172,
   "id": "2397011c",
   "metadata": {},
   "outputs": [
    {
     "data": {
      "image/png": "[encoded data removed]",
      "text/plain": [
       "<Figure size 432x288 with 1 Axes>"
      ]
     },
     "metadata": {
      "needs_background": "light"
     },
     "output_type": "display_data"
    }
   ],
   "source": [
    "u = U(0, 0.5, 8, 20)\n",
    "u.graph()"
   ]
  },
  {
   "cell_type": "code",
   "execution_count": 237,
   "id": "2ae199c8",
   "metadata": {},
   "outputs": [],
   "source": [
    "class Alternative:\n",
    "    def __init__(self, n=3):#number of attribute\n",
    "        self.n = n\n",
    "        self.U_l = [U(x=0, a=0, x_min=-3, x_max=3)]*n\n",
    "        self.u_l = [u.value() for u in self.U_l]\n",
    "        self.w = [1/n]*n\n",
    "        self.mu = np.dot(self.w, self.u_l)\n",
    "    \n",
    "    def update_mu(self):\n",
    "        self.mu = np.dot(self.w, self.u_l)\n",
    "    \n",
    "    def update_u(self, a_i, x, a, x_min, x_max):\n",
    "        self.U_l[a_i] = U(x=x, a=a, x_min=x_min, x_max=x_max)\n",
    "        self.u_l = [u.value() for u in self.U_l]\n",
    "        self.update_mu()\n",
    "    \n",
    "    def update_w(self, w):\n",
    "        self.w = w\n",
    "        self.update_mu()"
   ]
  },
  {
   "cell_type": "code",
   "execution_count": null,
   "id": "3c654e91",
   "metadata": {},
   "outputs": [],
   "source": [
    "class Problem:\n",
    "    def __init__(self, m=5):#number of alternatives\n",
    "        self.m = m\n",
    "        self.A_l = [Alternative(3)]*m \n",
    "        \n",
    "        \n",
    "    #true values -> maximum alternative\n",
    "    #estimates -> maximum alternative\n",
    "    #z -> maximum alternative\n",
    "    #tilde z -> maximum alternative"
   ]
  },
  {
   "cell_type": "code",
   "execution_count": null,
   "id": "3dcbba68",
   "metadata": {},
   "outputs": [],
   "source": [
    "#how many times\n",
    "#parameters a, t, w\n",
    "class Simulation:\n",
    "    #pds\n",
    "    #differnces in EU\n",
    "    #prob truly optimal"
   ]
  },
  {
   "cell_type": "code",
   "execution_count": null,
   "id": "91976b76",
   "metadata": {},
   "outputs": [],
   "source": [
    "#what to be drawn\n",
    "class draw_plots: \n",
    "    "
   ]
  },
  {
   "cell_type": "code",
   "execution_count": null,
   "id": "48824d3a",
   "metadata": {},
   "outputs": [],
   "source": []
  },
  {
   "cell_type": "code",
   "execution_count": null,
   "id": "a7bb6d24",
   "metadata": {},
   "outputs": [],
   "source": []
  },
  {
   "cell_type": "code",
   "execution_count": null,
   "id": "4a88b1f5",
   "metadata": {},
   "outputs": [],
   "source": []
  },
  {
   "cell_type": "code",
   "execution_count": null,
   "id": "2599fd23",
   "metadata": {},
   "outputs": [],
   "source": []
  },
  {
   "cell_type": "code",
   "execution_count": null,
   "id": "ade20a70",
   "metadata": {},
   "outputs": [],
   "source": []
  },
  {
   "cell_type": "code",
   "execution_count": 4,
   "id": "b7594a7b",
   "metadata": {},
   "outputs": [],
   "source": [
    "def u(x,a,s):\n",
    "    if a == 0:\n",
    "        return (1/6*s)*x + 0.5\n",
    "    else: \n",
    "        def b(x):\n",
    "            return 1-math.e**(-a*x)\n",
    "        return (b(x)-b(-3*s))/(b(3*s)-b(-3*s))\n",
    "    \n",
    "def us(x_list, a, s): #utility function for the list of values           \n",
    "    return [u(x, a, s) for x in x_list]\n",
    "\n",
    "def b(x):\n",
    "    return 1-math.e**(-a*x)\n",
    "\n"
   ]
  },
  {
   "cell_type": "code",
   "execution_count": 9,
   "id": "981a2639",
   "metadata": {},
   "outputs": [
    {
     "data": {
      "text/plain": [
       "<matplotlib.legend.Legend at 0x7fc8a96f4760>"
      ]
     },
     "execution_count": 9,
     "metadata": {},
     "output_type": "execute_result"
    },
    {
     "data": {
      "image/png": "[encoded data removed]",
      "text/plain": [
       "<Figure size 432x288 with 1 Axes>"
      ]
     },
     "metadata": {
      "needs_background": "light"
     },
     "output_type": "display_data"
    }
   ],
   "source": [
    "r_1 = 8\n",
    "r_2 = 14\n",
    "m = (r_1 + r_2)/2\n",
    "\n",
    "X = np.arange(r_1, r_2, 0.05)\n",
    "Y1 = [u(x-m,0.367,1) for x in X]\n",
    "Y2 = [u(x-m,-0.367,1) for x in X]\n",
    "Y3 = [u(x-m,0,1) for x in X] \n",
    "plt.plot(X,Y3, label=r'$a_i=0$', color='black') \n",
    "plt.plot(X,Y1, label=r'$a_i=0.367$', color='black', linestyle='dotted') \n",
    "plt.plot(X,Y2, label=r'$a_i=-0.367$', color='black', linestyle='dashed') \n",
    "plt.axvline(r_1, color='k')\n",
    "plt.axhline(0, color='k')\n",
    "plt.xlabel(r\"$x_{ji}$\")\n",
    "plt.ylabel(r\"$u_i(x_{ji})$\")\n",
    "\n",
    "import matplotlib.ticker as plticker\n",
    "\n",
    "\n",
    "plt.yticks(np.arange(0, 1.25, 0.25))\n",
    "\n",
    "plt.grid(which='major', axis='both', linestyle='-')\n",
    "plt.legend()"
   ]
  },
  {
   "cell_type": "code",
   "execution_count": 13,
   "id": "52028ab6",
   "metadata": {},
   "outputs": [
    {
     "data": {
      "image/png": "[encoded data removed]",
      "text/plain": [
       "<Figure size 432x288 with 1 Axes>"
      ]
     },
     "metadata": {
      "needs_background": "light"
     },
     "output_type": "display_data"
    }
   ],
   "source": [
    "r_1 = 8\n",
    "r_2 = 14\n",
    "m = (r_1 + r_2)/2\n",
    "\n",
    "xlabel = \"Financial capacity\"\n",
    "\n",
    "X = np.arange(r_1, r_2, 0.05)\n",
    "Y1 = [u(x-m,0.367,1) for x in X]\n",
    "Y2 = [u(x-m,-0.367,1) for x in X]\n",
    "Y3 = [u(x-m,0,1) for x in X] \n",
    "plt.plot(X,Y3, label=r'$a_i=0$', color='black') \n",
    "#plt.plot(X,Y1, label=r'$a_i=0.367$', color='black', linestyle='dotted') \n",
    "#plt.plot(X,Y2, label=r'$a_i=-0.367$', color='black', linestyle='dashed') \n",
    "plt.axvline(r_1, color='k')\n",
    "plt.axhline(0, color='k')\n",
    "plt.xlabel(xlabel)\n",
    "plt.ylabel(r\"$u_i(\\cdot)$\")\n",
    "\n",
    "import matplotlib.ticker as plticker\n",
    "\n",
    "\n",
    "plt.yticks(np.arange(0, 1.25, 0.25))\n",
    "\n",
    "plt.grid(which='major', axis='both', linestyle='-')\n",
    "#plt.legend()"
   ]
  },
  {
   "cell_type": "code",
   "execution_count": 20,
   "id": "49ee3276",
   "metadata": {},
   "outputs": [
    {
     "data": {
      "image/png": "[encoded data removed]",
      "text/plain": [
       "<Figure size 432x288 with 1 Axes>"
      ]
     },
     "metadata": {
      "needs_background": "light"
     },
     "output_type": "display_data"
    }
   ],
   "source": [
    "#currently the gap between them should be 6\n",
    "r_1 = 10\n",
    "r_2 = 16\n",
    "m = (r_1 + r_2)/2\n",
    "\n",
    "xlabel = \"Technical ability\"\n",
    "\n",
    "X = np.arange(r_1, r_2, 0.05)\n",
    "Y1 = [u(x-m,0.367,1) for x in X]\n",
    "Y2 = [u(x-m,-0.367,1) for x in X]\n",
    "Y3 = [u(x-m,0,1) for x in X] \n",
    "#plt.plot(X,Y3, label=r'$a_i=0$', color='black') \n",
    "#plt.plot(X,Y1, label=r'$a_i=0.367$', color='black', linestyle='dotted') \n",
    "plt.plot(X,Y2, label=r'$a_i=-0.367$', color='black', linestyle='dashed') \n",
    "plt.axvline(r_1, color='k')\n",
    "plt.axhline(0, color='k')\n",
    "plt.xlabel(xlabel)\n",
    "plt.ylabel(r\"$u_i(\\cdot)$\")\n",
    "\n",
    "import matplotlib.ticker as plticker\n",
    "\n",
    "\n",
    "plt.yticks(np.arange(0, 1.25, 0.25))\n",
    "\n",
    "plt.grid(which='major', axis='both', linestyle='-')\n",
    "#plt.legend()"
   ]
  },
  {
   "cell_type": "code",
   "execution_count": 2,
   "id": "241969a7",
   "metadata": {},
   "outputs": [],
   "source": [
    "def u(x,m,s,a):\n",
    "    if a == 0:\n",
    "        return (1/(6*s))*(x-m) + 0.5\n",
    "    else: \n",
    "        def b(x):\n",
    "            return 1-math.e**(-a*(x-m))\n",
    "        return (b(x-m)-b(-3*s))/(b(3*s)-b(-3*s))\n",
    "    \n",
    "def us(x_list, a, s): #utility function for the list of values           \n",
    "    return [u(x, a, s) for x in x_list]"
   ]
  },
  {
   "cell_type": "code",
   "execution_count": 3,
   "id": "791f5344",
   "metadata": {},
   "outputs": [
    {
     "name": "stderr",
     "output_type": "stream",
     "text": [
      "/var/folders/m0/4kgydjmn6590r2xq4gdjzq3m0000gn/T/ipykernel_31566/2326608463.py:7: RuntimeWarning: divide by zero encountered in double_scalars\n",
      "  return (b(x-m)-b(-3*s))/(b(3*s)-b(-3*s))\n"
     ]
    },
    {
     "data": {
      "text/plain": [
       "Text(0, 0.5, '$u_i(x_{ji})$')"
      ]
     },
     "execution_count": 3,
     "metadata": {},
     "output_type": "execute_result"
    },
    {
     "data": {
      "image/png": "[encoded data removed]",
      "text/plain": [
       "<Figure size 432x288 with 1 Axes>"
      ]
     },
     "metadata": {
      "needs_background": "light"
     },
     "output_type": "display_data"
    }
   ],
   "source": [
    "X = np.arange(8,20,0.05)\n",
    "Y1 = [u(x,12,0.367,2) for x in X]\n",
    "Y2 = [u(x,14,-0.367,2) for x in X]\n",
    "Y3 = [u(x,14,0,2) for x in X] \n",
    "plt.plot(X,Y3, label=r'$a_i=0$', color='black') \n",
    "plt.plot(X,Y1, label=r'$a_i=0.367$', color='black', linestyle='dotted') \n",
    "plt.plot(X,Y2, label=r'$a_i=-0.367$', color='black', linestyle='dashed') \n",
    "#plt.axvline(8, color='k')\n",
    "#plt.axhline(0, color='k')\n",
    "plt.xlabel(r\"$x_{ji}$\")\n",
    "plt.ylabel(r\"$u_i(x_{ji})$\")\n"
   ]
  },
  {
   "cell_type": "code",
   "execution_count": 21,
   "id": "93aee96d",
   "metadata": {},
   "outputs": [
    {
     "data": {
      "text/plain": [
       "(array([ 15.,  46., 125., 225., 283., 160.,  98.,  39.,   7.,   2.]),\n",
       " array([3.80112349, 3.95842817, 4.11573285, 4.27303753, 4.43034221,\n",
       "        4.58764688, 4.74495156, 4.90225624, 5.05956092, 5.2168656 ,\n",
       "        5.37417028]),\n",
       " <BarContainer object of 10 artists>)"
      ]
     },
     "execution_count": 21,
     "metadata": {},
     "output_type": "execute_result"
    },
    {
     "data": {
      "image/png": "[encoded data removed]",
      "text/plain": [
       "<Figure size 432x288 with 1 Axes>"
      ]
     },
     "metadata": {
      "needs_background": "light"
     },
     "output_type": "display_data"
    }
   ],
   "source": [
    "m = np.mean([4.7, 4.4, 4.3, 4.8, 4.2])\n",
    "s = np.std([4.7, 4.4, 4.3, 4.8, 4.2])\n",
    "\n",
    "plt.hist(np.random.normal(m, s, 1000))"
   ]
  },
  {
   "cell_type": "code",
   "execution_count": 5,
   "id": "d65ca761",
   "metadata": {},
   "outputs": [],
   "source": [
    "def cal_post_mu(m=5, mu=[0,0,0], s=[1,1,1], t=[1,1,1], w=[1/3, 1/3, 1/3], a=[0,0,0]):\n",
    "    \n",
    "    out_d = {} #dictionary that is returned\n",
    "    \n",
    "    i_t = [] #list to store index of maximum true multiattribute utility\n",
    "    \n",
    "    #list to store index of maximum \n",
    "    i_e = [] #estimates\n",
    "    i_pr = [] #posterior right way\n",
    "    i_pw = [] #posterior wrong way\n",
    "    \n",
    "    #list to store PDS for \n",
    "    d_e = [] #estimates\n",
    "    d_pr = [] #posterior right way\n",
    "    d_pw = [] #posterior wrong way\n",
    "    \n",
    "    \n",
    "    eu_1 = [] \n",
    "    eu_2 = []\n",
    "    eu_3 = []\n",
    "    \n",
    "    def cal_u(multiatt):\n",
    "        ul = [u(multiatt[i], a[i], 1) for i in range(len(multiatt))]\n",
    "        return np.dot(w, ul)\n",
    "    \n",
    "    for k in range(1000):\n",
    "        x = []\n",
    "        eu = []\n",
    "        eu_pr = []\n",
    "        eu_pw = []\n",
    "\n",
    "        for j in range(m): #loop for generating m number of mu alternatives\n",
    "            \n",
    "            n = len(mu) #number of attributes\n",
    "            x_j = [np.random.normal(mu[i], s[i],1)[0] for i in range(n)] #generate true mu of one alternative\n",
    "            x.append(cal_u(x_j)) #append the m.a.utility of one mu alternative u(x_j)           \n",
    "            \n",
    "            y_j = [np.random.normal(x_j[i], t[i],1)[0] for i in range(n)] #generate estimated mu of one alternative            \n",
    "            eu.append(cal_u(y_j)) #append the m.a.utility of one mu estimates u(y_j)\n",
    "            \n",
    "            x_jp_r = [] #one alternative, right way\n",
    "            x_jp_w = [] #one alternative, wrong way\n",
    "            \n",
    "            for i in range(n): #loop for generating posterior mu for one alternative\n",
    "                p_mean = (t[i]**2/(s[i]**2 + t[i]**2))*mu[i] + (s[i]**2/(s[i]**2 + t[i]**2))*y_j[i]\n",
    "                p_var = (s[i]**2*t[i]**2)/(s[i]**2 + t[i]**2)\n",
    "                \n",
    "                x_p_ji = list(np.random.normal(p_mean, np.sqrt(p_var),1000))\n",
    "                \n",
    "                #right way\n",
    "                x_jp_r.append(np.mean(us(x_p_ji, a[i], 1)))\n",
    "                #wrong way\n",
    "                x_jp_w.append(np.mean(x_p_ji))\n",
    "\n",
    "            #wrong way\n",
    "            eu_pw.append(cal_u(x_jp_w)) #append u(x) of one posterior alternative (repeated 1000 times)            \n",
    "            \n",
    "            #right way\n",
    "            eu_pr.append(np.dot(w, x_jp_r)) #append w_i*E[u(x)|y]\n",
    "            \n",
    "        #index of true max\n",
    "        max_ix = x.index(max(x))\n",
    "        i_t.append(max_ix)\n",
    "              \n",
    "        ###Saving result from estimates\n",
    "        #Choose the alternative $j^$ with the highest expected utility\n",
    "        max_eu = max(eu)\n",
    "        max_j = eu.index(max_eu)\n",
    "        i_e.append(max_j)\n",
    "\n",
    "        #disappointment \n",
    "        d = (x[max_j] - max_eu)/max_eu\n",
    "        d_e.append(d)\n",
    "        \n",
    "        ###Saving result from posterior right way\n",
    "        #Choose the alternative $j^$ with the highest expected utility\n",
    "        max_eu1 = max(eu_pr)\n",
    "        max_j1 = eu_pr.index(max_eu1)\n",
    "        i_pr.append(max_j1)\n",
    "        \n",
    "        #disappointment \n",
    "        d2 = (x[max_j1]-max_eu1)/max_eu1\n",
    "        d_pr.append(d2)\n",
    "        \n",
    "        #optimality gap E[u(X_{\\kappa(u(Y))}-u(X_{\\kappa(Z}] \n",
    "        eu_1.append(x[max_j]-x[max_j1])\n",
    "        \n",
    "\n",
    "        ###Saving result from posterior wrong way\n",
    "        #Choose the alternative $j^$ with the highest expected utility\n",
    "        max_eu2 = max(eu_pw)\n",
    "        max_j2 = eu_pw.index(max_eu2)\n",
    "        i_pw.append(max_j2)\n",
    "\n",
    "        #disappointment \n",
    "        d3 = (x[max_j2]-max_eu2)/max_eu2\n",
    "        d_pw.append(d3)    \n",
    "        \n",
    "        #optimality gap E[u(X_{\\kappa(u(Y))}-u(Z_{\\kappa(\\tilde{Z})}] \n",
    "        eu_2.append(x[max_j]-x[max_j2])\n",
    "        \n",
    "        #optimality gap E[u(X_{\\kappa(\\tilde{Z})}) - u(X_{\\kappa(Z))]\n",
    "        eu_3.append(x[max_j2]- x[max_j1])\n",
    "        \n",
    "    out_d[\"i_t\"] = i_t\n",
    "    out_d[\"i_e\"] = i_e\n",
    "    out_d[\"i_pr\"] = i_pr\n",
    "    out_d[\"i_pw\"] = i_pw\n",
    "    \n",
    "    out_d[\"d_e\"] = d_e\n",
    "    out_d[\"d_pr\"] = d_pr\n",
    "    out_d[\"d_pw\"] = d_pw\n",
    "    \n",
    "    out_d[\"eu_1\"] = eu_1\n",
    "    out_d[\"eu_2\"] = eu_2\n",
    "    out_d[\"eu_3\"] = eu_3\n",
    "    \n",
    "    return out_d"
   ]
  },
  {
   "cell_type": "code",
   "execution_count": null,
   "id": "f8ab9305",
   "metadata": {},
   "outputs": [],
   "source": [
    "cal_post_mu(m=5, )"
   ]
  }
 ],
 "metadata": {
  "kernelspec": {
   "display_name": "Python 3 (ipykernel)",
   "language": "python",
   "name": "python3"
  },
  "language_info": {
   "codemirror_mode": {
    "name": "ipython",
    "version": 3
   },
   "file_extension": ".py",
   "mimetype": "text/x-python",
   "name": "python",
   "nbconvert_exporter": "python",
   "pygments_lexer": "ipython3",
   "version": "3.9.7"
  }
 },
 "nbformat": 4,
 "nbformat_minor": 5
}
