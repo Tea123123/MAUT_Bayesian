{
 "cells": [
  {
   "cell_type": "code",
   "execution_count": null,
   "id": "e7cb8842",
   "metadata": {},
   "outputs": [],
   "source": [
    "pip install pulp"
   ]
  },
  {
   "cell_type": "code",
   "execution_count": null,
   "id": "646c7485",
   "metadata": {},
   "outputs": [],
   "source": []
  },
  {
   "cell_type": "code",
   "execution_count": 1,
   "id": "aae6aa43",
   "metadata": {},
   "outputs": [
    {
     "ename": "ModuleNotFoundError",
     "evalue": "No module named 'pulp'",
     "output_type": "error",
     "traceback": [
      "\u001b[0;31m---------------------------------------------------------------------------\u001b[0m",
      "\u001b[0;31mModuleNotFoundError\u001b[0m                       Traceback (most recent call last)",
      "\u001b[0;32m/var/folders/m0/4kgydjmn6590r2xq4gdjzq3m0000gn/T/ipykernel_99824/1935454020.py\u001b[0m in \u001b[0;36m<module>\u001b[0;34m\u001b[0m\n\u001b[1;32m      2\u001b[0m \u001b[0;34m\u001b[0m\u001b[0m\n\u001b[1;32m      3\u001b[0m \u001b[0;31m# Import PuLP library; if there is an error message type \"pip install pulp\" + shift-enter\u001b[0m\u001b[0;34m\u001b[0m\u001b[0;34m\u001b[0m\u001b[0m\n\u001b[0;32m----> 4\u001b[0;31m \u001b[0;32mfrom\u001b[0m \u001b[0mpulp\u001b[0m \u001b[0;32mimport\u001b[0m \u001b[0;34m*\u001b[0m\u001b[0;34m\u001b[0m\u001b[0;34m\u001b[0m\u001b[0m\n\u001b[0m\u001b[1;32m      5\u001b[0m \u001b[0;34m\u001b[0m\u001b[0m\n\u001b[1;32m      6\u001b[0m \u001b[0;31m#Indices\u001b[0m\u001b[0;34m\u001b[0m\u001b[0;34m\u001b[0m\u001b[0m\n",
      "\u001b[0;31mModuleNotFoundError\u001b[0m: No module named 'pulp'"
     ]
    }
   ],
   "source": [
    "# Press shift+enter to run code in a cell\n",
    "\n",
    "# Import PuLP library; if there is an error message type \"pip install pulp\" + shift-enter\n",
    "from pulp import *\n",
    "\n",
    "#Indices\n",
    "mills = list(range(3))\n",
    "warehouses =  list(range(4))\n",
    "customer_areas = list(range(13))\n",
    "\n",
    "#Parameters\n",
    "capacities=[9900, 2100, 4200] #Production capacities\n",
    "ex_capacities = [1100,1400,1500] #Extra capacities\n",
    "demands = [650,260,650,130,780,2500,910,3120,910,3640,1040,1650,1780] #Customer area demands\n",
    "tpcostsA = [[53, 95, 136, 160],\n",
    "            [60, 120, 132, 140],\n",
    "            [210, 190, 89, 71]] #Transportation costs from mills to warehouses\n",
    "tpcostsB = [[100, 120, 150, 160, 300, 310, 340, 490, 430,360, 280, 350, 200],\n",
    "            [200, 240, 280, 310, 280, 400, 440, 410, 380, 190, 80, 150, 90],\n",
    "            [280, 260, 320, 400, 140, 319, 290, 240, 230, 80, 60, 60, 160],\n",
    "            [320, 280, 200, 130, 130, 70, 100, 90, 100, 190, 370, 320, 390]] #Transportation costs from warehouses to customers\n",
    "ex_costs = [300000,400000,450000] #Extra capacity costs\n",
    "\n",
    "model = LpProblem(\"PP_MILP_model\", LpMinimize) #Create a optimization model (minimization)\n",
    "x=[[LpVariable(\"x_\"+str(i)+str(k),0,None) for k in warehouses] for i in mills] #Create decision variables x_ik\n",
    "y=[[LpVariable(\"y_\"+str(k)+str(j),0,None) for j in customer_areas] for k in warehouses] #Create decision variables y_kj\n",
    "z=[LpVariable(\"z_\"+str(i),cat=\"Binary\") for i in mills ] #Create decision variables z_i\n",
    "\n",
    "#Set a temporary objective function for testing purposes\n",
    "model += (lpSum([1*x[i][k] for i in mills for k in warehouses]) + lpSum([1*y[k][j] for k in warehouses for j in customer_areas]) + lpSum([1*z[i] for i in mills]), \"Testing_objective_function\")\n",
    "\n",
    "\n",
    "\n",
    "#TODO: Add objective function and constraints here after back from Alps!:\n",
    "\n",
    "  \n",
    "model.solve() #Solve the optimal solution to model\n",
    "\n",
    "#Print optimal objective function value:\n",
    "print(\"Optimal total cost \"+str(model.objective.value())+\" .\")\n",
    "   \n",
    "                     \n",
    "#Print optimal decision variable values: \n",
    "for i in mills:\n",
    "    print(\"------\")\n",
    "    if (z[i].varValue==1):\n",
    "        print(\"Purchase extra capacity for mill \"+str(i)) \n",
    "    for k in warehouses:\n",
    "        if (x[i][k].varValue>0):\n",
    "            print(\"Transport \"+str(x[i][k].varValue)+\" tons of carton from mill \"+str(i)+\" to warehouse \"+str(k)+\".\") \n",
    "    \n",
    "\n",
    "print(\"---------------\")\n",
    "for k in warehouses:\n",
    "    for j in customer_areas: \n",
    "        if (y[k][j].varValue>0):\n",
    "            print(\"Transport \"+str(y[k][j].varValue)+\" tons of carton from warehouse \"+str(k)+\" to customer area \"+str(j)+\".\") \n",
    "    print(\"---\")\n",
    "    \n"
   ]
  }
 ],
 "metadata": {
  "kernelspec": {
   "display_name": "Python 3 (ipykernel)",
   "language": "python",
   "name": "python3"
  },
  "language_info": {
   "codemirror_mode": {
    "name": "ipython",
    "version": 3
   },
   "file_extension": ".py",
   "mimetype": "text/x-python",
   "name": "python",
   "nbconvert_exporter": "python",
   "pygments_lexer": "ipython3",
   "version": "3.9.7"
  }
 },
 "nbformat": 4,
 "nbformat_minor": 5
}
