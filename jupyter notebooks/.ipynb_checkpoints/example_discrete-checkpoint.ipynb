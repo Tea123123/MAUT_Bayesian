{
 "cells": [
  {
   "cell_type": "code",
   "execution_count": 1,
   "id": "bba3bd79",
   "metadata": {},
   "outputs": [],
   "source": [
    "import pandas as pd\n",
    "import numpy as np\n",
    "import matplotlib.pyplot as plt\n",
    "from scipy import stats\n",
    "from gurobipy import *\n",
    "import scipy.stats as ss"
   ]
  },
  {
   "cell_type": "code",
   "execution_count": 41,
   "id": "380ff0de",
   "metadata": {},
   "outputs": [],
   "source": [
    "y = pd.read_excel(\"example.xlsx\", sheet_name=\"Sheet3\", index_col=0)\n",
    "px = np.array([0.2]*5)\n",
    "y = np.array(y)\n",
    "py = y.sum(axis=0)\n",
    "py = py/sum(py)"
   ]
  },
  {
   "cell_type": "code",
   "execution_count": 44,
   "id": "308d88b2",
   "metadata": {
    "scrolled": false
   },
   "outputs": [
    {
     "data": {
      "text/plain": [
       "array([0.312, 0.128, 0.12 , 0.128, 0.312])"
      ]
     },
     "execution_count": 44,
     "metadata": {},
     "output_type": "execute_result"
    }
   ],
   "source": [
    "py"
   ]
  },
  {
   "cell_type": "code",
   "execution_count": 45,
   "id": "6884ccab",
   "metadata": {},
   "outputs": [
    {
     "name": "stdout",
     "output_type": "stream",
     "text": [
      "[[1.00000000e+00 0.00000000e+00 0.00000000e+00 0.00000000e+00\n",
      "  0.00000000e+00]\n",
      " [3.59999998e-01 3.59999998e-01 2.00000000e-01 8.00000013e-02\n",
      "  3.66874266e-10]\n",
      " [2.00000000e-01 2.00000000e-01 2.00000000e-01 2.00000000e-01\n",
      "  2.00000000e-01]\n",
      " [0.00000000e+00 7.99999973e-02 2.00000000e-01 3.60000001e-01\n",
      "  3.60000001e-01]\n",
      " [0.00000000e+00 0.00000000e+00 0.00000000e+00 7.50233254e-13\n",
      "  1.00000000e+00]]\n",
      "[[2.00000000e-01 0.00000000e+00 0.00000000e+00 0.00000000e+00\n",
      "  0.00000000e+00]\n",
      " [7.19999996e-02 7.19999996e-02 4.00000000e-02 1.60000003e-02\n",
      "  7.33748532e-11]\n",
      " [4.00000000e-02 4.00000000e-02 4.00000000e-02 4.00000000e-02\n",
      "  4.00000000e-02]\n",
      " [0.00000000e+00 1.59999995e-02 4.00000000e-02 7.20000002e-02\n",
      "  7.20000002e-02]\n",
      " [0.00000000e+00 0.00000000e+00 0.00000000e+00 1.50046651e-13\n",
      "  2.00000000e-01]]\n"
     ]
    }
   ],
   "source": [
    "pxy = y\n",
    "for i in range(5):\n",
    "    pxy[:, i] = y[:, i]*px\n",
    "    \n",
    "for j in range(5):\n",
    "    pxy[j, :] = pxy[j, :]/py "
   ]
  },
  {
   "cell_type": "code",
   "execution_count": 46,
   "id": "74895ba2",
   "metadata": {},
   "outputs": [
    {
     "data": {
      "text/html": [
       "<div>\n",
       "<style scoped>\n",
       "    .dataframe tbody tr th:only-of-type {\n",
       "        vertical-align: middle;\n",
       "    }\n",
       "\n",
       "    .dataframe tbody tr th {\n",
       "        vertical-align: top;\n",
       "    }\n",
       "\n",
       "    .dataframe thead th {\n",
       "        text-align: right;\n",
       "    }\n",
       "</style>\n",
       "<table border=\"1\" class=\"dataframe\">\n",
       "  <thead>\n",
       "    <tr style=\"text-align: right;\">\n",
       "      <th></th>\n",
       "      <th>0</th>\n",
       "      <th>1</th>\n",
       "      <th>2</th>\n",
       "      <th>3</th>\n",
       "      <th>4</th>\n",
       "    </tr>\n",
       "  </thead>\n",
       "  <tbody>\n",
       "    <tr>\n",
       "      <th>0</th>\n",
       "      <td>0.641026</td>\n",
       "      <td>0.0000</td>\n",
       "      <td>0.000000</td>\n",
       "      <td>0.000000e+00</td>\n",
       "      <td>0.000000e+00</td>\n",
       "    </tr>\n",
       "    <tr>\n",
       "      <th>1</th>\n",
       "      <td>0.230769</td>\n",
       "      <td>0.5625</td>\n",
       "      <td>0.333333</td>\n",
       "      <td>1.250000e-01</td>\n",
       "      <td>2.351758e-10</td>\n",
       "    </tr>\n",
       "    <tr>\n",
       "      <th>2</th>\n",
       "      <td>0.128205</td>\n",
       "      <td>0.3125</td>\n",
       "      <td>0.333333</td>\n",
       "      <td>3.125000e-01</td>\n",
       "      <td>1.282051e-01</td>\n",
       "    </tr>\n",
       "    <tr>\n",
       "      <th>3</th>\n",
       "      <td>0.000000</td>\n",
       "      <td>0.1250</td>\n",
       "      <td>0.333333</td>\n",
       "      <td>5.625000e-01</td>\n",
       "      <td>2.307692e-01</td>\n",
       "    </tr>\n",
       "    <tr>\n",
       "      <th>4</th>\n",
       "      <td>0.000000</td>\n",
       "      <td>0.0000</td>\n",
       "      <td>0.000000</td>\n",
       "      <td>1.172239e-12</td>\n",
       "      <td>6.410256e-01</td>\n",
       "    </tr>\n",
       "  </tbody>\n",
       "</table>\n",
       "</div>"
      ],
      "text/plain": [
       "          0       1         2             3             4\n",
       "0  0.641026  0.0000  0.000000  0.000000e+00  0.000000e+00\n",
       "1  0.230769  0.5625  0.333333  1.250000e-01  2.351758e-10\n",
       "2  0.128205  0.3125  0.333333  3.125000e-01  1.282051e-01\n",
       "3  0.000000  0.1250  0.333333  5.625000e-01  2.307692e-01\n",
       "4  0.000000  0.0000  0.000000  1.172239e-12  6.410256e-01"
      ]
     },
     "execution_count": 46,
     "metadata": {},
     "output_type": "execute_result"
    }
   ],
   "source": [
    "#row represent x and column represent y: p(x|y)\n",
    "pd.DataFrame(pxy)"
   ]
  },
  {
   "cell_type": "code",
   "execution_count": 129,
   "id": "bff23d17",
   "metadata": {
    "scrolled": true
   },
   "outputs": [
    {
     "data": {
      "image/png": "[encoded data removed]",
      "text/plain": [
       "<Figure size 432x288 with 1 Axes>"
      ]
     },
     "metadata": {
      "needs_background": "light"
     },
     "output_type": "display_data"
    }
   ],
   "source": [
    "a=1\n",
    "\n",
    "u2_min = 0.5\n",
    "u2_max = 5.5\n",
    "\n",
    "def u(x,a):\n",
    "    if x>u2_max:\n",
    "        return 1\n",
    "    elif x<u2_min: \n",
    "        return 0\n",
    "    elif a == 0:\n",
    "        return (1/(u2_max-u2_min))*(x-u2_min)\n",
    "    else: \n",
    "        def b(x):\n",
    "            return 1-math.e**(-a*x)\n",
    "        return (b(x)-b(u2_min))/(b(u2_max)-b(u2_min))\n",
    "    \n",
    "    \n",
    "X = np.arange(u2_min-1,u2_max+1,0.05)\n",
    "Y1 = [u(x,a) for x in X]\n",
    "Y2 = [u(x,-a) for x in X]\n",
    "Y3 = [u(x,0) for x in X] \n",
    "plt.plot(X,Y3, label=r'$a_i=0$', color='black') \n",
    "plt.plot(X,Y1, label=r'$a_i=$' + str(a), color='black', linestyle='dotted') \n",
    "plt.plot(X,Y2, label=r'$a_i=-$' + str(a), color='black', linestyle='dashed') \n",
    "plt.xlabel(r\"$x_{ji}$\")\n",
    "plt.ylabel(r\"$u_i(x_{ji})$\")\n",
    "\n",
    "import matplotlib.ticker as plticker\n",
    "\n",
    "\n",
    "plt.yticks(np.arange(0, 1.25, 0.25))\n",
    "\n",
    "plt.grid(which='major', axis='both', linestyle='-')\n",
    "plt.legend()\n",
    "plt.grid(False)\n"
   ]
  },
  {
   "cell_type": "code",
   "execution_count": 57,
   "id": "12530a9f",
   "metadata": {},
   "outputs": [],
   "source": [
    "x = [1,2,3,4,5]"
   ]
  },
  {
   "cell_type": "code",
   "execution_count": 97,
   "id": "5b43fd9a",
   "metadata": {
    "scrolled": true
   },
   "outputs": [
    {
     "data": {
      "text/plain": [
       "[(0, 0),\n",
       " (0, 1),\n",
       " (0, 2),\n",
       " (0, 3),\n",
       " (0, 4),\n",
       " (1, 0),\n",
       " (1, 1),\n",
       " (1, 2),\n",
       " (1, 3),\n",
       " (1, 4),\n",
       " (2, 0),\n",
       " (2, 1),\n",
       " (2, 2),\n",
       " (2, 3),\n",
       " (2, 4),\n",
       " (3, 0),\n",
       " (3, 1),\n",
       " (3, 2),\n",
       " (3, 3),\n",
       " (3, 4),\n",
       " (4, 0),\n",
       " (4, 1),\n",
       " (4, 2),\n",
       " (4, 3),\n",
       " (4, 4)]"
      ]
     },
     "execution_count": 97,
     "metadata": {},
     "output_type": "execute_result"
    }
   ],
   "source": [
    "y_c = [(y_1, y_2) for y_1 in range(5) for y_2 in range(5)]\n",
    "y_c"
   ]
  },
  {
   "cell_type": "code",
   "execution_count": 157,
   "id": "0825599d",
   "metadata": {},
   "outputs": [],
   "source": [
    "def produce_zs(a): #convex concave function\n",
    "\n",
    "    u2_min = 0.5\n",
    "    u2_max = 5.5\n",
    "\n",
    "    def u(x,a):\n",
    "        if x>u2_max:\n",
    "            return 1\n",
    "        elif x<u2_min: \n",
    "            return 0\n",
    "        elif a == 0:\n",
    "            return (1/(u2_max-u2_min))*(x-u2_min)\n",
    "        else: \n",
    "            def b(x):\n",
    "                return 1-math.e**(-a*x)\n",
    "            return (b(x)-b(u2_min))/(b(u2_max)-b(u2_min))\n",
    "        \n",
    "    ux = np.array([u(x, a) for x in x])\n",
    "\n",
    "    z = np.zeros((5,5))\n",
    "    for i in range(5):\n",
    "        z[:, i] = pxy[:, i]*ux\n",
    "\n",
    "    z = z.sum(axis=0) #z for alternative 0-4\n",
    "    \n",
    "    z2 = np.zeros((5,5))\n",
    "\n",
    "    for i in range(5):\n",
    "        z2[:, i] = x*pxy[:, i]\n",
    "\n",
    "    z2 = [u(x, a) for x in list(z2.sum(axis=0))]\n",
    "    return (z, z2)"
   ]
  },
  {
   "cell_type": "code",
   "execution_count": 158,
   "id": "388b09ae",
   "metadata": {},
   "outputs": [],
   "source": [
    "def produce_zs2(): #sigmoid function\n",
    "    def u(x): return 1/(1+math.exp(-x+2.5))\n",
    "    \n",
    "    ux = np.array([u(x) for x in x])\n",
    "\n",
    "    z = np.zeros((5,5))\n",
    "    for i in range(5):\n",
    "        z[:, i] = pxy[:, i]*ux\n",
    "\n",
    "    z = z.sum(axis=0) #z for alternative 0-4\n",
    "    \n",
    "    z2 = np.zeros((5,5))\n",
    "\n",
    "    for i in range(5):\n",
    "        z2[:, i] = x*pxy[:, i]\n",
    "\n",
    "    z2 = [u(x) for x in list(z2.sum(axis=0))]\n",
    "    return (z, z2)"
   ]
  },
  {
   "cell_type": "code",
   "execution_count": 159,
   "id": "7c45ec92",
   "metadata": {},
   "outputs": [
    {
     "data": {
      "text/plain": [
       "array([ True,  True, False, False,  True,  True, False, False,  True,\n",
       "        True,  True, False, False,  True,  True,  True, False, False,\n",
       "        True,  True,  True, False, False,  True,  True])"
      ]
     },
     "execution_count": 159,
     "metadata": {},
     "output_type": "execute_result"
    }
   ],
   "source": [
    "w = [0.5, 0.5]\n",
    "\n",
    "(z_a3, z2_a3) = produce_zs(3)\n",
    "(z_, z2_) = produce_zs2()\n",
    "\n",
    "zs = []\n",
    "z2s = []\n",
    "for combo in y_c:\n",
    "    i1 = combo[0]\n",
    "    i2 = combo[1]\n",
    "\n",
    "    zs.append(np.dot(w, [z_a3[i1], z_[i2]]))\n",
    "    z2s.append(np.dot(w, [z2_a3[i1], z2_[i2]]))\n",
    "ss.rankdata(zs) == ss.rankdata(z2s)"
   ]
  },
  {
   "cell_type": "code",
   "execution_count": 160,
   "id": "f3e077e4",
   "metadata": {},
   "outputs": [],
   "source": [
    "diff_combo = np.array(y_c)[ss.rankdata(zs) != ss.rankdata(z2s)]"
   ]
  },
  {
   "cell_type": "code",
   "execution_count": 161,
   "id": "8bd4a761",
   "metadata": {},
   "outputs": [
    {
     "name": "stdout",
     "output_type": "stream",
     "text": [
      "[0, 2]\n",
      "z 0.7300958711750123\n",
      "z2 0.7853601818127202\n",
      "[0, 3]\n",
      "z 0.7779651752700022\n",
      "z2 0.8334277122894362\n",
      "[1, 1]\n",
      "z 0.7513285937175276\n",
      "z2 0.7567826308832972\n",
      "[1, 2]\n",
      "z 0.7997166851604017\n",
      "z2 0.8102023391648161\n",
      "[2, 1]\n",
      "z 0.7525928702880853\n",
      "z2 0.7575335678102593\n",
      "[2, 2]\n",
      "z 0.8009809617309595\n",
      "z2 0.8109532760917781\n",
      "[3, 1]\n",
      "z 0.7537526638503658\n",
      "z2 0.7577356797382373\n",
      "[3, 2]\n",
      "z 0.8021407552932399\n",
      "z2 0.8111553880197562\n",
      "[4, 1]\n",
      "z 0.7545020696105585\n",
      "z2 0.7578071538886701\n",
      "[4, 2]\n",
      "z 0.8028901610534327\n",
      "z2 0.8112268621701888\n"
     ]
    }
   ],
   "source": [
    "w = [0.5, 0.5]\n",
    "\n",
    "(z_a3, z2_a3) = produce_zs(3)\n",
    "(z_, z2_) = produce_zs2()\n",
    "\n",
    "zs = []\n",
    "z2s = []\n",
    "for combo in diff_combo:\n",
    "    i1 = combo[0]\n",
    "    i2 = combo[1]\n",
    "    print([i1, i2])\n",
    "    print(\"z\", np.dot(w, [z_a3[i1], z_[i2]]))\n",
    "    print(\"z2\", np.dot(w, [z2_a3[i1], z2_[i2]]))\n"
   ]
  },
  {
   "cell_type": "code",
   "execution_count": null,
   "id": "9cbaf3d6",
   "metadata": {},
   "outputs": [],
   "source": []
  },
  {
   "cell_type": "code",
   "execution_count": null,
   "id": "af91cad2",
   "metadata": {},
   "outputs": [],
   "source": []
  },
  {
   "cell_type": "code",
   "execution_count": null,
   "id": "ceb9541b",
   "metadata": {},
   "outputs": [],
   "source": []
  },
  {
   "cell_type": "code",
   "execution_count": 128,
   "id": "7b1d12a4",
   "metadata": {},
   "outputs": [
    {
     "data": {
      "text/plain": [
       "array([ True,  True,  True,  True,  True,  True,  True,  True,  True,\n",
       "        True,  True,  True,  True,  True,  True,  True,  True,  True,\n",
       "        True,  True,  True,  True,  True,  True,  True])"
      ]
     },
     "execution_count": 128,
     "metadata": {},
     "output_type": "execute_result"
    }
   ],
   "source": []
  }
 ],
 "metadata": {
  "kernelspec": {
   "display_name": "Python 3 (ipykernel)",
   "language": "python",
   "name": "python3"
  },
  "language_info": {
   "codemirror_mode": {
    "name": "ipython",
    "version": 3
   },
   "file_extension": ".py",
   "mimetype": "text/x-python",
   "name": "python",
   "nbconvert_exporter": "python",
   "pygments_lexer": "ipython3",
   "version": "3.9.7"
  }
 },
 "nbformat": 4,
 "nbformat_minor": 5
}
