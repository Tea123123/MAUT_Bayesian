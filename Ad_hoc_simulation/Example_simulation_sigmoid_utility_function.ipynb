{
 "cells": [
  {
   "cell_type": "code",
   "execution_count": 13,
   "id": "ede9a318",
   "metadata": {},
   "outputs": [],
   "source": [
    "import pandas as pd\n",
    "import numpy as np\n",
    "\n",
    "import matplotlib.pyplot as plt\n",
    "import math\n",
    "import seaborn as sns\n",
    "from collections import Counter"
   ]
  },
  {
   "cell_type": "code",
   "execution_count": 14,
   "id": "df7a3bfa",
   "metadata": {},
   "outputs": [],
   "source": [
    "def u(x):\n",
    "    return 1/(1+math.e**(-x))\n",
    "def us(x_list): #utility function for the list of values           \n",
    "    return [u(x) for x in x_list]"
   ]
  },
  {
   "cell_type": "code",
   "execution_count": 15,
   "id": "1aa6421d",
   "metadata": {},
   "outputs": [
    {
     "data": {
      "text/plain": [
       "<matplotlib.legend.Legend at 0x7fe072120dc0>"
      ]
     },
     "execution_count": 15,
     "metadata": {},
     "output_type": "execute_result"
    },
    {
     "data": {
      "image/png": "[encoded data removed]",
      "text/plain": [
       "<Figure size 432x288 with 1 Axes>"
      ]
     },
     "metadata": {
      "needs_background": "light"
     },
     "output_type": "display_data"
    }
   ],
   "source": [
    "u_s = 1\n",
    "a = 3\n",
    "X = np.arange(-10,10,0.05)\n",
    "Y1 = [u(x) for x in X]\n",
    "plt.plot(X,Y1, label='concave') \n",
    "plt.axvline(0, color='k')\n",
    "plt.axhline(0, color='k')\n",
    "\n",
    "import matplotlib.ticker as plticker\n",
    "\n",
    "\n",
    "plt.yticks(np.arange(-.25, 1.25, 0.25))\n",
    "\n",
    "plt.grid(which='major', axis='both', linestyle='-')\n",
    "plt.legend()"
   ]
  },
  {
   "cell_type": "code",
   "execution_count": 29,
   "id": "7c3f2f57",
   "metadata": {},
   "outputs": [],
   "source": [
    "def cal_post_mu2(m=3, mu=[0,0], s=[1,1], t=[1,3], w=[1/2, 1/2]):\n",
    "    \n",
    "    out_d = {\"x_j\":[], \"x\":[], \"y_j\":[], \"y\":[], \"eu_pr\":[], \"eu_pw\":[]} #dictionary that is returned\n",
    "    \n",
    "    i_t = [] #list to store index of maximum true multiattribute utility\n",
    "    \n",
    "    #list to store index of maximum \n",
    "    i_e = [] #estimates\n",
    "    i_pr = [] #posterior right way\n",
    "    i_pw = [] #posterior wrong way\n",
    "\n",
    "    \n",
    "    def cal_u(multiatt):\n",
    "        ul = [u(multiatt[i]) for i in range(len(multiatt))]\n",
    "        return np.dot(w, ul)\n",
    "    \n",
    "    for k in range(5000):\n",
    "        x = []\n",
    "        eu = []\n",
    "        eu_pr = []\n",
    "        eu_pw = []\n",
    "        x_js = []\n",
    "        y_js = []\n",
    "            \n",
    "        for j in range(m): #loop for generating m number of mu alternatives\n",
    "\n",
    "            \n",
    "            n = len(mu) #number of attributes\n",
    "            x_j = [np.random.normal(mu[i], s[i],1)[0] for i in range(n)] #generate true mu of one alternative\n",
    "            x.append(cal_u(x_j)) #append the m.a.utility of one mu alternative u(x_j)           \n",
    "            x_js.append(x_j)\n",
    "            \n",
    "            y_j = [np.random.normal(x_j[i], t[i],1)[0] for i in range(n)] #generate estimated mu of one alternative            \n",
    "            eu.append(cal_u(y_j)) #append the m.a.utility of one mu estimates u(y_j)\n",
    "            y_js.append(y_j)\n",
    "            \n",
    "            x_jp_r = [] #one alternative, right way\n",
    "            x_jp_w = [] #one alternative, wrong way\n",
    "            \n",
    "            for i in range(n): #loop for generating posterior mu for one alternative\n",
    "                p_mean = (t[i]**2/(s[i]**2 + t[i]**2))*mu[i] + (s[i]**2/(s[i]**2 + t[i]**2))*y_j[i]\n",
    "                p_var = (s[i]**2*t[i]**2)/(s[i]**2 + t[i]**2)\n",
    "                \n",
    "                x_p_ji = list(np.random.normal(p_mean, np.sqrt(p_var),10000))\n",
    "                \n",
    "                #right way\n",
    "                x_jp_r.append(np.mean(us(x_p_ji)))\n",
    "                #wrong way\n",
    "                x_jp_w.append(np.mean(x_p_ji))\n",
    "\n",
    "            #wrong way\n",
    "            eu_pw.append(cal_u(x_jp_w)) #append u(x) of one posterior alternative (repeated 1000 times)            \n",
    "            \n",
    "            #right way\n",
    "            eu_pr.append(np.dot(w, x_jp_r)) #append w_i*E[u(x)|y]\n",
    "        \n",
    "        out_d[\"x_j\"].append(x_js)\n",
    "        out_d[\"y_j\"].append(y_js)\n",
    "        out_d[\"x\"].append(x)   \n",
    "        out_d[\"y\"].append(eu)\n",
    "        out_d[\"eu_pr\"].append(eu_pr)\n",
    "        out_d[\"eu_pw\"].append(eu_pw)\n",
    "        \n",
    "        #index of true max\n",
    "        max_ix = x.index(max(x))\n",
    "        i_t.append(max_ix)\n",
    "              \n",
    "        ###Saving result from estimates\n",
    "        #Choose the alternative $j^$ with the highest expected utility\n",
    "        max_eu = max(eu)\n",
    "        max_j = eu.index(max_eu)\n",
    "        i_e.append(max_j)\n",
    "\n",
    "        \n",
    "        ###Saving result from posterior right way\n",
    "        #Choose the alternative $j^$ with the highest expected utility\n",
    "        max_eu1 = max(eu_pr)\n",
    "        max_j1 = eu_pr.index(max_eu1)\n",
    "        i_pr.append(max_j1)\n",
    "        \n",
    "\n",
    "        ###Saving result from posterior wrong way\n",
    "        #Choose the alternative $j^$ with the highest expected utility\n",
    "        max_eu2 = max(eu_pw)\n",
    "        max_j2 = eu_pw.index(max_eu2)\n",
    "        i_pw.append(max_j2)\n",
    "\n",
    "    out_d[\"i_t\"] = i_t\n",
    "    out_d[\"i_e\"] = i_e\n",
    "    out_d[\"i_pr\"] = i_pr\n",
    "    out_d[\"i_pw\"] = i_pw\n",
    "\n",
    "    \n",
    "    return out_d"
   ]
  },
  {
   "cell_type": "code",
   "execution_count": 30,
   "id": "0e076346",
   "metadata": {},
   "outputs": [],
   "source": [
    "r1 = cal_post_mu2(m=3, mu=[0,0], s=[1,1], t=[1,1], w=[0.8, 0.2])"
   ]
  },
  {
   "cell_type": "code",
   "execution_count": 31,
   "id": "474ced65",
   "metadata": {},
   "outputs": [
    {
     "data": {
      "text/plain": [
       "0.002"
      ]
     },
     "execution_count": 31,
     "metadata": {},
     "output_type": "execute_result"
    }
   ],
   "source": [
    "np.mean(np.array(r1[\"i_pr\"]) != np.array(r1[\"i_pw\"]))"
   ]
  },
  {
   "cell_type": "code",
   "execution_count": 32,
   "id": "5cd3942d",
   "metadata": {},
   "outputs": [
    {
     "data": {
      "text/plain": [
       "(array([229., 514., 580., 625., 586., 618., 590., 584., 437., 237.]),\n",
       " array([-0.02153265, -0.01720586, -0.01287906, -0.00855226, -0.00422546,\n",
       "         0.00010134,  0.00442814,  0.00875494,  0.01308174,  0.01740854,\n",
       "         0.02173533]),\n",
       " <BarContainer object of 10 artists>)"
      ]
     },
     "execution_count": 32,
     "metadata": {},
     "output_type": "execute_result"
    },
    {
     "data": {
      "image/png": "[encoded data removed]",
      "text/plain": [
       "<Figure size 432x288 with 1 Axes>"
      ]
     },
     "metadata": {
      "needs_background": "light"
     },
     "output_type": "display_data"
    }
   ],
   "source": [
    "plt.hist(np.array(r1[\"eu_pr\"])[:, 0]-np.array(r1[\"eu_pw\"])[:, 0])"
   ]
  },
  {
   "cell_type": "code",
   "execution_count": 33,
   "id": "912ee3e2",
   "metadata": {},
   "outputs": [
    {
     "data": {
      "text/plain": [
       "<matplotlib.collections.PathCollection at 0x7fe0722dfc40>"
      ]
     },
     "execution_count": 33,
     "metadata": {},
     "output_type": "execute_result"
    },
    {
     "data": {
      "image/png": "[encoded data removed]",
      "text/plain": [
       "<Figure size 432x288 with 1 Axes>"
      ]
     },
     "metadata": {
      "needs_background": "light"
     },
     "output_type": "display_data"
    }
   ],
   "source": [
    "y = np.array(r1[\"eu_pr\"])[:, 0]-np.array(r1[\"eu_pw\"])[:, 0]\n",
    "plt.scatter(np.array(r1[\"y\"])[:, 0],y)"
   ]
  },
  {
   "cell_type": "code",
   "execution_count": 34,
   "id": "6f107426",
   "metadata": {},
   "outputs": [],
   "source": [
    "r2 = cal_post_mu2(m=3, mu=[0,0], s=[1,1], t=[3,1], w=[0.8, 0.2])"
   ]
  },
  {
   "cell_type": "code",
   "execution_count": 35,
   "id": "7366b4cb",
   "metadata": {},
   "outputs": [
    {
     "data": {
      "text/plain": [
       "0.0178"
      ]
     },
     "execution_count": 35,
     "metadata": {},
     "output_type": "execute_result"
    }
   ],
   "source": [
    "np.mean(np.array(r2[\"i_pr\"]) != np.array(r2[\"i_pw\"]))"
   ]
  },
  {
   "cell_type": "code",
   "execution_count": 36,
   "id": "2564bfb2",
   "metadata": {},
   "outputs": [
    {
     "data": {
      "text/plain": [
       "<matplotlib.collections.PathCollection at 0x7fe07237aa00>"
      ]
     },
     "execution_count": 36,
     "metadata": {},
     "output_type": "execute_result"
    },
    {
     "data": {
      "image/png": "[encoded data removed]",
      "text/plain": [
       "<Figure size 432x288 with 1 Axes>"
      ]
     },
     "metadata": {
      "needs_background": "light"
     },
     "output_type": "display_data"
    }
   ],
   "source": [
    "y = np.array(r2[\"eu_pr\"])[:, 0]-np.array(r2[\"eu_pw\"])[:, 0]\n",
    "plt.scatter(np.array(r2[\"y\"])[:, 0],y, c= [np.array(r2[\"i_pr\"]) == np.array(r2[\"i_pw\"])], alpha=0.3)"
   ]
  },
  {
   "cell_type": "code",
   "execution_count": 37,
   "id": "63024a0a",
   "metadata": {},
   "outputs": [],
   "source": [
    "r3 = cal_post_mu2(m=3, mu=[0,0], s=[1,1], t=[3,3], w=[0.8, 0.2])"
   ]
  },
  {
   "cell_type": "code",
   "execution_count": 38,
   "id": "3ff65099",
   "metadata": {},
   "outputs": [],
   "source": [
    "def index_diff(result):\n",
    "    return np.mean(np.array(result[\"i_pr\"]) != np.array(result[\"i_pw\"]))"
   ]
  },
  {
   "cell_type": "code",
   "execution_count": 39,
   "id": "4da17af1",
   "metadata": {},
   "outputs": [],
   "source": [
    "def draw_diff(result):\n",
    "    y = np.array(result[\"eu_pr\"])[:, 0]-np.array(result[\"eu_pw\"])[:, 0]\n",
    "    plt.scatter(np.array(result[\"y\"])[:, 0],y, c= [np.array(result[\"i_pr\"]) == np.array(result[\"i_pw\"])], alpha=0.3)"
   ]
  },
  {
   "cell_type": "code",
   "execution_count": 40,
   "id": "b882662b",
   "metadata": {},
   "outputs": [
    {
     "data": {
      "text/plain": [
       "0.0014"
      ]
     },
     "execution_count": 40,
     "metadata": {},
     "output_type": "execute_result"
    }
   ],
   "source": [
    "index_diff(r3)"
   ]
  },
  {
   "cell_type": "code",
   "execution_count": 41,
   "id": "9dd3e333",
   "metadata": {},
   "outputs": [],
   "source": [
    "r4 = cal_post_mu2(m=3, mu=[0,0], s=[1,1], t=[5,1], w=[0.8, 0.2])"
   ]
  },
  {
   "cell_type": "code",
   "execution_count": 43,
   "id": "e049a729",
   "metadata": {},
   "outputs": [
    {
     "data": {
      "text/plain": [
       "0.0206"
      ]
     },
     "execution_count": 43,
     "metadata": {},
     "output_type": "execute_result"
    }
   ],
   "source": [
    "index_diff(r4)"
   ]
  },
  {
   "cell_type": "code",
   "execution_count": 45,
   "id": "2bcaa3b7",
   "metadata": {},
   "outputs": [
    {
     "data": {
      "image/png": "[encoded data removed]",
      "text/plain": [
       "<Figure size 432x288 with 1 Axes>"
      ]
     },
     "metadata": {
      "needs_background": "light"
     },
     "output_type": "display_data"
    }
   ],
   "source": [
    "draw_diff(r4)"
   ]
  },
  {
   "cell_type": "code",
   "execution_count": null,
   "id": "86d373f7",
   "metadata": {},
   "outputs": [],
   "source": []
  },
  {
   "cell_type": "code",
   "execution_count": null,
   "id": "d8c7d7f4",
   "metadata": {},
   "outputs": [],
   "source": []
  },
  {
   "cell_type": "code",
   "execution_count": null,
   "id": "9681624c",
   "metadata": {},
   "outputs": [],
   "source": []
  },
  {
   "cell_type": "code",
   "execution_count": null,
   "id": "758ec5cd",
   "metadata": {},
   "outputs": [],
   "source": []
  },
  {
   "cell_type": "code",
   "execution_count": 209,
   "id": "bfd9878c",
   "metadata": {},
   "outputs": [],
   "source": [
    "r2 = cal_post_mu2(m=3, mu=[0,0], s=[1,1], t=[1,1], w=[0.8, 0.2], a=[-3,0], u_s=1)"
   ]
  },
  {
   "cell_type": "code",
   "execution_count": 210,
   "id": "c27e3d8d",
   "metadata": {},
   "outputs": [],
   "source": [
    "r3 = cal_post_mu2(m=3, mu=[0,0], s=[1,1], t=[1,1], w=[0.8, 0.2], a=[3,0], u_s=1)"
   ]
  },
  {
   "cell_type": "code",
   "execution_count": null,
   "id": "f865919f",
   "metadata": {},
   "outputs": [],
   "source": []
  },
  {
   "cell_type": "code",
   "execution_count": 218,
   "id": "c3da849b",
   "metadata": {},
   "outputs": [
    {
     "data": {
      "text/plain": [
       "0.106"
      ]
     },
     "execution_count": 218,
     "metadata": {},
     "output_type": "execute_result"
    }
   ],
   "source": [
    "np.mean(np.array(r2[\"i_pr\"]) != np.array(r2[\"i_pw\"]))"
   ]
  },
  {
   "cell_type": "code",
   "execution_count": 220,
   "id": "2fb3bd19",
   "metadata": {},
   "outputs": [
    {
     "data": {
      "text/plain": [
       "0.076"
      ]
     },
     "execution_count": 220,
     "metadata": {},
     "output_type": "execute_result"
    }
   ],
   "source": [
    "np.mean(np.array(r3[\"i_pr\"]) != np.array(r3[\"i_pw\"]))"
   ]
  },
  {
   "cell_type": "code",
   "execution_count": 229,
   "id": "53353ae5",
   "metadata": {},
   "outputs": [
    {
     "data": {
      "text/plain": [
       "(array([893.,  62.,  24.,  11.,   3.,   2.,   1.,   1.,   2.,   1.]),\n",
       " array([-0.00028848,  0.01206546,  0.02441941,  0.03677335,  0.04912729,\n",
       "         0.06148124,  0.07383518,  0.08618912,  0.09854307,  0.11089701,\n",
       "         0.12325095]),\n",
       " <BarContainer object of 10 artists>)"
      ]
     },
     "execution_count": 229,
     "metadata": {},
     "output_type": "execute_result"
    },
    {
     "data": {
      "image/png": "[encoded data removed]",
      "text/plain": [
       "<Figure size 432x288 with 1 Axes>"
      ]
     },
     "metadata": {
      "needs_background": "light"
     },
     "output_type": "display_data"
    }
   ],
   "source": [
    "plt.hist(np.array(r2[\"eu_pr\"])[:, 0]-np.array(r2[\"eu_pw\"])[:, 0])"
   ]
  },
  {
   "cell_type": "code",
   "execution_count": 240,
   "id": "8cf9cfd2",
   "metadata": {},
   "outputs": [
    {
     "data": {
      "text/plain": [
       "<matplotlib.collections.PathCollection at 0x7fdc3397e130>"
      ]
     },
     "execution_count": 240,
     "metadata": {},
     "output_type": "execute_result"
    },
    {
     "data": {
      "image/png": "[encoded data removed]",
      "text/plain": [
       "<Figure size 432x288 with 1 Axes>"
      ]
     },
     "metadata": {
      "needs_background": "light"
     },
     "output_type": "display_data"
    }
   ],
   "source": [
    "y = np.array(r2[\"eu_pr\"])[:, 0]-np.array(r2[\"eu_pw\"])[:, 0]\n",
    "plt.scatter(np.array(r2[\"y\"])[:, 0],y)"
   ]
  },
  {
   "cell_type": "code",
   "execution_count": 234,
   "id": "fb5a69d6",
   "metadata": {},
   "outputs": [
    {
     "data": {
      "text/plain": [
       "<matplotlib.collections.PathCollection at 0x7fdc4c0386d0>"
      ]
     },
     "execution_count": 234,
     "metadata": {},
     "output_type": "execute_result"
    },
    {
     "data": {
      "image/png": "[encoded data removed]",
      "text/plain": [
       "<Figure size 432x288 with 1 Axes>"
      ]
     },
     "metadata": {
      "needs_background": "light"
     },
     "output_type": "display_data"
    }
   ],
   "source": [
    "plt.scatter(np.array(r3[\"y\"])[:, 0], np.array(r3[\"eu_pr\"])[:, 0]-np.array(r3[\"eu_pw\"])[:, 0])"
   ]
  },
  {
   "cell_type": "code",
   "execution_count": 70,
   "id": "b6101830",
   "metadata": {},
   "outputs": [
    {
     "data": {
      "text/plain": [
       "(array([245.,  87.,  65.,  48.,  41.,  27.,  57.,  68., 108., 254.]),\n",
       " array([-0.13385295, -0.10714061, -0.08042827, -0.05371593, -0.02700359,\n",
       "        -0.00029125,  0.02642109,  0.05313343,  0.07984577,  0.10655811,\n",
       "         0.13327044]),\n",
       " <BarContainer object of 10 artists>)"
      ]
     },
     "execution_count": 70,
     "metadata": {},
     "output_type": "execute_result"
    },
    {
     "data": {
      "image/png": "[encoded data removed]",
      "text/plain": [
       "<Figure size 432x288 with 1 Axes>"
      ]
     },
     "metadata": {
      "needs_background": "light"
     },
     "output_type": "display_data"
    }
   ],
   "source": [
    "r3 = cal_post_mu2(m=3, mu=[0,0], s=[1,1], t=[1,1], w=[0.8, 0.2], a=[-3,0], u_s=1)\n",
    "plt.hist((np.array(r3[\"eu_pr\"])-np.array(r3[\"eu_pw\"]))[:,1])"
   ]
  },
  {
   "cell_type": "code",
   "execution_count": 71,
   "id": "f74bcf5f",
   "metadata": {},
   "outputs": [
    {
     "data": {
      "text/plain": [
       "(array([  3.,   2.,   6.,  26., 816., 119.,  19.,   4.,   3.,   2.]),\n",
       " array([-0.0724743 , -0.05740417, -0.04233403, -0.0272639 , -0.01219376,\n",
       "         0.00287638,  0.01794651,  0.03301665,  0.04808678,  0.06315692,\n",
       "         0.07822705]),\n",
       " <BarContainer object of 10 artists>)"
      ]
     },
     "execution_count": 71,
     "metadata": {},
     "output_type": "execute_result"
    },
    {
     "data": {
      "image/png": "[encoded data removed]",
      "text/plain": [
       "<Figure size 432x288 with 1 Axes>"
      ]
     },
     "metadata": {
      "needs_background": "light"
     },
     "output_type": "display_data"
    }
   ],
   "source": [
    "r3 = cal_post_mu2(m=3, mu=[0,0], s=[1,1], t=[1,1], w=[0.8, 0.2], a=[3,0], u_s=1)\n",
    "plt.hist((np.array(r3[\"eu_pr\"])-np.array(r3[\"eu_pw\"]))[:,1])"
   ]
  },
  {
   "cell_type": "code",
   "execution_count": 83,
   "id": "8bdb7786",
   "metadata": {},
   "outputs": [
    {
     "data": {
      "text/plain": [
       "(array([  1.,   2.,   4.,   9.,  63., 812.,  79.,  23.,   5.,   2.]),\n",
       " array([-0.07638874, -0.06273684, -0.04908495, -0.03543306, -0.02178116,\n",
       "        -0.00812927,  0.00552262,  0.01917452,  0.03282641,  0.0464783 ,\n",
       "         0.0601302 ]),\n",
       " <BarContainer object of 10 artists>)"
      ]
     },
     "execution_count": 83,
     "metadata": {},
     "output_type": "execute_result"
    },
    {
     "data": {
      "image/png": "[encoded data removed]",
      "text/plain": [
       "<Figure size 432x288 with 1 Axes>"
      ]
     },
     "metadata": {
      "needs_background": "light"
     },
     "output_type": "display_data"
    }
   ],
   "source": [
    "r3 = cal_post_mu2(m=3, mu=[0,0], s=[1,1], t=[1,0.1], w=[0.8, 0.2], a=[3,0], u_s=1)\n",
    "plt.hist((np.array(r3[\"eu_pr\"])-np.array(r3[\"eu_pw\"]))[:,1])"
   ]
  },
  {
   "cell_type": "code",
   "execution_count": 84,
   "id": "78f4d0bc",
   "metadata": {},
   "outputs": [
    {
     "data": {
      "text/plain": [
       "(array([232.,  94.,  74.,  49.,  40.,  39.,  62.,  78., 108., 224.]),\n",
       " array([-0.13300976, -0.10624111, -0.07947246, -0.05270381, -0.02593516,\n",
       "         0.0008335 ,  0.02760215,  0.0543708 ,  0.08113945,  0.1079081 ,\n",
       "         0.13467676]),\n",
       " <BarContainer object of 10 artists>)"
      ]
     },
     "execution_count": 84,
     "metadata": {},
     "output_type": "execute_result"
    },
    {
     "data": {
      "image/png": "[encoded data removed]",
      "text/plain": [
       "<Figure size 432x288 with 1 Axes>"
      ]
     },
     "metadata": {
      "needs_background": "light"
     },
     "output_type": "display_data"
    }
   ],
   "source": [
    "r3 = cal_post_mu2(m=3, mu=[0,0], s=[1,1], t=[1,0.1], w=[0.8, 0.2], a=[-3,0], u_s=1)\n",
    "plt.hist((np.array(r3[\"eu_pr\"])-np.array(r3[\"eu_pw\"]))[:,1])"
   ]
  },
  {
   "cell_type": "code",
   "execution_count": 89,
   "id": "fe791b25",
   "metadata": {},
   "outputs": [
    {
     "data": {
      "text/plain": [
       "[<matplotlib.lines.Line2D at 0x7fdc49fe1c70>]"
      ]
     },
     "execution_count": 89,
     "metadata": {},
     "output_type": "execute_result"
    },
    {
     "data": {
      "image/png": "[encoded data removed]",
      "text/plain": [
       "<Figure size 432x288 with 1 Axes>"
      ]
     },
     "metadata": {
      "needs_background": "light"
     },
     "output_type": "display_data"
    }
   ],
   "source": [
    "x = list(np.arange(-10, 10, 0.1))\n",
    "y= [1/(1+math.e**(-x)) for x in x]\n",
    "plt.plot(x, y)"
   ]
  },
  {
   "cell_type": "code",
   "execution_count": 213,
   "id": "5a1acbc4",
   "metadata": {},
   "outputs": [],
   "source": [
    "def u(x,a,s):\n",
    "    return 1/(1+math.e**(-x))\n",
    "def us(x_list, a, s): #utility function for the list of values           \n",
    "    return [u(x, a, s) for x in x_list]"
   ]
  },
  {
   "cell_type": "code",
   "execution_count": 157,
   "id": "e8fa13d4",
   "metadata": {},
   "outputs": [
    {
     "data": {
      "text/plain": [
       "<matplotlib.legend.Legend at 0x7fdc4cb69d60>"
      ]
     },
     "execution_count": 157,
     "metadata": {},
     "output_type": "execute_result"
    },
    {
     "data": {
      "image/png": "[encoded data removed]",
      "text/plain": [
       "<Figure size 432x288 with 1 Axes>"
      ]
     },
     "metadata": {
      "needs_background": "light"
     },
     "output_type": "display_data"
    }
   ],
   "source": [
    "u_s = 1\n",
    "a = 3\n",
    "X = np.arange(-10,10,0.05)\n",
    "Y1 = [u(x,a,u_s) for x in X]\n",
    "Y2 = [u(x,-a,u_s) for x in X]\n",
    "Y3 = [u(x,0,u_s) for x in X] \n",
    "plt.plot(X,Y3, label='linear') \n",
    "plt.plot(X,Y1, label='concave') \n",
    "plt.plot(X,Y2, label='convex') \n",
    "plt.axvline(0, color='k')\n",
    "plt.axhline(0, color='k')\n",
    "\n",
    "import matplotlib.ticker as plticker\n",
    "\n",
    "\n",
    "plt.yticks(np.arange(-.25, 1.25, 0.25))\n",
    "\n",
    "plt.grid(which='major', axis='both', linestyle='-')\n",
    "plt.legend()"
   ]
  },
  {
   "cell_type": "code",
   "execution_count": 230,
   "id": "fef80e70",
   "metadata": {},
   "outputs": [
    {
     "data": {
      "text/plain": [
       "(array([1126.,  913., 1002.,  944.,  969., 1005.,  974.,  978.,  983.,\n",
       "        1106.]),\n",
       " array([-1.76965152e-02, -1.41425667e-02, -1.05886181e-02, -7.03466952e-03,\n",
       "        -3.48072095e-03,  7.32276268e-05,  3.62717620e-03,  7.18112477e-03,\n",
       "         1.07350733e-02,  1.42890219e-02,  1.78429705e-02]),\n",
       " <BarContainer object of 10 artists>)"
      ]
     },
     "execution_count": 230,
     "metadata": {},
     "output_type": "execute_result"
    },
    {
     "data": {
      "image/png": "[encoded data removed]",
      "text/plain": [
       "<Figure size 432x288 with 1 Axes>"
      ]
     },
     "metadata": {
      "needs_background": "light"
     },
     "output_type": "display_data"
    }
   ],
   "source": [
    "plt.hist(np.array(r5[\"eu_pr\"])[:, 0]-np.array(r5[\"eu_pw\"])[:, 0])"
   ]
  },
  {
   "cell_type": "code",
   "execution_count": 232,
   "id": "20a53ff7",
   "metadata": {},
   "outputs": [
    {
     "data": {
      "text/plain": [
       "<matplotlib.collections.PathCollection at 0x7fdc4c5c1970>"
      ]
     },
     "execution_count": 232,
     "metadata": {},
     "output_type": "execute_result"
    },
    {
     "data": {
      "image/png": "[encoded data removed]",
      "text/plain": [
       "<Figure size 432x288 with 1 Axes>"
      ]
     },
     "metadata": {
      "needs_background": "light"
     },
     "output_type": "display_data"
    }
   ],
   "source": [
    "y = np.array(r4[\"eu_pr\"])[:, 0]-np.array(r4[\"eu_pw\"])[:, 0]\n",
    "plt.scatter(np.array(r4[\"y\"])[:, 0],y)"
   ]
  },
  {
   "cell_type": "code",
   "execution_count": 216,
   "id": "c019ac9d",
   "metadata": {},
   "outputs": [
    {
     "data": {
      "text/plain": [
       "<matplotlib.collections.PathCollection at 0x7fdc2f496be0>"
      ]
     },
     "execution_count": 216,
     "metadata": {},
     "output_type": "execute_result"
    },
    {
     "data": {
      "image/png": "[encoded data removed]",
      "text/plain": [
       "<Figure size 432x288 with 1 Axes>"
      ]
     },
     "metadata": {
      "needs_background": "light"
     },
     "output_type": "display_data"
    }
   ],
   "source": [
    "plt.scatter(np.array(r4[\"x\"])[:, 0],np.array(r4[\"y\"])[:, 0])"
   ]
  },
  {
   "cell_type": "code",
   "execution_count": 217,
   "id": "be5f6a24",
   "metadata": {},
   "outputs": [
    {
     "data": {
      "text/plain": [
       "0.029"
      ]
     },
     "execution_count": 217,
     "metadata": {},
     "output_type": "execute_result"
    }
   ],
   "source": [
    "np.mean(np.array(r4[\"i_pr\"]) != np.array(r4[\"i_pw\"]))"
   ]
  },
  {
   "cell_type": "code",
   "execution_count": 223,
   "id": "6d7e9e62",
   "metadata": {},
   "outputs": [
    {
     "data": {
      "text/plain": [
       "0.0143"
      ]
     },
     "execution_count": 223,
     "metadata": {},
     "output_type": "execute_result"
    }
   ],
   "source": [
    "np.mean(np.array(r5[\"i_pr\"]) != np.array(r5[\"i_pw\"]))"
   ]
  },
  {
   "cell_type": "code",
   "execution_count": null,
   "id": "c797bef2",
   "metadata": {},
   "outputs": [],
   "source": []
  },
  {
   "cell_type": "code",
   "execution_count": null,
   "id": "5c4a148e",
   "metadata": {},
   "outputs": [],
   "source": []
  },
  {
   "cell_type": "code",
   "execution_count": null,
   "id": "df100d0d",
   "metadata": {},
   "outputs": [],
   "source": []
  },
  {
   "cell_type": "code",
   "execution_count": 160,
   "id": "e9cf24cb",
   "metadata": {},
   "outputs": [
    {
     "data": {
      "text/plain": [
       "(array([1138.,  943.,  935.,  968.,  924.,  979., 1019.,  963.,  975.,\n",
       "        1156.]),\n",
       " array([-1.77846511e-02, -1.42410137e-02, -1.06973762e-02, -7.15373884e-03,\n",
       "        -3.61010142e-03, -6.64640103e-05,  3.47717340e-03,  7.02081081e-03,\n",
       "         1.05644482e-02,  1.41080856e-02,  1.76517231e-02]),\n",
       " <BarContainer object of 10 artists>)"
      ]
     },
     "execution_count": 160,
     "metadata": {},
     "output_type": "execute_result"
    },
    {
     "data": {
      "image/png": "[encoded data removed]",
      "text/plain": [
       "<Figure size 432x288 with 1 Axes>"
      ]
     },
     "metadata": {
      "needs_background": "light"
     },
     "output_type": "display_data"
    }
   ],
   "source": [
    "r5 = cal_post_mu2(m=3, mu=[0,0], s=[1,1], t=[1,0.1], w=[0.8, 0.2], a=[-3,0], u_s=1)\n",
    "plt.hist((np.array(r5[\"eu_pr\"])-np.array(r5[\"eu_pw\"]))[:,1])"
   ]
  },
  {
   "cell_type": "code",
   "execution_count": 183,
   "id": "91334eb2",
   "metadata": {},
   "outputs": [
    {
     "data": {
      "text/plain": [
       "<matplotlib.collections.PathCollection at 0x7fdc31748d30>"
      ]
     },
     "execution_count": 183,
     "metadata": {},
     "output_type": "execute_result"
    },
    {
     "data": {
      "image/png": "[encoded data removed]",
      "text/plain": [
       "<Figure size 432x288 with 1 Axes>"
      ]
     },
     "metadata": {
      "needs_background": "light"
     },
     "output_type": "display_data"
    }
   ],
   "source": [
    "plt.scatter(np.array(r5[\"x\"])[:, 0],np.array(r5[\"y\"])[:, 0])"
   ]
  },
  {
   "cell_type": "code",
   "execution_count": 177,
   "id": "cdf5c2bf",
   "metadata": {},
   "outputs": [
    {
     "data": {
      "text/plain": [
       "<matplotlib.collections.PathCollection at 0x7fdc31692b20>"
      ]
     },
     "execution_count": 177,
     "metadata": {},
     "output_type": "execute_result"
    },
    {
     "data": {
      "image/png": "[encoded data removed]",
      "text/plain": [
       "<Figure size 432x288 with 1 Axes>"
      ]
     },
     "metadata": {
      "needs_background": "light"
     },
     "output_type": "display_data"
    }
   ],
   "source": [
    "plt.scatter(np.array(r5[\"y\"])[:, 0],np.array(r5[\"eu_pr\"])[:, 0])"
   ]
  },
  {
   "cell_type": "code",
   "execution_count": 178,
   "id": "fa42cbea",
   "metadata": {},
   "outputs": [
    {
     "data": {
      "text/plain": [
       "<matplotlib.collections.PathCollection at 0x7fdc31568bb0>"
      ]
     },
     "execution_count": 178,
     "metadata": {},
     "output_type": "execute_result"
    },
    {
     "data": {
      "image/png": "[encoded data removed]",
      "text/plain": [
       "<Figure size 432x288 with 1 Axes>"
      ]
     },
     "metadata": {
      "needs_background": "light"
     },
     "output_type": "display_data"
    }
   ],
   "source": [
    "plt.scatter(np.array(r5[\"y\"])[:, 0],np.array(r5[\"eu_pw\"])[:, 0])"
   ]
  },
  {
   "cell_type": "code",
   "execution_count": 179,
   "id": "c51ef788",
   "metadata": {},
   "outputs": [
    {
     "data": {
      "text/plain": [
       "<matplotlib.collections.PathCollection at 0x7fdc318aaf70>"
      ]
     },
     "execution_count": 179,
     "metadata": {},
     "output_type": "execute_result"
    },
    {
     "data": {
      "image/png": "[encoded data removed]",
      "text/plain": [
       "<Figure size 432x288 with 1 Axes>"
      ]
     },
     "metadata": {
      "needs_background": "light"
     },
     "output_type": "display_data"
    }
   ],
   "source": [
    "plt.scatter(np.array(r5[\"eu_pr\"])[:, 0],np.array(r5[\"eu_pw\"])[:, 0])"
   ]
  },
  {
   "cell_type": "code",
   "execution_count": 211,
   "id": "05841ff4",
   "metadata": {},
   "outputs": [
    {
     "data": {
      "text/plain": [
       "<matplotlib.collections.PathCollection at 0x7fdc49ac9e50>"
      ]
     },
     "execution_count": 211,
     "metadata": {},
     "output_type": "execute_result"
    },
    {
     "data": {
      "image/png": "[encoded data removed]",
      "text/plain": [
       "<Figure size 432x288 with 1 Axes>"
      ]
     },
     "metadata": {
      "needs_background": "light"
     },
     "output_type": "display_data"
    }
   ],
   "source": [
    "y = np.array(r5[\"eu_pr\"])[:, 0]-np.array(r5[\"eu_pw\"])[:, 0]\n",
    "plt.scatter(np.array(r5[\"y\"])[:, 0],y)"
   ]
  },
  {
   "cell_type": "code",
   "execution_count": 193,
   "id": "adf82653",
   "metadata": {},
   "outputs": [
    {
     "data": {
      "text/plain": [
       "<matplotlib.collections.PathCollection at 0x7fdc31f7c0a0>"
      ]
     },
     "execution_count": 193,
     "metadata": {},
     "output_type": "execute_result"
    },
    {
     "data": {
      "image/png": "[encoded data removed]",
      "text/plain": [
       "<Figure size 432x288 with 1 Axes>"
      ]
     },
     "metadata": {
      "needs_background": "light"
     },
     "output_type": "display_data"
    }
   ],
   "source": [
    "plt.scatter(np.array(r5[\"x\"])[:, 0], np.array(r5[\"eu_pr\"])[:, 0]-np.array(r5[\"eu_pw\"])[:, 0])"
   ]
  },
  {
   "cell_type": "code",
   "execution_count": 192,
   "id": "e787a11d",
   "metadata": {},
   "outputs": [
    {
     "data": {
      "text/plain": [
       "<matplotlib.collections.PathCollection at 0x7fdc32286310>"
      ]
     },
     "execution_count": 192,
     "metadata": {},
     "output_type": "execute_result"
    },
    {
     "data": {
      "image/png": "[encoded data removed]",
      "text/plain": [
       "<Figure size 432x288 with 1 Axes>"
      ]
     },
     "metadata": {
      "needs_background": "light"
     },
     "output_type": "display_data"
    }
   ],
   "source": [
    "plt.scatter(np.array(r5[\"y\"])[:, 0], np.array(r5[\"eu_pr\"])[:, 0]-np.array(r5[\"eu_pw\"])[:, 0])"
   ]
  },
  {
   "cell_type": "code",
   "execution_count": 203,
   "id": "ebd40e39",
   "metadata": {},
   "outputs": [
    {
     "data": {
      "text/plain": [
       "<matplotlib.collections.PathCollection at 0x7fdc327eb460>"
      ]
     },
     "execution_count": 203,
     "metadata": {},
     "output_type": "execute_result"
    },
    {
     "data": {
      "image/png": "[encoded data removed]",
      "text/plain": [
       "<Figure size 432x288 with 1 Axes>"
      ]
     },
     "metadata": {
      "needs_background": "light"
     },
     "output_type": "display_data"
    }
   ],
   "source": [
    "y = np.array([max(x) for x in r5[\"eu_pw\"]])-np.array([max(x) for x in r5[\"eu_pr\"]])\n",
    "\n",
    "plt.scatter([max(x) for x in r5[\"y\"]], y)\n",
    "#plt.scatter([max(x) for x in r5[\"x\"]], y)"
   ]
  },
  {
   "cell_type": "code",
   "execution_count": 204,
   "id": "c75b2a3d",
   "metadata": {},
   "outputs": [
    {
     "data": {
      "text/plain": [
       "<matplotlib.collections.PathCollection at 0x7fdc32cb4a30>"
      ]
     },
     "execution_count": 204,
     "metadata": {},
     "output_type": "execute_result"
    },
    {
     "data": {
      "image/png": "[encoded data removed]",
      "text/plain": [
       "<Figure size 432x288 with 1 Axes>"
      ]
     },
     "metadata": {
      "needs_background": "light"
     },
     "output_type": "display_data"
    }
   ],
   "source": [
    "plt.scatter([max(x) for x in r5[\"y\"]], [max(x) for x in r5[\"eu_pr\"]])"
   ]
  },
  {
   "cell_type": "code",
   "execution_count": 205,
   "id": "7e2caf86",
   "metadata": {},
   "outputs": [
    {
     "data": {
      "text/plain": [
       "<matplotlib.collections.PathCollection at 0x7fdc32a91ee0>"
      ]
     },
     "execution_count": 205,
     "metadata": {},
     "output_type": "execute_result"
    },
    {
     "data": {
      "image/png": "[encoded data removed]",
      "text/plain": [
       "<Figure size 432x288 with 1 Axes>"
      ]
     },
     "metadata": {
      "needs_background": "light"
     },
     "output_type": "display_data"
    }
   ],
   "source": [
    "plt.scatter([max(x) for x in r5[\"y\"]], [max(x) for x in r5[\"eu_pw\"]])"
   ]
  },
  {
   "cell_type": "code",
   "execution_count": null,
   "id": "71cfafa2",
   "metadata": {},
   "outputs": [],
   "source": [
    "plt.hist([max(x) for x in r5[\"y\"]])"
   ]
  },
  {
   "cell_type": "code",
   "execution_count": 184,
   "id": "0463c1f6",
   "metadata": {
    "scrolled": true
   },
   "outputs": [
    {
     "data": {
      "text/plain": [
       "<matplotlib.collections.PathCollection at 0x7fdc31ddb0d0>"
      ]
     },
     "execution_count": 184,
     "metadata": {},
     "output_type": "execute_result"
    },
    {
     "data": {
      "image/png": "[encoded data removed]",
      "text/plain": [
       "<Figure size 432x288 with 1 Axes>"
      ]
     },
     "metadata": {
      "needs_background": "light"
     },
     "output_type": "display_data"
    }
   ],
   "source": [
    "plt.scatter(np.array(r4[\"x\"])[:, 0],np.array(r4[\"y\"])[:, 0])"
   ]
  },
  {
   "cell_type": "code",
   "execution_count": 185,
   "id": "bccde2e5",
   "metadata": {},
   "outputs": [
    {
     "data": {
      "text/plain": [
       "<matplotlib.collections.PathCollection at 0x7fdc31ebd100>"
      ]
     },
     "execution_count": 185,
     "metadata": {},
     "output_type": "execute_result"
    },
    {
     "data": {
      "image/png": "[encoded data removed]",
      "text/plain": [
       "<Figure size 432x288 with 1 Axes>"
      ]
     },
     "metadata": {
      "needs_background": "light"
     },
     "output_type": "display_data"
    }
   ],
   "source": [
    "plt.scatter(np.array(r4[\"y\"])[:, 0],np.array(r4[\"eu_pr\"])[:, 0])"
   ]
  },
  {
   "cell_type": "code",
   "execution_count": 187,
   "id": "9ed7343b",
   "metadata": {},
   "outputs": [
    {
     "data": {
      "text/plain": [
       "<matplotlib.collections.PathCollection at 0x7fdc32129fa0>"
      ]
     },
     "execution_count": 187,
     "metadata": {},
     "output_type": "execute_result"
    },
    {
     "data": {
      "image/png": "[encoded data removed]",
      "text/plain": [
       "<Figure size 432x288 with 1 Axes>"
      ]
     },
     "metadata": {
      "needs_background": "light"
     },
     "output_type": "display_data"
    }
   ],
   "source": [
    "plt.scatter(np.array(r4[\"eu_pr\"])[:, 0],np.array(r4[\"eu_pw\"])[:, 0])"
   ]
  },
  {
   "cell_type": "code",
   "execution_count": 103,
   "id": "d57fa466",
   "metadata": {},
   "outputs": [],
   "source": [
    "def sig(x):\n",
    "    return 1/(1+math.e**(-x))"
   ]
  },
  {
   "cell_type": "code",
   "execution_count": 116,
   "id": "e8ab5553",
   "metadata": {},
   "outputs": [],
   "source": [
    "def diff(y_ji):\n",
    "    return sig(0.5*y_ji)-sig((0.5*y_ji)/(np.sqrt(1 + (math.pi*0.5/8))))"
   ]
  },
  {
   "cell_type": "code",
   "execution_count": 131,
   "id": "5ff3b84d",
   "metadata": {},
   "outputs": [
    {
     "data": {
      "text/plain": [
       "(array([215.,  85.,  74.,  46.,  52.,  56.,  62.,  66., 107., 237.]),\n",
       " array([-2.00558946e-02, -1.60447129e-02, -1.20335312e-02, -8.02234955e-03,\n",
       "        -4.01116785e-03,  1.38367258e-08,  4.01119553e-03,  8.02237722e-03,\n",
       "         1.20335589e-02,  1.60447406e-02,  2.00559223e-02]),\n",
       " <BarContainer object of 10 artists>)"
      ]
     },
     "execution_count": 131,
     "metadata": {},
     "output_type": "execute_result"
    },
    {
     "data": {
      "image/png": "[encoded data removed]",
      "text/plain": [
       "<Figure size 432x288 with 1 Axes>"
      ]
     },
     "metadata": {
      "needs_background": "light"
     },
     "output_type": "display_data"
    }
   ],
   "source": [
    "plt.hist([diff(y) for y in np.random.normal(0,3,1000)])"
   ]
  },
  {
   "cell_type": "code",
   "execution_count": 231,
   "id": "5a6d7bdf",
   "metadata": {},
   "outputs": [
    {
     "data": {
      "text/plain": [
       "<matplotlib.collections.PathCollection at 0x7fdc2f1c5850>"
      ]
     },
     "execution_count": 231,
     "metadata": {},
     "output_type": "execute_result"
    },
    {
     "data": {
      "image/png": "[encoded data removed]",
      "text/plain": [
       "<Figure size 432x288 with 1 Axes>"
      ]
     },
     "metadata": {
      "needs_background": "light"
     },
     "output_type": "display_data"
    }
   ],
   "source": [
    "y = np.array(r5[\"eu_pr\"])[:, 0]-np.array(r5[\"eu_pw\"])[:, 0]\n",
    "plt.scatter(np.array(r5[\"y\"])[:, 0],y)"
   ]
  },
  {
   "cell_type": "code",
   "execution_count": 132,
   "id": "19a74910",
   "metadata": {},
   "outputs": [
    {
     "data": {
      "text/plain": [
       "5285"
      ]
     },
     "execution_count": 132,
     "metadata": {},
     "output_type": "execute_result"
    }
   ],
   "source": [
    "np.sum(np.array(r4[\"i_t\"]) != np.array(r4[\"i_e\"]))"
   ]
  },
  {
   "cell_type": "code",
   "execution_count": 133,
   "id": "fa7c3da1",
   "metadata": {},
   "outputs": [
    {
     "data": {
      "text/plain": [
       "5200"
      ]
     },
     "execution_count": 133,
     "metadata": {},
     "output_type": "execute_result"
    }
   ],
   "source": [
    "np.sum(np.array(r4[\"i_t\"]) != np.array(r4[\"i_pr\"]))"
   ]
  },
  {
   "cell_type": "code",
   "execution_count": 190,
   "id": "68bfe3d1",
   "metadata": {
    "scrolled": true
   },
   "outputs": [
    {
     "data": {
      "text/plain": [
       "0.0182"
      ]
     },
     "execution_count": 190,
     "metadata": {},
     "output_type": "execute_result"
    }
   ],
   "source": [
    "np.mean(np.array(r4[\"i_pr\"]) != np.array(r4[\"i_pw\"]))"
   ]
  },
  {
   "cell_type": "code",
   "execution_count": 191,
   "id": "a0b79abb",
   "metadata": {},
   "outputs": [
    {
     "data": {
      "text/plain": [
       "0.0143"
      ]
     },
     "execution_count": 191,
     "metadata": {},
     "output_type": "execute_result"
    }
   ],
   "source": [
    "np.mean(np.array(r5[\"i_pr\"]) != np.array(r5[\"i_pw\"]))"
   ]
  },
  {
   "cell_type": "code",
   "execution_count": 226,
   "id": "f92db34b",
   "metadata": {},
   "outputs": [
    {
     "data": {
      "text/plain": [
       "0.106"
      ]
     },
     "execution_count": 226,
     "metadata": {},
     "output_type": "execute_result"
    }
   ],
   "source": [
    "np.mean(np.array(r2[\"i_pr\"]) != np.array(r2[\"i_pw\"]))"
   ]
  },
  {
   "cell_type": "code",
   "execution_count": 50,
   "id": "8e88efd2",
   "metadata": {},
   "outputs": [
    {
     "name": "stdout",
     "output_type": "stream",
     "text": [
      "529\n",
      "1218\n",
      "1366\n",
      "1597\n",
      "1624\n",
      "2045\n",
      "2942\n",
      "4133\n",
      "5013\n",
      "5078\n",
      "5242\n",
      "5380\n",
      "5532\n",
      "5534\n",
      "5684\n",
      "5803\n",
      "6743\n",
      "6840\n",
      "6936\n",
      "7143\n",
      "7779\n",
      "8355\n",
      "9078\n",
      "10324\n",
      "10977\n",
      "11287\n",
      "11332\n",
      "11370\n",
      "11921\n",
      "12841\n",
      "13168\n",
      "13994\n",
      "14612\n",
      "15167\n",
      "15827\n",
      "17159\n",
      "18132\n",
      "18148\n",
      "19065\n",
      "19543\n",
      "19843\n",
      "19907\n",
      "21929\n",
      "22088\n",
      "23594\n",
      "24801\n",
      "24936\n",
      "25279\n",
      "25362\n",
      "25584\n",
      "25959\n",
      "26277\n",
      "26374\n",
      "26490\n",
      "26627\n",
      "26655\n",
      "26876\n",
      "26918\n",
      "27247\n",
      "27253\n",
      "28403\n",
      "29065\n",
      "29075\n",
      "30141\n",
      "30316\n",
      "30576\n",
      "30700\n",
      "32297\n",
      "33213\n",
      "33582\n",
      "33641\n",
      "34486\n",
      "34836\n",
      "34927\n",
      "35309\n",
      "36155\n",
      "36888\n",
      "36912\n",
      "37312\n",
      "38530\n",
      "38662\n",
      "39484\n",
      "39647\n",
      "40265\n",
      "42367\n",
      "42803\n",
      "43908\n",
      "44090\n",
      "44205\n",
      "44336\n",
      "44756\n",
      "45154\n",
      "45347\n",
      "45995\n",
      "47252\n",
      "47257\n",
      "47438\n",
      "47603\n",
      "47882\n",
      "48487\n",
      "48608\n",
      "48953\n",
      "49458\n"
     ]
    }
   ],
   "source": [
    "for i in range(len(r2[\"i_e\"])):\n",
    "    if (r2[\"i_t\"][i]!=r2[\"i_pr\"][i]) & (r2[\"i_t\"][i]!=r2[\"i_e\"][i]) & ((r2[\"i_e\"][i]!=r2[\"i_pr\"][i])) & (r2[\"i_pr\"][i]!=r2[\"i_pw\"][i]):\n",
    "        print(i)"
   ]
  },
  {
   "cell_type": "code",
   "execution_count": 39,
   "id": "7a3159ec",
   "metadata": {},
   "outputs": [],
   "source": [
    "def print_values(index):\n",
    "    print(\"x_js: \", r2[\"x_j\"][index])\n",
    "    print(\"x: \", r2[\"x\"][index])\n",
    "    print(\"y_js: \", r2[\"y_j\"][index])\n",
    "    print(\"y: \", r2[\"y\"][index])\n",
    "    print(\"eu_pr: \", r2[\"eu_pr\"][index])\n",
    "    print(\"eu_pw: \", r2[\"eu_pw\"][index])"
   ]
  },
  {
   "cell_type": "code",
   "execution_count": 40,
   "id": "0c08e332",
   "metadata": {
    "scrolled": true
   },
   "outputs": [
    {
     "name": "stdout",
     "output_type": "stream",
     "text": [
      "x_js:  [[0.3458855912400835, 1.7184186396998429], [1.945108393347429, 1.289124732923006], [2.833456136560697, 1.1929922657300147]]\n",
      "x:  [-0.26012137368098737, 0.45964059561109094, 0.6089809381282386]\n",
      "y_js:  [[0.28901016948852354, 0.0001045050528190847], [0.9117670916353134, 0.7049133747461451], [6.352481445726028, 0.19545494259174362]]\n",
      "y:  [-5.203784269169905, -0.22102552996099986, 0.10821005831439678]\n",
      "eu_pr:  [-0.4045113533283517, 0.31623460699300887, 0.7206968164642424]\n",
      "eu_pw:  [-0.06087918442863664, 0.6646153158611323, 1.074651242146615]\n"
     ]
    }
   ],
   "source": [
    "print_values(1304)"
   ]
  },
  {
   "cell_type": "code",
   "execution_count": 41,
   "id": "8b21ad47",
   "metadata": {},
   "outputs": [],
   "source": [
    "def make_df(index):\n",
    "    d = {}\n",
    "    d[r\"x_1j\"] = np.array(r2[\"x_j\"][index])[:, 0]\n",
    "    d[\"x_2j\"] = np.array(r2[\"x_j\"][index])[:, 1]\n",
    "    \n",
    "    \n",
    "    d[\"y_1j\"] = np.array(r2[\"y_j\"][index])[:, 0]\n",
    "    d[\"y_2j\"] = np.array(r2[\"y_j\"][index])[:, 1]\n",
    "    d[\"x\"] =r2[\"x\"][index]\n",
    "    d[\"y\"]= r2[\"y\"][index]\n",
    "    d[\"eu_pr\"]= r2[\"eu_pr\"][index]\n",
    "    d[\"eu_pw\"]= r2[\"eu_pw\"][index]\n",
    "    return d"
   ]
  },
  {
   "cell_type": "code",
   "execution_count": 66,
   "id": "c53cfd24",
   "metadata": {
    "scrolled": true
   },
   "outputs": [
    {
     "data": {
      "text/html": [
       "<div>\n",
       "<style scoped>\n",
       "    .dataframe tbody tr th:only-of-type {\n",
       "        vertical-align: middle;\n",
       "    }\n",
       "\n",
       "    .dataframe tbody tr th {\n",
       "        vertical-align: top;\n",
       "    }\n",
       "\n",
       "    .dataframe thead th {\n",
       "        text-align: right;\n",
       "    }\n",
       "</style>\n",
       "<table border=\"1\" class=\"dataframe\">\n",
       "  <thead>\n",
       "    <tr style=\"text-align: right;\">\n",
       "      <th></th>\n",
       "      <th>x_1j</th>\n",
       "      <th>x_2j</th>\n",
       "      <th>y_1j</th>\n",
       "      <th>y_2j</th>\n",
       "      <th>x</th>\n",
       "      <th>y</th>\n",
       "      <th>eu_pr</th>\n",
       "      <th>eu_pw</th>\n",
       "    </tr>\n",
       "  </thead>\n",
       "  <tbody>\n",
       "    <tr>\n",
       "      <th>0</th>\n",
       "      <td>0.303094</td>\n",
       "      <td>0.136226</td>\n",
       "      <td>0.564899</td>\n",
       "      <td>0.004711</td>\n",
       "      <td>-1.593575</td>\n",
       "      <td>-2.964487</td>\n",
       "      <td>-0.077755</td>\n",
       "      <td>0.270079</td>\n",
       "    </tr>\n",
       "    <tr>\n",
       "      <th>1</th>\n",
       "      <td>1.555574</td>\n",
       "      <td>0.885997</td>\n",
       "      <td>0.284592</td>\n",
       "      <td>0.000277</td>\n",
       "      <td>0.160401</td>\n",
       "      <td>-4.724392</td>\n",
       "      <td>-0.380692</td>\n",
       "      <td>-0.047471</td>\n",
       "    </tr>\n",
       "    <tr>\n",
       "      <th>2</th>\n",
       "      <td>2.171328</td>\n",
       "      <td>0.124223</td>\n",
       "      <td>0.823607</td>\n",
       "      <td>0.000991</td>\n",
       "      <td>-0.655170</td>\n",
       "      <td>-3.555635</td>\n",
       "      <td>-0.071494</td>\n",
       "      <td>0.268068</td>\n",
       "    </tr>\n",
       "  </tbody>\n",
       "</table>\n",
       "</div>"
      ],
      "text/plain": [
       "       x_1j      x_2j      y_1j      y_2j         x         y     eu_pr  \\\n",
       "0  0.303094  0.136226  0.564899  0.004711 -1.593575 -2.964487 -0.077755   \n",
       "1  1.555574  0.885997  0.284592  0.000277  0.160401 -4.724392 -0.380692   \n",
       "2  2.171328  0.124223  0.823607  0.000991 -0.655170 -3.555635 -0.071494   \n",
       "\n",
       "      eu_pw  \n",
       "0  0.270079  \n",
       "1 -0.047471  \n",
       "2  0.268068  "
      ]
     },
     "execution_count": 66,
     "metadata": {},
     "output_type": "execute_result"
    }
   ],
   "source": [
    "df = pd.DataFrame(make_df(45154))\n",
    "df"
   ]
  },
  {
   "cell_type": "code",
   "execution_count": 67,
   "id": "5ccdcd6c",
   "metadata": {},
   "outputs": [
    {
     "data": {
      "text/plain": [
       "0   -0.347834\n",
       "1   -0.333221\n",
       "2   -0.339563\n",
       "dtype: float64"
      ]
     },
     "execution_count": 67,
     "metadata": {},
     "output_type": "execute_result"
    }
   ],
   "source": [
    "df[\"eu_pr\"]-df[\"eu_pw\"]"
   ]
  },
  {
   "cell_type": "code",
   "execution_count": 68,
   "id": "d322705c",
   "metadata": {},
   "outputs": [
    {
     "data": {
      "text/plain": [
       "0.35"
      ]
     },
     "execution_count": 68,
     "metadata": {},
     "output_type": "execute_result"
    }
   ],
   "source": [
    "14/40"
   ]
  },
  {
   "cell_type": "code",
   "execution_count": null,
   "id": "32159559",
   "metadata": {},
   "outputs": [],
   "source": []
  },
  {
   "cell_type": "code",
   "execution_count": null,
   "id": "5cfcfeb6",
   "metadata": {},
   "outputs": [],
   "source": []
  },
  {
   "cell_type": "code",
   "execution_count": null,
   "id": "aaf0916e",
   "metadata": {},
   "outputs": [],
   "source": []
  },
  {
   "cell_type": "code",
   "execution_count": null,
   "id": "e1287aee",
   "metadata": {},
   "outputs": [],
   "source": []
  },
  {
   "cell_type": "code",
   "execution_count": null,
   "id": "f6ea52a3",
   "metadata": {},
   "outputs": [],
   "source": []
  },
  {
   "cell_type": "code",
   "execution_count": 62,
   "id": "bceaa219",
   "metadata": {},
   "outputs": [
    {
     "data": {
      "text/plain": [
       "array([1.94274289, 0.34864082, 1.44545229])"
      ]
     },
     "execution_count": 62,
     "metadata": {},
     "output_type": "execute_result"
    }
   ],
   "source": [
    "np.array(r2[\"x_j\"][0]).T[0]"
   ]
  },
  {
   "cell_type": "code",
   "execution_count": 65,
   "id": "db2adf33",
   "metadata": {},
   "outputs": [
    {
     "data": {
      "text/plain": [
       "array([[[ 1.94274289,  0.19648732],\n",
       "        [ 0.34864082,  1.45260039],\n",
       "        [ 1.44545229,  0.24721168]],\n",
       "\n",
       "       [[ 1.18536831,  1.71295059],\n",
       "        [ 0.29568802,  0.40277985],\n",
       "        [ 4.14400118,  0.62352713]],\n",
       "\n",
       "       [[ 3.91934108,  1.65269884],\n",
       "        [ 0.81695325,  0.59744301],\n",
       "        [ 0.37926005,  0.41834199]],\n",
       "\n",
       "       ...,\n",
       "\n",
       "       [[ 0.27441095,  0.23952366],\n",
       "        [ 0.95906791,  6.51715162],\n",
       "        [ 3.86127059,  0.46188448]],\n",
       "\n",
       "       [[ 0.39902283,  0.59768032],\n",
       "        [ 1.09368869,  0.65097647],\n",
       "        [ 2.59046039,  1.55715369]],\n",
       "\n",
       "       [[ 0.36992952, 10.35780819],\n",
       "        [ 3.43669276,  1.89378678],\n",
       "        [ 1.85491666,  3.52821315]]])"
      ]
     },
     "execution_count": 65,
     "metadata": {},
     "output_type": "execute_result"
    }
   ],
   "source": [
    "np.array(r2[\"x_j\"])"
   ]
  },
  {
   "cell_type": "code",
   "execution_count": null,
   "id": "1bbd225c",
   "metadata": {},
   "outputs": [],
   "source": []
  },
  {
   "cell_type": "code",
   "execution_count": null,
   "id": "f6a04758",
   "metadata": {},
   "outputs": [],
   "source": []
  },
  {
   "cell_type": "code",
   "execution_count": 82,
   "id": "42eb7c0b",
   "metadata": {},
   "outputs": [
    {
     "data": {
      "text/plain": [
       "[[0.02864994429874386, 0.003920846945755303],\n",
       " [2.9632247509530467, 0.9861663961186699],\n",
       " [10.070883148750413, 0.003437592157254026]]"
      ]
     },
     "execution_count": 82,
     "metadata": {},
     "output_type": "execute_result"
    }
   ],
   "source": [
    "r2[\"y_j\"][0]"
   ]
  },
  {
   "cell_type": "code",
   "execution_count": 88,
   "id": "3c005f5d",
   "metadata": {},
   "outputs": [],
   "source": [
    "i = 2"
   ]
  },
  {
   "cell_type": "code",
   "execution_count": 89,
   "id": "6d415606",
   "metadata": {
    "scrolled": true
   },
   "outputs": [
    {
     "data": {
      "text/plain": [
       "[1.4506195691572346, -0.026418988962673057, 0.9244020085317628]"
      ]
     },
     "execution_count": 89,
     "metadata": {},
     "output_type": "execute_result"
    }
   ],
   "source": [
    "r2[\"x\"][i]"
   ]
  },
  {
   "cell_type": "code",
   "execution_count": 90,
   "id": "ea0e2fff",
   "metadata": {},
   "outputs": [
    {
     "data": {
      "text/plain": [
       "[-6.761804273535427, -3.1247897660117503, -2.6808925088734696]"
      ]
     },
     "execution_count": 90,
     "metadata": {},
     "output_type": "execute_result"
    }
   ],
   "source": [
    "r2[\"y\"][i]"
   ]
  },
  {
   "cell_type": "code",
   "execution_count": 91,
   "id": "af8b639c",
   "metadata": {},
   "outputs": [
    {
     "data": {
      "text/plain": [
       "[-0.10340364961785803, -0.24498513501614072, 0.037524276546244045]"
      ]
     },
     "execution_count": 91,
     "metadata": {},
     "output_type": "execute_result"
    }
   ],
   "source": [
    "r2[\"eu_pr\"][i]"
   ]
  },
  {
   "cell_type": "code",
   "execution_count": 92,
   "id": "43663e75",
   "metadata": {},
   "outputs": [
    {
     "data": {
      "text/plain": [
       "[0.23580411154676473, 0.10061707741067027, 0.36906980155485813]"
      ]
     },
     "execution_count": 92,
     "metadata": {},
     "output_type": "execute_result"
    }
   ],
   "source": [
    "r2[\"eu_pw\"][i]"
   ]
  }
 ],
 "metadata": {
  "kernelspec": {
   "display_name": "Python 3 (ipykernel)",
   "language": "python",
   "name": "python3"
  },
  "language_info": {
   "codemirror_mode": {
    "name": "ipython",
    "version": 3
   },
   "file_extension": ".py",
   "mimetype": "text/x-python",
   "name": "python",
   "nbconvert_exporter": "python",
   "pygments_lexer": "ipython3",
   "version": "3.9.7"
  }
 },
 "nbformat": 4,
 "nbformat_minor": 5
}
